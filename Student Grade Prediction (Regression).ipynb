{
 "cells": [
  {
   "cell_type": "markdown",
   "id": "0bdbb438",
   "metadata": {},
   "source": [
    "### 1. Importing necessary libraries"
   ]
  },
  {
   "cell_type": "code",
   "execution_count": 1,
   "id": "fa3f21e0",
   "metadata": {},
   "outputs": [],
   "source": [
    "import pandas as pd\n",
    "import numpy as np\n",
    "import matplotlib.pyplot as plt\n",
    "import seaborn as sns\n",
    "import warnings\n",
    "warnings.filterwarnings('ignore')\n",
    "%matplotlib inline\n",
    "\n",
    "#Statistics\n",
    "from scipy import stats\n",
    "from scipy.stats import skew\n",
    "from statsmodels.stats.outliers_influence import variance_inflation_factor\n",
    "\n",
    "#Regression Models\n",
    "from sklearn.linear_model import LinearRegression\n",
    "from sklearn.linear_model import Ridge, Lasso\n",
    "from xgboost import XGBRegressor\n",
    "\n",
    "#Splitting data\n",
    "from sklearn.model_selection import train_test_split\n",
    "\n",
    "#One hot encoding\n",
    "from sklearn.preprocessing import OneHotEncoder\n",
    "\n",
    "#Parameters\n",
    "from sklearn.model_selection import GridSearchCV\n",
    "\n",
    "#Evaluation\n",
    "from sklearn.metrics import mean_squared_error, mean_absolute_error, r2_score\n",
    "from sklearn.model_selection import cross_val_score"
   ]
  },
  {
   "cell_type": "markdown",
   "id": "f7aa8cb2",
   "metadata": {},
   "source": [
    "### 2. Data Exploration"
   ]
  },
  {
   "cell_type": "markdown",
   "id": "8b82124e",
   "metadata": {},
   "source": [
    "#### 2.1 dataset"
   ]
  },
  {
   "cell_type": "code",
   "execution_count": 2,
   "id": "5108d823",
   "metadata": {},
   "outputs": [
    {
     "data": {
      "text/html": [
       "<div>\n",
       "<style scoped>\n",
       "    .dataframe tbody tr th:only-of-type {\n",
       "        vertical-align: middle;\n",
       "    }\n",
       "\n",
       "    .dataframe tbody tr th {\n",
       "        vertical-align: top;\n",
       "    }\n",
       "\n",
       "    .dataframe thead th {\n",
       "        text-align: right;\n",
       "    }\n",
       "</style>\n",
       "<table border=\"1\" class=\"dataframe\">\n",
       "  <thead>\n",
       "    <tr style=\"text-align: right;\">\n",
       "      <th></th>\n",
       "      <th>school</th>\n",
       "      <th>sex</th>\n",
       "      <th>age</th>\n",
       "      <th>address</th>\n",
       "      <th>famsize</th>\n",
       "      <th>Pstatus</th>\n",
       "      <th>Medu</th>\n",
       "      <th>Fedu</th>\n",
       "      <th>Mjob</th>\n",
       "      <th>Fjob</th>\n",
       "      <th>...</th>\n",
       "      <th>famrel</th>\n",
       "      <th>freetime</th>\n",
       "      <th>goout</th>\n",
       "      <th>Dalc</th>\n",
       "      <th>Walc</th>\n",
       "      <th>health</th>\n",
       "      <th>absences</th>\n",
       "      <th>G1</th>\n",
       "      <th>G2</th>\n",
       "      <th>G3</th>\n",
       "    </tr>\n",
       "  </thead>\n",
       "  <tbody>\n",
       "    <tr>\n",
       "      <th>0</th>\n",
       "      <td>GP</td>\n",
       "      <td>F</td>\n",
       "      <td>18</td>\n",
       "      <td>U</td>\n",
       "      <td>GT3</td>\n",
       "      <td>A</td>\n",
       "      <td>4</td>\n",
       "      <td>4</td>\n",
       "      <td>at_home</td>\n",
       "      <td>teacher</td>\n",
       "      <td>...</td>\n",
       "      <td>4</td>\n",
       "      <td>3</td>\n",
       "      <td>4</td>\n",
       "      <td>1</td>\n",
       "      <td>1</td>\n",
       "      <td>3</td>\n",
       "      <td>6</td>\n",
       "      <td>5</td>\n",
       "      <td>6</td>\n",
       "      <td>6</td>\n",
       "    </tr>\n",
       "    <tr>\n",
       "      <th>1</th>\n",
       "      <td>GP</td>\n",
       "      <td>F</td>\n",
       "      <td>17</td>\n",
       "      <td>U</td>\n",
       "      <td>GT3</td>\n",
       "      <td>T</td>\n",
       "      <td>1</td>\n",
       "      <td>1</td>\n",
       "      <td>at_home</td>\n",
       "      <td>other</td>\n",
       "      <td>...</td>\n",
       "      <td>5</td>\n",
       "      <td>3</td>\n",
       "      <td>3</td>\n",
       "      <td>1</td>\n",
       "      <td>1</td>\n",
       "      <td>3</td>\n",
       "      <td>4</td>\n",
       "      <td>5</td>\n",
       "      <td>5</td>\n",
       "      <td>6</td>\n",
       "    </tr>\n",
       "    <tr>\n",
       "      <th>2</th>\n",
       "      <td>GP</td>\n",
       "      <td>F</td>\n",
       "      <td>15</td>\n",
       "      <td>U</td>\n",
       "      <td>LE3</td>\n",
       "      <td>T</td>\n",
       "      <td>1</td>\n",
       "      <td>1</td>\n",
       "      <td>at_home</td>\n",
       "      <td>other</td>\n",
       "      <td>...</td>\n",
       "      <td>4</td>\n",
       "      <td>3</td>\n",
       "      <td>2</td>\n",
       "      <td>2</td>\n",
       "      <td>3</td>\n",
       "      <td>3</td>\n",
       "      <td>10</td>\n",
       "      <td>7</td>\n",
       "      <td>8</td>\n",
       "      <td>10</td>\n",
       "    </tr>\n",
       "    <tr>\n",
       "      <th>3</th>\n",
       "      <td>GP</td>\n",
       "      <td>F</td>\n",
       "      <td>15</td>\n",
       "      <td>U</td>\n",
       "      <td>GT3</td>\n",
       "      <td>T</td>\n",
       "      <td>4</td>\n",
       "      <td>2</td>\n",
       "      <td>health</td>\n",
       "      <td>services</td>\n",
       "      <td>...</td>\n",
       "      <td>3</td>\n",
       "      <td>2</td>\n",
       "      <td>2</td>\n",
       "      <td>1</td>\n",
       "      <td>1</td>\n",
       "      <td>5</td>\n",
       "      <td>2</td>\n",
       "      <td>15</td>\n",
       "      <td>14</td>\n",
       "      <td>15</td>\n",
       "    </tr>\n",
       "    <tr>\n",
       "      <th>4</th>\n",
       "      <td>GP</td>\n",
       "      <td>F</td>\n",
       "      <td>16</td>\n",
       "      <td>U</td>\n",
       "      <td>GT3</td>\n",
       "      <td>T</td>\n",
       "      <td>3</td>\n",
       "      <td>3</td>\n",
       "      <td>other</td>\n",
       "      <td>other</td>\n",
       "      <td>...</td>\n",
       "      <td>4</td>\n",
       "      <td>3</td>\n",
       "      <td>2</td>\n",
       "      <td>1</td>\n",
       "      <td>2</td>\n",
       "      <td>5</td>\n",
       "      <td>4</td>\n",
       "      <td>6</td>\n",
       "      <td>10</td>\n",
       "      <td>10</td>\n",
       "    </tr>\n",
       "  </tbody>\n",
       "</table>\n",
       "<p>5 rows × 33 columns</p>\n",
       "</div>"
      ],
      "text/plain": [
       "  school sex  age address famsize Pstatus  Medu  Fedu     Mjob      Fjob  ...  \\\n",
       "0     GP   F   18       U     GT3       A     4     4  at_home   teacher  ...   \n",
       "1     GP   F   17       U     GT3       T     1     1  at_home     other  ...   \n",
       "2     GP   F   15       U     LE3       T     1     1  at_home     other  ...   \n",
       "3     GP   F   15       U     GT3       T     4     2   health  services  ...   \n",
       "4     GP   F   16       U     GT3       T     3     3    other     other  ...   \n",
       "\n",
       "  famrel freetime  goout  Dalc  Walc health absences  G1  G2  G3  \n",
       "0      4        3      4     1     1      3        6   5   6   6  \n",
       "1      5        3      3     1     1      3        4   5   5   6  \n",
       "2      4        3      2     2     3      3       10   7   8  10  \n",
       "3      3        2      2     1     1      5        2  15  14  15  \n",
       "4      4        3      2     1     2      5        4   6  10  10  \n",
       "\n",
       "[5 rows x 33 columns]"
      ]
     },
     "execution_count": 2,
     "metadata": {},
     "output_type": "execute_result"
    }
   ],
   "source": [
    "#Upload dataset\n",
    "student=pd.read_csv('student-mat.csv', sep=';')\n",
    "student.head()"
   ]
  },
  {
   "cell_type": "code",
   "execution_count": 3,
   "id": "6fd017f6",
   "metadata": {},
   "outputs": [
    {
     "data": {
      "text/plain": [
       "(395, 33)"
      ]
     },
     "execution_count": 3,
     "metadata": {},
     "output_type": "execute_result"
    }
   ],
   "source": [
    "#Shape\n",
    "student.shape"
   ]
  },
  {
   "cell_type": "code",
   "execution_count": 4,
   "id": "81dab21f",
   "metadata": {},
   "outputs": [
    {
     "name": "stdout",
     "output_type": "stream",
     "text": [
      "<class 'pandas.core.frame.DataFrame'>\n",
      "RangeIndex: 395 entries, 0 to 394\n",
      "Data columns (total 33 columns):\n",
      " #   Column      Non-Null Count  Dtype \n",
      "---  ------      --------------  ----- \n",
      " 0   school      395 non-null    object\n",
      " 1   sex         395 non-null    object\n",
      " 2   age         395 non-null    int64 \n",
      " 3   address     395 non-null    object\n",
      " 4   famsize     395 non-null    object\n",
      " 5   Pstatus     395 non-null    object\n",
      " 6   Medu        395 non-null    int64 \n",
      " 7   Fedu        395 non-null    int64 \n",
      " 8   Mjob        395 non-null    object\n",
      " 9   Fjob        395 non-null    object\n",
      " 10  reason      395 non-null    object\n",
      " 11  guardian    395 non-null    object\n",
      " 12  traveltime  395 non-null    int64 \n",
      " 13  studytime   395 non-null    int64 \n",
      " 14  failures    395 non-null    int64 \n",
      " 15  schoolsup   395 non-null    object\n",
      " 16  famsup      395 non-null    object\n",
      " 17  paid        395 non-null    object\n",
      " 18  activities  395 non-null    object\n",
      " 19  nursery     395 non-null    object\n",
      " 20  higher      395 non-null    object\n",
      " 21  internet    395 non-null    object\n",
      " 22  romantic    395 non-null    object\n",
      " 23  famrel      395 non-null    int64 \n",
      " 24  freetime    395 non-null    int64 \n",
      " 25  goout       395 non-null    int64 \n",
      " 26  Dalc        395 non-null    int64 \n",
      " 27  Walc        395 non-null    int64 \n",
      " 28  health      395 non-null    int64 \n",
      " 29  absences    395 non-null    int64 \n",
      " 30  G1          395 non-null    int64 \n",
      " 31  G2          395 non-null    int64 \n",
      " 32  G3          395 non-null    int64 \n",
      "dtypes: int64(16), object(17)\n",
      "memory usage: 102.0+ KB\n"
     ]
    }
   ],
   "source": [
    "#Column information\n",
    "student.info()"
   ]
  },
  {
   "cell_type": "markdown",
   "id": "ad6a1f06",
   "metadata": {},
   "source": [
    "-> There is no null data, each column has 395 rows!"
   ]
  },
  {
   "cell_type": "code",
   "execution_count": 5,
   "id": "b0027f87",
   "metadata": {},
   "outputs": [
    {
     "data": {
      "text/html": [
       "<div>\n",
       "<style scoped>\n",
       "    .dataframe tbody tr th:only-of-type {\n",
       "        vertical-align: middle;\n",
       "    }\n",
       "\n",
       "    .dataframe tbody tr th {\n",
       "        vertical-align: top;\n",
       "    }\n",
       "\n",
       "    .dataframe thead th {\n",
       "        text-align: right;\n",
       "    }\n",
       "</style>\n",
       "<table border=\"1\" class=\"dataframe\">\n",
       "  <thead>\n",
       "    <tr style=\"text-align: right;\">\n",
       "      <th></th>\n",
       "      <th>age</th>\n",
       "      <th>Medu</th>\n",
       "      <th>Fedu</th>\n",
       "      <th>traveltime</th>\n",
       "      <th>studytime</th>\n",
       "      <th>failures</th>\n",
       "      <th>famrel</th>\n",
       "      <th>freetime</th>\n",
       "      <th>goout</th>\n",
       "      <th>Dalc</th>\n",
       "      <th>Walc</th>\n",
       "      <th>health</th>\n",
       "      <th>absences</th>\n",
       "      <th>G1</th>\n",
       "      <th>G2</th>\n",
       "      <th>G3</th>\n",
       "    </tr>\n",
       "  </thead>\n",
       "  <tbody>\n",
       "    <tr>\n",
       "      <th>count</th>\n",
       "      <td>395.000000</td>\n",
       "      <td>395.000000</td>\n",
       "      <td>395.000000</td>\n",
       "      <td>395.000000</td>\n",
       "      <td>395.000000</td>\n",
       "      <td>395.000000</td>\n",
       "      <td>395.000000</td>\n",
       "      <td>395.000000</td>\n",
       "      <td>395.000000</td>\n",
       "      <td>395.000000</td>\n",
       "      <td>395.000000</td>\n",
       "      <td>395.000000</td>\n",
       "      <td>395.000000</td>\n",
       "      <td>395.000000</td>\n",
       "      <td>395.000000</td>\n",
       "      <td>395.000000</td>\n",
       "    </tr>\n",
       "    <tr>\n",
       "      <th>mean</th>\n",
       "      <td>16.696203</td>\n",
       "      <td>2.749367</td>\n",
       "      <td>2.521519</td>\n",
       "      <td>1.448101</td>\n",
       "      <td>2.035443</td>\n",
       "      <td>0.334177</td>\n",
       "      <td>3.944304</td>\n",
       "      <td>3.235443</td>\n",
       "      <td>3.108861</td>\n",
       "      <td>1.481013</td>\n",
       "      <td>2.291139</td>\n",
       "      <td>3.554430</td>\n",
       "      <td>5.708861</td>\n",
       "      <td>10.908861</td>\n",
       "      <td>10.713924</td>\n",
       "      <td>10.415190</td>\n",
       "    </tr>\n",
       "    <tr>\n",
       "      <th>std</th>\n",
       "      <td>1.276043</td>\n",
       "      <td>1.094735</td>\n",
       "      <td>1.088201</td>\n",
       "      <td>0.697505</td>\n",
       "      <td>0.839240</td>\n",
       "      <td>0.743651</td>\n",
       "      <td>0.896659</td>\n",
       "      <td>0.998862</td>\n",
       "      <td>1.113278</td>\n",
       "      <td>0.890741</td>\n",
       "      <td>1.287897</td>\n",
       "      <td>1.390303</td>\n",
       "      <td>8.003096</td>\n",
       "      <td>3.319195</td>\n",
       "      <td>3.761505</td>\n",
       "      <td>4.581443</td>\n",
       "    </tr>\n",
       "    <tr>\n",
       "      <th>min</th>\n",
       "      <td>15.000000</td>\n",
       "      <td>0.000000</td>\n",
       "      <td>0.000000</td>\n",
       "      <td>1.000000</td>\n",
       "      <td>1.000000</td>\n",
       "      <td>0.000000</td>\n",
       "      <td>1.000000</td>\n",
       "      <td>1.000000</td>\n",
       "      <td>1.000000</td>\n",
       "      <td>1.000000</td>\n",
       "      <td>1.000000</td>\n",
       "      <td>1.000000</td>\n",
       "      <td>0.000000</td>\n",
       "      <td>3.000000</td>\n",
       "      <td>0.000000</td>\n",
       "      <td>0.000000</td>\n",
       "    </tr>\n",
       "    <tr>\n",
       "      <th>25%</th>\n",
       "      <td>16.000000</td>\n",
       "      <td>2.000000</td>\n",
       "      <td>2.000000</td>\n",
       "      <td>1.000000</td>\n",
       "      <td>1.000000</td>\n",
       "      <td>0.000000</td>\n",
       "      <td>4.000000</td>\n",
       "      <td>3.000000</td>\n",
       "      <td>2.000000</td>\n",
       "      <td>1.000000</td>\n",
       "      <td>1.000000</td>\n",
       "      <td>3.000000</td>\n",
       "      <td>0.000000</td>\n",
       "      <td>8.000000</td>\n",
       "      <td>9.000000</td>\n",
       "      <td>8.000000</td>\n",
       "    </tr>\n",
       "    <tr>\n",
       "      <th>50%</th>\n",
       "      <td>17.000000</td>\n",
       "      <td>3.000000</td>\n",
       "      <td>2.000000</td>\n",
       "      <td>1.000000</td>\n",
       "      <td>2.000000</td>\n",
       "      <td>0.000000</td>\n",
       "      <td>4.000000</td>\n",
       "      <td>3.000000</td>\n",
       "      <td>3.000000</td>\n",
       "      <td>1.000000</td>\n",
       "      <td>2.000000</td>\n",
       "      <td>4.000000</td>\n",
       "      <td>4.000000</td>\n",
       "      <td>11.000000</td>\n",
       "      <td>11.000000</td>\n",
       "      <td>11.000000</td>\n",
       "    </tr>\n",
       "    <tr>\n",
       "      <th>75%</th>\n",
       "      <td>18.000000</td>\n",
       "      <td>4.000000</td>\n",
       "      <td>3.000000</td>\n",
       "      <td>2.000000</td>\n",
       "      <td>2.000000</td>\n",
       "      <td>0.000000</td>\n",
       "      <td>5.000000</td>\n",
       "      <td>4.000000</td>\n",
       "      <td>4.000000</td>\n",
       "      <td>2.000000</td>\n",
       "      <td>3.000000</td>\n",
       "      <td>5.000000</td>\n",
       "      <td>8.000000</td>\n",
       "      <td>13.000000</td>\n",
       "      <td>13.000000</td>\n",
       "      <td>14.000000</td>\n",
       "    </tr>\n",
       "    <tr>\n",
       "      <th>max</th>\n",
       "      <td>22.000000</td>\n",
       "      <td>4.000000</td>\n",
       "      <td>4.000000</td>\n",
       "      <td>4.000000</td>\n",
       "      <td>4.000000</td>\n",
       "      <td>3.000000</td>\n",
       "      <td>5.000000</td>\n",
       "      <td>5.000000</td>\n",
       "      <td>5.000000</td>\n",
       "      <td>5.000000</td>\n",
       "      <td>5.000000</td>\n",
       "      <td>5.000000</td>\n",
       "      <td>75.000000</td>\n",
       "      <td>19.000000</td>\n",
       "      <td>19.000000</td>\n",
       "      <td>20.000000</td>\n",
       "    </tr>\n",
       "  </tbody>\n",
       "</table>\n",
       "</div>"
      ],
      "text/plain": [
       "              age        Medu        Fedu  traveltime   studytime    failures  \\\n",
       "count  395.000000  395.000000  395.000000  395.000000  395.000000  395.000000   \n",
       "mean    16.696203    2.749367    2.521519    1.448101    2.035443    0.334177   \n",
       "std      1.276043    1.094735    1.088201    0.697505    0.839240    0.743651   \n",
       "min     15.000000    0.000000    0.000000    1.000000    1.000000    0.000000   \n",
       "25%     16.000000    2.000000    2.000000    1.000000    1.000000    0.000000   \n",
       "50%     17.000000    3.000000    2.000000    1.000000    2.000000    0.000000   \n",
       "75%     18.000000    4.000000    3.000000    2.000000    2.000000    0.000000   \n",
       "max     22.000000    4.000000    4.000000    4.000000    4.000000    3.000000   \n",
       "\n",
       "           famrel    freetime       goout        Dalc        Walc      health  \\\n",
       "count  395.000000  395.000000  395.000000  395.000000  395.000000  395.000000   \n",
       "mean     3.944304    3.235443    3.108861    1.481013    2.291139    3.554430   \n",
       "std      0.896659    0.998862    1.113278    0.890741    1.287897    1.390303   \n",
       "min      1.000000    1.000000    1.000000    1.000000    1.000000    1.000000   \n",
       "25%      4.000000    3.000000    2.000000    1.000000    1.000000    3.000000   \n",
       "50%      4.000000    3.000000    3.000000    1.000000    2.000000    4.000000   \n",
       "75%      5.000000    4.000000    4.000000    2.000000    3.000000    5.000000   \n",
       "max      5.000000    5.000000    5.000000    5.000000    5.000000    5.000000   \n",
       "\n",
       "         absences          G1          G2          G3  \n",
       "count  395.000000  395.000000  395.000000  395.000000  \n",
       "mean     5.708861   10.908861   10.713924   10.415190  \n",
       "std      8.003096    3.319195    3.761505    4.581443  \n",
       "min      0.000000    3.000000    0.000000    0.000000  \n",
       "25%      0.000000    8.000000    9.000000    8.000000  \n",
       "50%      4.000000   11.000000   11.000000   11.000000  \n",
       "75%      8.000000   13.000000   13.000000   14.000000  \n",
       "max     75.000000   19.000000   19.000000   20.000000  "
      ]
     },
     "execution_count": 5,
     "metadata": {},
     "output_type": "execute_result"
    }
   ],
   "source": [
    "student.describe()"
   ]
  },
  {
   "cell_type": "markdown",
   "id": "325711d9",
   "metadata": {},
   "source": [
    "#### Attributes for both student-mat.csv (Math course) datasets:\n",
    "1 school - student's school (binary: 'GP' - Gabriel Pereira or 'MS' - Mousinho da Silveira)\n",
    "\n",
    "2 sex - student's sex (binary: 'F' - female or 'M' - male)\n",
    "\n",
    "3 age - student's age (numeric: from 15 to 22/ mean:16.69)\n",
    "\n",
    "4 address - student's home address type (binary: 'U' - urban or 'R' - rural)\n",
    "\n",
    "5 famsize - family size (binary: 'LE3' - less or equal to 3 or 'GT3' - greater than 3)\n",
    "\n",
    "6 Pstatus - parent's cohabitation status (binary: 'T' - living together or 'A' - apart)\n",
    "\n",
    "7 Medu - mother's education (ordinal: 0 - none, 1 - primary education (4th grade), 2 -“ 5th to 9th grade, 3-“ secondary education or 4 -“ higher education)\n",
    "\n",
    "8 Fedu - father's education (ordinal: 0 - none, 1 - primary education (4th grade), 2 -“ 5th to 9th grade, 3 -“ secondary education or 4 -“ higher education)\n",
    "\n",
    "9 Mjob - mother's job (nominal: 'teacher', 'health' care related, civil 'services' (e.g. administrative or police), 'at_home' or 'other')--> Why they classify jobs to these five?\n",
    "\n",
    "10 Fjob - father's job (nominal: 'teacher', 'health' care related, civil 'services' (e.g. administrative or police), 'at_home' or 'other')\n",
    "\n",
    "11 reason - reason to choose this school (nominal: close to 'home', school 'reputation', 'course' preference or 'other')\n",
    "\n",
    "12 guardian - student's guardian (nominal: 'mother', 'father' or 'other')\n",
    "\n",
    "13 traveltime - home to school travel time (nominal: 1 - <15 min., 2 - 15 to 30 min., 3 - 30 min. to 1 hour, or 4 - >1 hour)\n",
    "\n",
    "14 studytime - weekly study time (nominal: 1 - <2 hours, 2 - 2 to 5 hours, 3 - 5 to 10 hours, or 4 - >10 hours)\n",
    "\n",
    "15 failures - number of past class failures (nominal: n if 1<=n<3, else 4)\n",
    "\n",
    "16 schoolsup - extra educational support (binary: yes or no)\n",
    "\n",
    "17 famsup - family educational support (binary: yes or no)\n",
    "\n",
    "18 paid - extra paid classes within the course subject (Math or Portuguese) (binary: yes or no)\n",
    "\n",
    "19 activities - extra-curricular activities (binary: yes or no)\n",
    "\n",
    "20 nursery - attended nursery school (binary: yes or no)\n",
    "\n",
    "21 higher - wants to take higher education (binary: yes or no)\n",
    "\n",
    "22 internet - Internet access at home (binary: yes or no)\n",
    "\n",
    "23 romantic - with a romantic relationship (binary: yes or no)\n",
    "\n",
    "24 famrel - quality of family relationships (ordinal: from 1 - very bad to 5 - excellent)\n",
    "\n",
    "25 freetime - free time after school (ordinal: from 1 - very low to 5 - very high)\n",
    "\n",
    "26 goout - going out with friends (ordinal: from 1 - very low to 5 - very high)\n",
    "\n",
    "27 Dalc - workday alcohol consumption (ordinal: from 1 - very low to 5 - very high)\n",
    "\n",
    "28 Walc - weekend alcohol consumption (ordinal: from 1 - very low to 5 - very high)\n",
    "\n",
    "29 health - current health status (ordinal: from 1 - very bad to 5 - very good)\n",
    "\n",
    "30 absences - number of school absences (numeric: from 0 to 93)\n",
    "\n",
    "#### these grades are related with the course subject\n",
    "31 G1 - first period grade (numeric: from 0 to 20)\n",
    "\n",
    "31 G2 - second period grade (numeric: from 0 to 20)\n",
    "\n",
    "32 G3 - final grade (numeric: from 0 to 20, output target)\n",
    "\n",
    "--> Among 33 features, there are 5 numeric; 28 categorical varaibles"
   ]
  },
  {
   "cell_type": "markdown",
   "id": "8bf1f8e9",
   "metadata": {},
   "source": [
    "#### 2.2 Exploring features\n",
    "   "
   ]
  },
  {
   "cell_type": "code",
   "execution_count": 6,
   "id": "a797faff",
   "metadata": {},
   "outputs": [],
   "source": [
    "#Countplot\n",
    "stu_col=student.columns\n",
    "def get_countplot(columns):\n",
    "    fig,axs=plt.subplots(nrows=11, ncols=3, figsize=(20,40))\n",
    "    for column in list(enumerate(columns)):\n",
    "        index=column[0]\n",
    "        column_name=column[1]\n",
    "        row=int(index/3)\n",
    "        col=int(index%3)\n",
    "        sns.countplot(x=column_name, data=student, ax=axs[row,col])  "
   ]
  },
  {
   "cell_type": "code",
   "execution_count": 7,
   "id": "52e45a24",
   "metadata": {},
   "outputs": [
    {
     "name": "stderr",
     "output_type": "stream",
     "text": [
      "findfont: Font family ['Hancom Gothic Regular'] not found. Falling back to DejaVu Sans.\n"
     ]
    },
    {
     "data": {
      "image/png": "[encoded data removed]",
      "text/plain": [
       "<Figure size 1440x2880 with 33 Axes>"
      ]
     },
     "metadata": {
      "needs_background": "light"
     },
     "output_type": "display_data"
    }
   ],
   "source": [
    "countplot=get_countplot(stu_col)\n",
    "countplot"
   ]
  },
  {
   "cell_type": "markdown",
   "id": "a9022d32",
   "metadata": {},
   "source": [
    "#### Findings\n",
    "1. ['absences'] -> Even numbers significantly more than odd numbers. \n",
    "2. ['G3']-> 38 studnets get 0 points. "
   ]
  },
  {
   "cell_type": "markdown",
   "id": "0fcf775a",
   "metadata": {},
   "source": [
    "##### 2.2.1 Target- G3"
   ]
  },
  {
   "cell_type": "code",
   "execution_count": 8,
   "id": "a40fa7a7",
   "metadata": {},
   "outputs": [
    {
     "data": {
      "text/plain": [
       "<AxesSubplot:xlabel='G3', ylabel='Count'>"
      ]
     },
     "execution_count": 8,
     "metadata": {},
     "output_type": "execute_result"
    },
    {
     "data": {
      "image/png": "[encoded data removed]",
      "text/plain": [
       "<Figure size 432x288 with 1 Axes>"
      ]
     },
     "metadata": {
      "needs_background": "light"
     },
     "output_type": "display_data"
    }
   ],
   "source": [
    "sns.histplot(data=student, x='G3')"
   ]
  },
  {
   "cell_type": "markdown",
   "id": "0106befe",
   "metadata": {},
   "source": [
    "###### 2.2.1.1. skew()"
   ]
  },
  {
   "cell_type": "code",
   "execution_count": 9,
   "id": "e3141e5c",
   "metadata": {},
   "outputs": [
    {
     "name": "stdout",
     "output_type": "stream",
     "text": [
      "-0.7298871128420806\n"
     ]
    }
   ],
   "source": [
    "check_skew=skew(student['G3'])\n",
    "print(check_skew)"
   ]
  },
  {
   "cell_type": "markdown",
   "id": "85ece991",
   "metadata": {},
   "source": [
    "--> The 'G3' data are roughly normally distributed.\n",
    "A striking pattern is that there are noticeably many zeros. "
   ]
  },
  {
   "cell_type": "markdown",
   "id": "2d38262d",
   "metadata": {},
   "source": [
    "##### 2.2.2 student['G3']\n"
   ]
  },
  {
   "cell_type": "code",
   "execution_count": 10,
   "id": "7f534459",
   "metadata": {},
   "outputs": [
    {
     "data": {
      "text/html": [
       "<div>\n",
       "<style scoped>\n",
       "    .dataframe tbody tr th:only-of-type {\n",
       "        vertical-align: middle;\n",
       "    }\n",
       "\n",
       "    .dataframe tbody tr th {\n",
       "        vertical-align: top;\n",
       "    }\n",
       "\n",
       "    .dataframe thead th {\n",
       "        text-align: right;\n",
       "    }\n",
       "</style>\n",
       "<table border=\"1\" class=\"dataframe\">\n",
       "  <thead>\n",
       "    <tr style=\"text-align: right;\">\n",
       "      <th></th>\n",
       "      <th>school</th>\n",
       "      <th>sex</th>\n",
       "      <th>age</th>\n",
       "      <th>address</th>\n",
       "      <th>famsize</th>\n",
       "      <th>Pstatus</th>\n",
       "      <th>Medu</th>\n",
       "      <th>Fedu</th>\n",
       "      <th>Mjob</th>\n",
       "      <th>Fjob</th>\n",
       "      <th>...</th>\n",
       "      <th>famrel</th>\n",
       "      <th>freetime</th>\n",
       "      <th>goout</th>\n",
       "      <th>Dalc</th>\n",
       "      <th>Walc</th>\n",
       "      <th>health</th>\n",
       "      <th>absences</th>\n",
       "      <th>G1</th>\n",
       "      <th>G2</th>\n",
       "      <th>G3</th>\n",
       "    </tr>\n",
       "  </thead>\n",
       "  <tbody>\n",
       "  </tbody>\n",
       "</table>\n",
       "<p>0 rows × 33 columns</p>\n",
       "</div>"
      ],
      "text/plain": [
       "Empty DataFrame\n",
       "Columns: [school, sex, age, address, famsize, Pstatus, Medu, Fedu, Mjob, Fjob, reason, guardian, traveltime, studytime, failures, schoolsup, famsup, paid, activities, nursery, higher, internet, romantic, famrel, freetime, goout, Dalc, Walc, health, absences, G1, G2, G3]\n",
       "Index: []\n",
       "\n",
       "[0 rows x 33 columns]"
      ]
     },
     "execution_count": 10,
     "metadata": {},
     "output_type": "execute_result"
    }
   ],
   "source": [
    "g3_0_abs=student[(student['G3']==0) & (student['absences']>0)]\n",
    "g3_0_abs"
   ]
  },
  {
   "cell_type": "markdown",
   "id": "b59706ef",
   "metadata": {},
   "source": [
    "##### Findings\n",
    "38 studnets get 0 points. None of them have ever been absent, which means that it is unlikely that they have received a zero point for an absence on test day. \n",
    "\n",
    "*my solution: If they got 10 or more points at least once in G1 or G2, it will be considered an outlier and will be deleted."
   ]
  },
  {
   "cell_type": "code",
   "execution_count": 15,
   "id": "1ff446ae",
   "metadata": {},
   "outputs": [],
   "source": [
    "g3_outlier=[]\n",
    "g3_0=student[student['G3']==0]\n",
    "for index,row in g3_0.iterrows():\n",
    "    if row['G2']>=10 or row['G1'] >=10:\n",
    "        g3_outlier.append(index)"
   ]
  },
  {
   "cell_type": "code",
   "execution_count": 16,
   "id": "88d9ce82",
   "metadata": {},
   "outputs": [
    {
     "name": "stdout",
     "output_type": "stream",
     "text": [
      "[130, 135, 136, 259, 264, 296, 334, 341]\n"
     ]
    }
   ],
   "source": [
    "#Index of students with a G3 of 0 among students who scored at least 10 on the previous test\n",
    "#They will be deleted during data preprocessing\n",
    "print(g3_outlier)  "
   ]
  },
  {
   "cell_type": "markdown",
   "id": "5e010498",
   "metadata": {},
   "source": [
    "##### 2.2.3 student['absences'] "
   ]
  },
  {
   "cell_type": "code",
   "execution_count": 13,
   "id": "ca56899c",
   "metadata": {},
   "outputs": [
    {
     "data": {
      "text/plain": [
       "<AxesSubplot:xlabel='absences', ylabel='count'>"
      ]
     },
     "execution_count": 13,
     "metadata": {},
     "output_type": "execute_result"
    },
    {
     "data": {
      "image/png": "[encoded data removed]",
      "text/plain": [
       "<Figure size 432x288 with 1 Axes>"
      ]
     },
     "metadata": {
      "needs_background": "light"
     },
     "output_type": "display_data"
    }
   ],
   "source": [
    "sns.countplot(x='absences', data=student)"
   ]
  },
  {
   "cell_type": "markdown",
   "id": "4b52f2a2",
   "metadata": {},
   "source": [
    "--> Even numbers significantly more than odd numbers."
   ]
  },
  {
   "cell_type": "code",
   "execution_count": 14,
   "id": "add56e52",
   "metadata": {},
   "outputs": [
    {
     "data": {
      "text/html": [
       "<div>\n",
       "<style scoped>\n",
       "    .dataframe tbody tr th:only-of-type {\n",
       "        vertical-align: middle;\n",
       "    }\n",
       "\n",
       "    .dataframe tbody tr th {\n",
       "        vertical-align: top;\n",
       "    }\n",
       "\n",
       "    .dataframe thead th {\n",
       "        text-align: right;\n",
       "    }\n",
       "</style>\n",
       "<table border=\"1\" class=\"dataframe\">\n",
       "  <thead>\n",
       "    <tr style=\"text-align: right;\">\n",
       "      <th></th>\n",
       "      <th>school</th>\n",
       "      <th>sex</th>\n",
       "      <th>age</th>\n",
       "      <th>address</th>\n",
       "      <th>famsize</th>\n",
       "      <th>Pstatus</th>\n",
       "      <th>Medu</th>\n",
       "      <th>Fedu</th>\n",
       "      <th>Mjob</th>\n",
       "      <th>Fjob</th>\n",
       "      <th>...</th>\n",
       "      <th>famrel</th>\n",
       "      <th>freetime</th>\n",
       "      <th>goout</th>\n",
       "      <th>Dalc</th>\n",
       "      <th>Walc</th>\n",
       "      <th>health</th>\n",
       "      <th>absences</th>\n",
       "      <th>G1</th>\n",
       "      <th>G2</th>\n",
       "      <th>G3</th>\n",
       "    </tr>\n",
       "  </thead>\n",
       "  <tbody>\n",
       "    <tr>\n",
       "      <th>262</th>\n",
       "      <td>GP</td>\n",
       "      <td>M</td>\n",
       "      <td>18</td>\n",
       "      <td>R</td>\n",
       "      <td>GT3</td>\n",
       "      <td>T</td>\n",
       "      <td>3</td>\n",
       "      <td>2</td>\n",
       "      <td>other</td>\n",
       "      <td>other</td>\n",
       "      <td>...</td>\n",
       "      <td>5</td>\n",
       "      <td>3</td>\n",
       "      <td>2</td>\n",
       "      <td>1</td>\n",
       "      <td>1</td>\n",
       "      <td>3</td>\n",
       "      <td>1</td>\n",
       "      <td>13</td>\n",
       "      <td>12</td>\n",
       "      <td>12</td>\n",
       "    </tr>\n",
       "    <tr>\n",
       "      <th>282</th>\n",
       "      <td>GP</td>\n",
       "      <td>F</td>\n",
       "      <td>18</td>\n",
       "      <td>R</td>\n",
       "      <td>LE3</td>\n",
       "      <td>T</td>\n",
       "      <td>1</td>\n",
       "      <td>1</td>\n",
       "      <td>at_home</td>\n",
       "      <td>other</td>\n",
       "      <td>...</td>\n",
       "      <td>5</td>\n",
       "      <td>2</td>\n",
       "      <td>2</td>\n",
       "      <td>1</td>\n",
       "      <td>1</td>\n",
       "      <td>3</td>\n",
       "      <td>1</td>\n",
       "      <td>12</td>\n",
       "      <td>12</td>\n",
       "      <td>12</td>\n",
       "    </tr>\n",
       "    <tr>\n",
       "      <th>323</th>\n",
       "      <td>GP</td>\n",
       "      <td>F</td>\n",
       "      <td>17</td>\n",
       "      <td>U</td>\n",
       "      <td>GT3</td>\n",
       "      <td>T</td>\n",
       "      <td>3</td>\n",
       "      <td>1</td>\n",
       "      <td>services</td>\n",
       "      <td>services</td>\n",
       "      <td>...</td>\n",
       "      <td>3</td>\n",
       "      <td>4</td>\n",
       "      <td>3</td>\n",
       "      <td>2</td>\n",
       "      <td>3</td>\n",
       "      <td>5</td>\n",
       "      <td>1</td>\n",
       "      <td>12</td>\n",
       "      <td>14</td>\n",
       "      <td>15</td>\n",
       "    </tr>\n",
       "  </tbody>\n",
       "</table>\n",
       "<p>3 rows × 33 columns</p>\n",
       "</div>"
      ],
      "text/plain": [
       "    school sex  age address famsize Pstatus  Medu  Fedu      Mjob      Fjob  \\\n",
       "262     GP   M   18       R     GT3       T     3     2     other     other   \n",
       "282     GP   F   18       R     LE3       T     1     1   at_home     other   \n",
       "323     GP   F   17       U     GT3       T     3     1  services  services   \n",
       "\n",
       "     ... famrel freetime  goout  Dalc  Walc health absences  G1  G2  G3  \n",
       "262  ...      5        3      2     1     1      3        1  13  12  12  \n",
       "282  ...      5        2      2     1     1      3        1  12  12  12  \n",
       "323  ...      3        4      3     2     3      5        1  12  14  15  \n",
       "\n",
       "[3 rows x 33 columns]"
      ]
     },
     "execution_count": 14,
     "metadata": {},
     "output_type": "execute_result"
    }
   ],
   "source": [
    "student[student['absences']==1]"
   ]
  },
  {
   "cell_type": "code",
   "execution_count": 15,
   "id": "d84ef92a",
   "metadata": {},
   "outputs": [
    {
     "data": {
      "text/html": [
       "<div>\n",
       "<style scoped>\n",
       "    .dataframe tbody tr th:only-of-type {\n",
       "        vertical-align: middle;\n",
       "    }\n",
       "\n",
       "    .dataframe tbody tr th {\n",
       "        vertical-align: top;\n",
       "    }\n",
       "\n",
       "    .dataframe thead th {\n",
       "        text-align: right;\n",
       "    }\n",
       "</style>\n",
       "<table border=\"1\" class=\"dataframe\">\n",
       "  <thead>\n",
       "    <tr style=\"text-align: right;\">\n",
       "      <th></th>\n",
       "      <th>school</th>\n",
       "      <th>sex</th>\n",
       "      <th>age</th>\n",
       "      <th>address</th>\n",
       "      <th>famsize</th>\n",
       "      <th>Pstatus</th>\n",
       "      <th>Medu</th>\n",
       "      <th>Fedu</th>\n",
       "      <th>Mjob</th>\n",
       "      <th>Fjob</th>\n",
       "      <th>...</th>\n",
       "      <th>famrel</th>\n",
       "      <th>freetime</th>\n",
       "      <th>goout</th>\n",
       "      <th>Dalc</th>\n",
       "      <th>Walc</th>\n",
       "      <th>health</th>\n",
       "      <th>absences</th>\n",
       "      <th>G1</th>\n",
       "      <th>G2</th>\n",
       "      <th>G3</th>\n",
       "    </tr>\n",
       "  </thead>\n",
       "  <tbody>\n",
       "    <tr>\n",
       "      <th>3</th>\n",
       "      <td>GP</td>\n",
       "      <td>F</td>\n",
       "      <td>15</td>\n",
       "      <td>U</td>\n",
       "      <td>GT3</td>\n",
       "      <td>T</td>\n",
       "      <td>4</td>\n",
       "      <td>2</td>\n",
       "      <td>health</td>\n",
       "      <td>services</td>\n",
       "      <td>...</td>\n",
       "      <td>3</td>\n",
       "      <td>2</td>\n",
       "      <td>2</td>\n",
       "      <td>1</td>\n",
       "      <td>1</td>\n",
       "      <td>5</td>\n",
       "      <td>2</td>\n",
       "      <td>15</td>\n",
       "      <td>14</td>\n",
       "      <td>15</td>\n",
       "    </tr>\n",
       "    <tr>\n",
       "      <th>12</th>\n",
       "      <td>GP</td>\n",
       "      <td>M</td>\n",
       "      <td>15</td>\n",
       "      <td>U</td>\n",
       "      <td>LE3</td>\n",
       "      <td>T</td>\n",
       "      <td>4</td>\n",
       "      <td>4</td>\n",
       "      <td>health</td>\n",
       "      <td>services</td>\n",
       "      <td>...</td>\n",
       "      <td>4</td>\n",
       "      <td>3</td>\n",
       "      <td>3</td>\n",
       "      <td>1</td>\n",
       "      <td>3</td>\n",
       "      <td>5</td>\n",
       "      <td>2</td>\n",
       "      <td>14</td>\n",
       "      <td>14</td>\n",
       "      <td>14</td>\n",
       "    </tr>\n",
       "    <tr>\n",
       "      <th>13</th>\n",
       "      <td>GP</td>\n",
       "      <td>M</td>\n",
       "      <td>15</td>\n",
       "      <td>U</td>\n",
       "      <td>GT3</td>\n",
       "      <td>T</td>\n",
       "      <td>4</td>\n",
       "      <td>3</td>\n",
       "      <td>teacher</td>\n",
       "      <td>other</td>\n",
       "      <td>...</td>\n",
       "      <td>5</td>\n",
       "      <td>4</td>\n",
       "      <td>3</td>\n",
       "      <td>1</td>\n",
       "      <td>2</td>\n",
       "      <td>3</td>\n",
       "      <td>2</td>\n",
       "      <td>10</td>\n",
       "      <td>10</td>\n",
       "      <td>11</td>\n",
       "    </tr>\n",
       "    <tr>\n",
       "      <th>22</th>\n",
       "      <td>GP</td>\n",
       "      <td>M</td>\n",
       "      <td>16</td>\n",
       "      <td>U</td>\n",
       "      <td>LE3</td>\n",
       "      <td>T</td>\n",
       "      <td>4</td>\n",
       "      <td>2</td>\n",
       "      <td>teacher</td>\n",
       "      <td>other</td>\n",
       "      <td>...</td>\n",
       "      <td>4</td>\n",
       "      <td>5</td>\n",
       "      <td>1</td>\n",
       "      <td>1</td>\n",
       "      <td>3</td>\n",
       "      <td>5</td>\n",
       "      <td>2</td>\n",
       "      <td>15</td>\n",
       "      <td>15</td>\n",
       "      <td>16</td>\n",
       "    </tr>\n",
       "    <tr>\n",
       "      <th>24</th>\n",
       "      <td>GP</td>\n",
       "      <td>F</td>\n",
       "      <td>15</td>\n",
       "      <td>R</td>\n",
       "      <td>GT3</td>\n",
       "      <td>T</td>\n",
       "      <td>2</td>\n",
       "      <td>4</td>\n",
       "      <td>services</td>\n",
       "      <td>health</td>\n",
       "      <td>...</td>\n",
       "      <td>4</td>\n",
       "      <td>3</td>\n",
       "      <td>2</td>\n",
       "      <td>1</td>\n",
       "      <td>1</td>\n",
       "      <td>5</td>\n",
       "      <td>2</td>\n",
       "      <td>10</td>\n",
       "      <td>9</td>\n",
       "      <td>8</td>\n",
       "    </tr>\n",
       "    <tr>\n",
       "      <th>...</th>\n",
       "      <td>...</td>\n",
       "      <td>...</td>\n",
       "      <td>...</td>\n",
       "      <td>...</td>\n",
       "      <td>...</td>\n",
       "      <td>...</td>\n",
       "      <td>...</td>\n",
       "      <td>...</td>\n",
       "      <td>...</td>\n",
       "      <td>...</td>\n",
       "      <td>...</td>\n",
       "      <td>...</td>\n",
       "      <td>...</td>\n",
       "      <td>...</td>\n",
       "      <td>...</td>\n",
       "      <td>...</td>\n",
       "      <td>...</td>\n",
       "      <td>...</td>\n",
       "      <td>...</td>\n",
       "      <td>...</td>\n",
       "      <td>...</td>\n",
       "    </tr>\n",
       "    <tr>\n",
       "      <th>357</th>\n",
       "      <td>MS</td>\n",
       "      <td>F</td>\n",
       "      <td>17</td>\n",
       "      <td>U</td>\n",
       "      <td>LE3</td>\n",
       "      <td>A</td>\n",
       "      <td>3</td>\n",
       "      <td>2</td>\n",
       "      <td>services</td>\n",
       "      <td>other</td>\n",
       "      <td>...</td>\n",
       "      <td>1</td>\n",
       "      <td>2</td>\n",
       "      <td>3</td>\n",
       "      <td>1</td>\n",
       "      <td>2</td>\n",
       "      <td>5</td>\n",
       "      <td>2</td>\n",
       "      <td>12</td>\n",
       "      <td>12</td>\n",
       "      <td>11</td>\n",
       "    </tr>\n",
       "    <tr>\n",
       "      <th>361</th>\n",
       "      <td>MS</td>\n",
       "      <td>M</td>\n",
       "      <td>18</td>\n",
       "      <td>R</td>\n",
       "      <td>LE3</td>\n",
       "      <td>T</td>\n",
       "      <td>1</td>\n",
       "      <td>1</td>\n",
       "      <td>at_home</td>\n",
       "      <td>other</td>\n",
       "      <td>...</td>\n",
       "      <td>4</td>\n",
       "      <td>4</td>\n",
       "      <td>3</td>\n",
       "      <td>2</td>\n",
       "      <td>3</td>\n",
       "      <td>5</td>\n",
       "      <td>2</td>\n",
       "      <td>13</td>\n",
       "      <td>12</td>\n",
       "      <td>12</td>\n",
       "    </tr>\n",
       "    <tr>\n",
       "      <th>375</th>\n",
       "      <td>MS</td>\n",
       "      <td>F</td>\n",
       "      <td>18</td>\n",
       "      <td>R</td>\n",
       "      <td>GT3</td>\n",
       "      <td>T</td>\n",
       "      <td>1</td>\n",
       "      <td>1</td>\n",
       "      <td>other</td>\n",
       "      <td>other</td>\n",
       "      <td>...</td>\n",
       "      <td>4</td>\n",
       "      <td>3</td>\n",
       "      <td>2</td>\n",
       "      <td>1</td>\n",
       "      <td>2</td>\n",
       "      <td>4</td>\n",
       "      <td>2</td>\n",
       "      <td>8</td>\n",
       "      <td>8</td>\n",
       "      <td>10</td>\n",
       "    </tr>\n",
       "    <tr>\n",
       "      <th>382</th>\n",
       "      <td>MS</td>\n",
       "      <td>M</td>\n",
       "      <td>17</td>\n",
       "      <td>U</td>\n",
       "      <td>GT3</td>\n",
       "      <td>T</td>\n",
       "      <td>2</td>\n",
       "      <td>3</td>\n",
       "      <td>other</td>\n",
       "      <td>services</td>\n",
       "      <td>...</td>\n",
       "      <td>4</td>\n",
       "      <td>4</td>\n",
       "      <td>3</td>\n",
       "      <td>1</td>\n",
       "      <td>1</td>\n",
       "      <td>3</td>\n",
       "      <td>2</td>\n",
       "      <td>11</td>\n",
       "      <td>11</td>\n",
       "      <td>10</td>\n",
       "    </tr>\n",
       "    <tr>\n",
       "      <th>385</th>\n",
       "      <td>MS</td>\n",
       "      <td>F</td>\n",
       "      <td>18</td>\n",
       "      <td>R</td>\n",
       "      <td>GT3</td>\n",
       "      <td>T</td>\n",
       "      <td>2</td>\n",
       "      <td>2</td>\n",
       "      <td>at_home</td>\n",
       "      <td>other</td>\n",
       "      <td>...</td>\n",
       "      <td>5</td>\n",
       "      <td>3</td>\n",
       "      <td>3</td>\n",
       "      <td>1</td>\n",
       "      <td>3</td>\n",
       "      <td>4</td>\n",
       "      <td>2</td>\n",
       "      <td>10</td>\n",
       "      <td>9</td>\n",
       "      <td>10</td>\n",
       "    </tr>\n",
       "  </tbody>\n",
       "</table>\n",
       "<p>65 rows × 33 columns</p>\n",
       "</div>"
      ],
      "text/plain": [
       "    school sex  age address famsize Pstatus  Medu  Fedu      Mjob      Fjob  \\\n",
       "3       GP   F   15       U     GT3       T     4     2    health  services   \n",
       "12      GP   M   15       U     LE3       T     4     4    health  services   \n",
       "13      GP   M   15       U     GT3       T     4     3   teacher     other   \n",
       "22      GP   M   16       U     LE3       T     4     2   teacher     other   \n",
       "24      GP   F   15       R     GT3       T     2     4  services    health   \n",
       "..     ...  ..  ...     ...     ...     ...   ...   ...       ...       ...   \n",
       "357     MS   F   17       U     LE3       A     3     2  services     other   \n",
       "361     MS   M   18       R     LE3       T     1     1   at_home     other   \n",
       "375     MS   F   18       R     GT3       T     1     1     other     other   \n",
       "382     MS   M   17       U     GT3       T     2     3     other  services   \n",
       "385     MS   F   18       R     GT3       T     2     2   at_home     other   \n",
       "\n",
       "     ... famrel freetime  goout  Dalc  Walc health absences  G1  G2  G3  \n",
       "3    ...      3        2      2     1     1      5        2  15  14  15  \n",
       "12   ...      4        3      3     1     3      5        2  14  14  14  \n",
       "13   ...      5        4      3     1     2      3        2  10  10  11  \n",
       "22   ...      4        5      1     1     3      5        2  15  15  16  \n",
       "24   ...      4        3      2     1     1      5        2  10   9   8  \n",
       "..   ...    ...      ...    ...   ...   ...    ...      ...  ..  ..  ..  \n",
       "357  ...      1        2      3     1     2      5        2  12  12  11  \n",
       "361  ...      4        4      3     2     3      5        2  13  12  12  \n",
       "375  ...      4        3      2     1     2      4        2   8   8  10  \n",
       "382  ...      4        4      3     1     1      3        2  11  11  10  \n",
       "385  ...      5        3      3     1     3      4        2  10   9  10  \n",
       "\n",
       "[65 rows x 33 columns]"
      ]
     },
     "execution_count": 15,
     "metadata": {},
     "output_type": "execute_result"
    }
   ],
   "source": [
    "student[student['absences']==2]"
   ]
  },
  {
   "cell_type": "markdown",
   "id": "f671a2e9",
   "metadata": {},
   "source": [
    "#### 2.3 Correlation coefficient\n",
    "  This is also important because Regression presupposes independence between features.\n",
    "  \n",
    "  2.3.1 corr, heatmap\n",
    "  \n",
    "  2.3.2 VIF (if VIF >10, covariance exists)"
   ]
  },
  {
   "cell_type": "markdown",
   "id": "1377da9f",
   "metadata": {},
   "source": [
    "##### 2.3.1 corr, heatmap"
   ]
  },
  {
   "cell_type": "code",
   "execution_count": 16,
   "id": "1eeea5c7",
   "metadata": {},
   "outputs": [],
   "source": [
    "reg_col=['age', 'absences', 'G1', 'G2']\n",
    "def get_regplot(columns):\n",
    "    fig,axs=plt.subplots(nrows=2, ncols=2, figsize=(10,10))\n",
    "    for column in list(enumerate(columns)):\n",
    "        index=column[0]\n",
    "        column_name=column[1]\n",
    "        row=int(index/2)\n",
    "        col=int(index%2)\n",
    "        sns.regplot(x=column_name, y='G3',data=student, ax=axs[row,col])"
   ]
  },
  {
   "cell_type": "code",
   "execution_count": 17,
   "id": "aa368cea",
   "metadata": {},
   "outputs": [
    {
     "data": {
      "image/png": "[encoded data removed]",
      "text/plain": [
       "<Figure size 720x720 with 4 Axes>"
      ]
     },
     "metadata": {
      "needs_background": "light"
     },
     "output_type": "display_data"
    }
   ],
   "source": [
    "regplot=get_regplot(reg_col)\n",
    "regplot"
   ]
  },
  {
   "cell_type": "markdown",
   "id": "c1923c15",
   "metadata": {},
   "source": [
    "--> G1, G2 have positive linear relationships with G3 "
   ]
  },
  {
   "cell_type": "code",
   "execution_count": 18,
   "id": "bc8869a1",
   "metadata": {},
   "outputs": [],
   "source": [
    "corr_col=['G1', 'G2', 'G3']\n",
    "corr=student[corr_col].corr(method='pearson')"
   ]
  },
  {
   "cell_type": "code",
   "execution_count": 19,
   "id": "3d836e13",
   "metadata": {},
   "outputs": [
    {
     "data": {
      "text/html": [
       "<div>\n",
       "<style scoped>\n",
       "    .dataframe tbody tr th:only-of-type {\n",
       "        vertical-align: middle;\n",
       "    }\n",
       "\n",
       "    .dataframe tbody tr th {\n",
       "        vertical-align: top;\n",
       "    }\n",
       "\n",
       "    .dataframe thead th {\n",
       "        text-align: right;\n",
       "    }\n",
       "</style>\n",
       "<table border=\"1\" class=\"dataframe\">\n",
       "  <thead>\n",
       "    <tr style=\"text-align: right;\">\n",
       "      <th></th>\n",
       "      <th>G1</th>\n",
       "      <th>G2</th>\n",
       "      <th>G3</th>\n",
       "    </tr>\n",
       "  </thead>\n",
       "  <tbody>\n",
       "    <tr>\n",
       "      <th>G1</th>\n",
       "      <td>1.000000</td>\n",
       "      <td>0.852118</td>\n",
       "      <td>0.801468</td>\n",
       "    </tr>\n",
       "    <tr>\n",
       "      <th>G2</th>\n",
       "      <td>0.852118</td>\n",
       "      <td>1.000000</td>\n",
       "      <td>0.904868</td>\n",
       "    </tr>\n",
       "    <tr>\n",
       "      <th>G3</th>\n",
       "      <td>0.801468</td>\n",
       "      <td>0.904868</td>\n",
       "      <td>1.000000</td>\n",
       "    </tr>\n",
       "  </tbody>\n",
       "</table>\n",
       "</div>"
      ],
      "text/plain": [
       "          G1        G2        G3\n",
       "G1  1.000000  0.852118  0.801468\n",
       "G2  0.852118  1.000000  0.904868\n",
       "G3  0.801468  0.904868  1.000000"
      ]
     },
     "execution_count": 19,
     "metadata": {},
     "output_type": "execute_result"
    }
   ],
   "source": [
    "corr"
   ]
  },
  {
   "cell_type": "code",
   "execution_count": 20,
   "id": "4b44566d",
   "metadata": {},
   "outputs": [
    {
     "data": {
      "image/png": "[encoded data removed]",
      "text/plain": [
       "<Figure size 216x216 with 2 Axes>"
      ]
     },
     "metadata": {
      "needs_background": "light"
     },
     "output_type": "display_data"
    }
   ],
   "source": [
    "fig, ax = plt.subplots(figsize=(3,3))        \n",
    "hm=sns.heatmap(corr.values, cbar=True, annot=True,  fmt='.2f', square=True,\n",
    "              annot_kws={'size':10},yticklabels=corr_col,xticklabels=corr_col, ax=ax)\n",
    "\n",
    "plt.show()"
   ]
  },
  {
   "cell_type": "markdown",
   "id": "54de71a7",
   "metadata": {},
   "source": [
    "##### Findings\n",
    "G1 and G2 have a high correlation with G3. \n",
    "\n",
    "* Solution\n",
    " 1. Features with high correlation with the target feature (G3) can be removed.\n",
    " 2. If many features are highly correlated, consider PCA (-> not this time)\n",
    " 3. Consider using Lasso, Ridge"
   ]
  },
  {
   "cell_type": "code",
   "execution_count": 21,
   "id": "97922a0e",
   "metadata": {},
   "outputs": [],
   "source": [
    "box_col=['age', 'absences', 'G1', 'G2', 'G3']\n",
    "def get_boxplot(columns):\n",
    "    fig,axs=plt.subplots(nrows=2, ncols=3, figsize=(10,8))\n",
    "    for column in list(enumerate(columns)):\n",
    "        index=column[0]\n",
    "        column_name=column[1]\n",
    "        row=int(index/3)\n",
    "        col=int(index%3)\n",
    "        sns.boxplot(data= student, x=column_name, ax=axs[row,col])"
   ]
  },
  {
   "cell_type": "code",
   "execution_count": 22,
   "id": "6bc6299c",
   "metadata": {},
   "outputs": [
    {
     "data": {
      "image/png": "[encoded data removed]",
      "text/plain": [
       "<Figure size 720x576 with 6 Axes>"
      ]
     },
     "metadata": {
      "needs_background": "light"
     },
     "output_type": "display_data"
    }
   ],
   "source": [
    "get_boxplot(box_col)"
   ]
  },
  {
   "cell_type": "code",
   "execution_count": 23,
   "id": "aee9f95c",
   "metadata": {},
   "outputs": [
    {
     "data": {
      "text/plain": [
       "75"
      ]
     },
     "execution_count": 23,
     "metadata": {},
     "output_type": "execute_result"
    }
   ],
   "source": [
    "max(student['absences'])"
   ]
  },
  {
   "cell_type": "code",
   "execution_count": 24,
   "id": "7008d4a9",
   "metadata": {},
   "outputs": [
    {
     "data": {
      "text/html": [
       "<div>\n",
       "<style scoped>\n",
       "    .dataframe tbody tr th:only-of-type {\n",
       "        vertical-align: middle;\n",
       "    }\n",
       "\n",
       "    .dataframe tbody tr th {\n",
       "        vertical-align: top;\n",
       "    }\n",
       "\n",
       "    .dataframe thead th {\n",
       "        text-align: right;\n",
       "    }\n",
       "</style>\n",
       "<table border=\"1\" class=\"dataframe\">\n",
       "  <thead>\n",
       "    <tr style=\"text-align: right;\">\n",
       "      <th></th>\n",
       "      <th>school</th>\n",
       "      <th>sex</th>\n",
       "      <th>age</th>\n",
       "      <th>address</th>\n",
       "      <th>famsize</th>\n",
       "      <th>Pstatus</th>\n",
       "      <th>Medu</th>\n",
       "      <th>Fedu</th>\n",
       "      <th>Mjob</th>\n",
       "      <th>Fjob</th>\n",
       "      <th>...</th>\n",
       "      <th>famrel</th>\n",
       "      <th>freetime</th>\n",
       "      <th>goout</th>\n",
       "      <th>Dalc</th>\n",
       "      <th>Walc</th>\n",
       "      <th>health</th>\n",
       "      <th>absences</th>\n",
       "      <th>G1</th>\n",
       "      <th>G2</th>\n",
       "      <th>G3</th>\n",
       "    </tr>\n",
       "  </thead>\n",
       "  <tbody>\n",
       "    <tr>\n",
       "      <th>276</th>\n",
       "      <td>GP</td>\n",
       "      <td>F</td>\n",
       "      <td>18</td>\n",
       "      <td>R</td>\n",
       "      <td>GT3</td>\n",
       "      <td>A</td>\n",
       "      <td>3</td>\n",
       "      <td>2</td>\n",
       "      <td>other</td>\n",
       "      <td>services</td>\n",
       "      <td>...</td>\n",
       "      <td>4</td>\n",
       "      <td>1</td>\n",
       "      <td>1</td>\n",
       "      <td>1</td>\n",
       "      <td>1</td>\n",
       "      <td>5</td>\n",
       "      <td>75</td>\n",
       "      <td>10</td>\n",
       "      <td>9</td>\n",
       "      <td>9</td>\n",
       "    </tr>\n",
       "  </tbody>\n",
       "</table>\n",
       "<p>1 rows × 33 columns</p>\n",
       "</div>"
      ],
      "text/plain": [
       "    school sex  age address famsize Pstatus  Medu  Fedu   Mjob      Fjob  ...  \\\n",
       "276     GP   F   18       R     GT3       A     3     2  other  services  ...   \n",
       "\n",
       "    famrel freetime  goout  Dalc  Walc health absences  G1 G2 G3  \n",
       "276      4        1      1     1     1      5       75  10  9  9  \n",
       "\n",
       "[1 rows x 33 columns]"
      ]
     },
     "execution_count": 24,
     "metadata": {},
     "output_type": "execute_result"
    }
   ],
   "source": [
    "student[student['absences']==75]"
   ]
  },
  {
   "cell_type": "markdown",
   "id": "bbc55f9e",
   "metadata": {},
   "source": [
    "##### Findings\n",
    " -Instances with 75 absences should be considered for removal as this may affect outcomes"
   ]
  },
  {
   "cell_type": "markdown",
   "id": "ece48efa",
   "metadata": {},
   "source": [
    "#### 2.5 T-test \n",
    "\n",
    "-Perform the T-test to determine whether the difference in average grades (G3) between the two groups is statistically significant.\n",
    "\n",
    "-Null Hypothesis: The average grades between the two groups are the same\n",
    "\n",
    "-Alternative Hypothesis: The average grades between the two groups are not the same\n",
    "\n",
    "-Significance level: 5% test of significance will be used\n"
   ]
  },
  {
   "cell_type": "markdown",
   "id": "7a7c57cb",
   "metadata": {},
   "source": [
    "##### 2.5.1. School-G3\n",
    "A T-test determines whether the difference in mean grades (G3) between the two schools is statistically significant."
   ]
  },
  {
   "cell_type": "code",
   "execution_count": 25,
   "id": "828e66fb",
   "metadata": {},
   "outputs": [
    {
     "data": {
      "image/png": "[encoded data removed]",
      "text/plain": [
       "<Figure size 432x288 with 1 Axes>"
      ]
     },
     "metadata": {
      "needs_background": "light"
     },
     "output_type": "display_data"
    }
   ],
   "source": [
    "sns.barplot(x='school', y='G3', data=student)\n",
    "plt.show()"
   ]
  },
  {
   "cell_type": "code",
   "execution_count": 39,
   "id": "8bfe591b",
   "metadata": {},
   "outputs": [
    {
     "data": {
      "text/plain": [
       "Ttest_indResult(statistic=0.9555475253722291, pvalue=0.3431316933314036)"
      ]
     },
     "execution_count": 39,
     "metadata": {},
     "output_type": "execute_result"
    }
   ],
   "source": [
    "gp_g3=student[student['school']=='GP']['G3']\n",
    "ms_g3=student[student['school']=='MS']['G3']\n",
    "tTestResultDiffVar=stats.ttest_ind(gp_g3, ms_g3, equal_var=False)\n",
    "tTestResultDiffVar"
   ]
  },
  {
   "cell_type": "markdown",
   "id": "611be636",
   "metadata": {},
   "source": [
    "##### Findings\n",
    "   P-value= 0.34, There is not enough evidence to reject the null hypothesis. This significance test cannot reject the null hypothesis. "
   ]
  },
  {
   "cell_type": "markdown",
   "id": "576fec0a",
   "metadata": {},
   "source": [
    "##### 2.5.2. Sex-G3"
   ]
  },
  {
   "cell_type": "code",
   "execution_count": 29,
   "id": "003955c9",
   "metadata": {},
   "outputs": [
    {
     "data": {
      "image/png": "[encoded data removed]",
      "text/plain": [
       "<Figure size 432x288 with 1 Axes>"
      ]
     },
     "metadata": {
      "needs_background": "light"
     },
     "output_type": "display_data"
    }
   ],
   "source": [
    "sns.barplot(x='sex', y='G3', data=student)\n",
    "plt.show()"
   ]
  },
  {
   "cell_type": "code",
   "execution_count": 40,
   "id": "428f9c25",
   "metadata": {},
   "outputs": [
    {
     "name": "stdout",
     "output_type": "stream",
     "text": [
      "Ttest_indResult(statistic=-2.0650572003629564, pvalue=0.03957700303089975)\n"
     ]
    }
   ],
   "source": [
    "f_g3=student[student['sex']=='F']['G3']\n",
    "m_g3=student[student['sex']=='M']['G3']\n",
    "tTestResultDiffVar=stats.ttest_ind(f_g3, m_g3, equal_var=False) \n",
    "print(tTestResultDiffVar)"
   ]
  },
  {
   "cell_type": "markdown",
   "id": "af3038cf",
   "metadata": {},
   "source": [
    "##### Findings\n",
    "   P-value= 0.03, There is strong evidence against the null hypothesis. Therefore, this significant test can reject the null hypothesis. "
   ]
  },
  {
   "cell_type": "markdown",
   "id": "621525ae",
   "metadata": {},
   "source": [
    "##### 2.5.3. Address-G3"
   ]
  },
  {
   "cell_type": "code",
   "execution_count": 32,
   "id": "c984a102",
   "metadata": {},
   "outputs": [
    {
     "data": {
      "image/png": "[encoded data removed]",
      "text/plain": [
       "<Figure size 432x288 with 1 Axes>"
      ]
     },
     "metadata": {
      "needs_background": "light"
     },
     "output_type": "display_data"
    }
   ],
   "source": [
    "sns.barplot(x='address', y='G3', data=student)\n",
    "plt.show()  #Urban/ Rural"
   ]
  },
  {
   "cell_type": "code",
   "execution_count": 41,
   "id": "04076d10",
   "metadata": {},
   "outputs": [
    {
     "name": "stdout",
     "output_type": "stream",
     "text": [
      "Ttest_indResult(statistic=2.1101367617785494, pvalue=0.03661381145664286)\n"
     ]
    }
   ],
   "source": [
    "urban_g3=student[student['address']=='U']['G3']\n",
    "rural_g3=student[student['address']=='R']['G3']\n",
    "tTestResultDiffVar=stats.ttest_ind(urban_g3, rural_g3, equal_var=False) \n",
    "print(tTestResultDiffVar)  "
   ]
  },
  {
   "cell_type": "markdown",
   "id": "f8274681",
   "metadata": {},
   "source": [
    "##### Findings\n",
    "P-value= 0.03, There is strong evidence against the null hypothesis. Therefore, this significant test can reject the null hypothesis."
   ]
  },
  {
   "cell_type": "markdown",
   "id": "46abab37",
   "metadata": {},
   "source": [
    "##### 2.5.4. Family Size-G3"
   ]
  },
  {
   "cell_type": "code",
   "execution_count": 35,
   "id": "64993380",
   "metadata": {},
   "outputs": [
    {
     "data": {
      "image/png": "[encoded data removed]",
      "text/plain": [
       "<Figure size 432x288 with 1 Axes>"
      ]
     },
     "metadata": {
      "needs_background": "light"
     },
     "output_type": "display_data"
    }
   ],
   "source": [
    "sns.barplot(x='famsize', y='G3', data=student)\n",
    "plt.show()  #LE3-less or equal to 3, GT3- greater than 3"
   ]
  },
  {
   "cell_type": "code",
   "execution_count": 36,
   "id": "9fc6b8a9",
   "metadata": {},
   "outputs": [
    {
     "name": "stdout",
     "output_type": "stream",
     "text": [
      "Ttest_indResult(statistic=-1.6942894182883583, pvalue=0.09155470562414125)\n"
     ]
    }
   ],
   "source": [
    "GT3_g3=student[student['famsize']=='GT3']['G3']\n",
    "LE3_g3=student[student['famsize']=='LE3']['G3']\n",
    "tTestResultDiffVar=stats.ttest_ind(GT3_g3, LE3_g3, equal_var=False) #모집단의 분산이 다르다는 가정\n",
    "print(tTestResultDiffVar) "
   ]
  },
  {
   "cell_type": "markdown",
   "id": "bc278646",
   "metadata": {},
   "source": [
    "##### Fidings\n",
    "   P-value= 0.09, There is not enough evidence to reject the null hypothesis. This significance test cannot reject the null hypothesis."
   ]
  },
  {
   "cell_type": "markdown",
   "id": "7d982e62",
   "metadata": {},
   "source": [
    "##### 2.5.5. P Status-G3\n",
    "\n",
    "Pstatus - parent's cohabitation status (binary: 'T' - living together or 'A' - apart)"
   ]
  },
  {
   "cell_type": "code",
   "execution_count": 37,
   "id": "262337a1",
   "metadata": {},
   "outputs": [
    {
     "data": {
      "image/png": "[encoded data removed]",
      "text/plain": [
       "<Figure size 432x288 with 1 Axes>"
      ]
     },
     "metadata": {
      "needs_background": "light"
     },
     "output_type": "display_data"
    }
   ],
   "source": [
    "sns.barplot(x='Pstatus', y='G3', data=student)\n",
    "plt.show()"
   ]
  },
  {
   "cell_type": "code",
   "execution_count": 38,
   "id": "fd86a998",
   "metadata": {},
   "outputs": [
    {
     "name": "stdout",
     "output_type": "stream",
     "text": [
      "Ttest_indResult(statistic=1.2196750248412154, pvalue=0.22816469197603795)\n"
     ]
    }
   ],
   "source": [
    "a_g3=student[student['Pstatus']=='A']['G3']\n",
    "t_g3=student[student['Pstatus']=='T']['G3']\n",
    "tTestResultDiffVar=stats.ttest_ind(a_g3, t_g3, equal_var=False) \n",
    "print(tTestResultDiffVar) "
   ]
  },
  {
   "cell_type": "markdown",
   "id": "6d66b0a3",
   "metadata": {},
   "source": [
    "##### Findings\n",
    "   P-value= 0.23, There is not enough evidence to reject the null hypothesis. This significance test cannot reject the null hypothesis."
   ]
  },
  {
   "cell_type": "markdown",
   "id": "d6c5356d",
   "metadata": {},
   "source": [
    "##### 2.5.6. extra educational support-G3\n",
    "schoolsup - extra educational support (binary: yes or no)"
   ]
  },
  {
   "cell_type": "code",
   "execution_count": 62,
   "id": "5e97c344",
   "metadata": {
    "scrolled": false
   },
   "outputs": [
    {
     "data": {
      "image/png": "[encoded data removed]",
      "text/plain": [
       "<Figure size 432x288 with 1 Axes>"
      ]
     },
     "metadata": {
      "needs_background": "light"
     },
     "output_type": "display_data"
    }
   ],
   "source": [
    "sns.barplot(x='schoolsup', y='G3', data=student)\n",
    "plt.show()"
   ]
  },
  {
   "cell_type": "code",
   "execution_count": 42,
   "id": "26927711",
   "metadata": {},
   "outputs": [
    {
     "name": "stdout",
     "output_type": "stream",
     "text": [
      "Ttest_indResult(statistic=-2.370454876019588, pvalue=0.019741513383964297)\n"
     ]
    }
   ],
   "source": [
    "y_g3=student[student['schoolsup']=='yes']['G3']\n",
    "n_g3=student[student['schoolsup']=='no']['G3']\n",
    "tTestResultDiffVar=stats.ttest_ind(y_g3, n_g3, equal_var=False) \n",
    "print(tTestResultDiffVar) "
   ]
  },
  {
   "cell_type": "markdown",
   "id": "3865202b",
   "metadata": {},
   "source": [
    "##### Findings\n",
    "P-value= 0.02, There is strong evidence against the null hypothesis. Therefore, this significant test can reject the null hypothesis."
   ]
  },
  {
   "cell_type": "markdown",
   "id": "eb162c02",
   "metadata": {},
   "source": [
    "##### 2.5.7 family educational  support-G3\n",
    " famsup - family educational support (binary: yes or no)"
   ]
  },
  {
   "cell_type": "code",
   "execution_count": 64,
   "id": "c549d0d2",
   "metadata": {
    "scrolled": true
   },
   "outputs": [
    {
     "data": {
      "image/png": "[encoded data removed]",
      "text/plain": [
       "<Figure size 432x288 with 1 Axes>"
      ]
     },
     "metadata": {
      "needs_background": "light"
     },
     "output_type": "display_data"
    }
   ],
   "source": [
    "sns.barplot(x='famsup', y='G3', data=student)\n",
    "plt.show()"
   ]
  },
  {
   "cell_type": "code",
   "execution_count": 43,
   "id": "3f8500e9",
   "metadata": {
    "scrolled": true
   },
   "outputs": [
    {
     "name": "stdout",
     "output_type": "stream",
     "text": [
      "Ttest_indResult(statistic=-0.7735796788638442, pvalue=0.43975242586921437)\n"
     ]
    }
   ],
   "source": [
    "y_g3=student[student['famsup']=='yes']['G3']\n",
    "n_g3=student[student['famsup']=='no']['G3']\n",
    "tTestResultDiffVar=stats.ttest_ind(y_g3, n_g3, equal_var=False) \n",
    "print(tTestResultDiffVar) "
   ]
  },
  {
   "cell_type": "markdown",
   "id": "3a99b4b9",
   "metadata": {},
   "source": [
    "##### Findings\n",
    "   P-value= 0.44, There is not enough evidence to reject the null hypothesis. This significance test cannot reject the null hypothesis."
   ]
  },
  {
   "cell_type": "markdown",
   "id": "b4f82db7",
   "metadata": {},
   "source": [
    "##### 2.5.8 extra paid classes-G3\n",
    "paid - extra paid classes within the course subject (Math) (binary: yes or no)"
   ]
  },
  {
   "cell_type": "code",
   "execution_count": 66,
   "id": "35f927f1",
   "metadata": {},
   "outputs": [
    {
     "data": {
      "image/png": "[encoded data removed]",
      "text/plain": [
       "<Figure size 432x288 with 1 Axes>"
      ]
     },
     "metadata": {
      "needs_background": "light"
     },
     "output_type": "display_data"
    }
   ],
   "source": [
    "sns.barplot(x='paid',y='G3', data=student)\n",
    "plt.show()"
   ]
  },
  {
   "cell_type": "code",
   "execution_count": 44,
   "id": "15ff79e4",
   "metadata": {},
   "outputs": [
    {
     "name": "stdout",
     "output_type": "stream",
     "text": [
      "Ttest_indResult(statistic=2.0830813622505953, pvalue=0.03790084419239711)\n"
     ]
    }
   ],
   "source": [
    "y_g3=student[student['paid']=='yes']['G3']\n",
    "n_g3=student[student['paid']=='no']['G3']\n",
    "tTestResultDiffVar=stats.ttest_ind(y_g3, n_g3, equal_var=False) \n",
    "print(tTestResultDiffVar) "
   ]
  },
  {
   "cell_type": "markdown",
   "id": "a6f2e3ad",
   "metadata": {},
   "source": [
    "##### Findings\n",
    "P-value= 0.04, There is some evidence against the null hypothesis. Therefore, this significant test can reject the null hypothesis."
   ]
  },
  {
   "cell_type": "markdown",
   "id": "1cc19622",
   "metadata": {},
   "source": [
    "##### 2.5.9 extra curricular activities-G3\n",
    "activities - extra-curricular activities (binary: yes or no)"
   ]
  },
  {
   "cell_type": "code",
   "execution_count": 68,
   "id": "31811ebb",
   "metadata": {
    "scrolled": true
   },
   "outputs": [
    {
     "data": {
      "image/png": "[encoded data removed]",
      "text/plain": [
       "<Figure size 432x288 with 1 Axes>"
      ]
     },
     "metadata": {
      "needs_background": "light"
     },
     "output_type": "display_data"
    }
   ],
   "source": [
    "sns.barplot(x='activities',y='G3', data=student)\n",
    "plt.show()"
   ]
  },
  {
   "cell_type": "code",
   "execution_count": 45,
   "id": "9c1a5915",
   "metadata": {},
   "outputs": [
    {
     "name": "stdout",
     "output_type": "stream",
     "text": [
      "Ttest_indResult(statistic=0.3194427846668576, pvalue=0.7495605129910023)\n"
     ]
    }
   ],
   "source": [
    "y_g3=student[student['activities']=='yes']['G3']\n",
    "n_g3=student[student['activities']=='no']['G3']\n",
    "tTestResultDiffVar=stats.ttest_ind(y_g3, n_g3, equal_var=False) \n",
    "print(tTestResultDiffVar) "
   ]
  },
  {
   "cell_type": "markdown",
   "id": "5f1595c6",
   "metadata": {},
   "source": [
    "##### Findings\n",
    "   P-value= 0.75, There is not enough evidence to reject the null hypothesis. This significance test cannot reject the null hypothesis.\n"
   ]
  },
  {
   "cell_type": "markdown",
   "id": "a670222b",
   "metadata": {},
   "source": [
    "##### 2.5.10. nursery school-G3\n",
    "nursery - attended nursery school (binary: yes or no)"
   ]
  },
  {
   "cell_type": "code",
   "execution_count": 70,
   "id": "5ea62b9a",
   "metadata": {
    "scrolled": true
   },
   "outputs": [
    {
     "data": {
      "image/png": "[encoded data removed]",
      "text/plain": [
       "<Figure size 432x288 with 1 Axes>"
      ]
     },
     "metadata": {
      "needs_background": "light"
     },
     "output_type": "display_data"
    }
   ],
   "source": [
    "sns.barplot(x='nursery',y='G3', data=student)\n",
    "plt.show()"
   ]
  },
  {
   "cell_type": "code",
   "execution_count": 46,
   "id": "5fe96d7f",
   "metadata": {},
   "outputs": [
    {
     "name": "stdout",
     "output_type": "stream",
     "text": [
      "Ttest_indResult(statistic=1.0271053558051693, pvalue=0.30635403814971324)\n"
     ]
    }
   ],
   "source": [
    "y_g3=student[student['nursery']=='yes']['G3']\n",
    "n_g3=student[student['nursery']=='no']['G3']\n",
    "tTestResultDiffVar=stats.ttest_ind(y_g3, n_g3, equal_var=False) \n",
    "print(tTestResultDiffVar) "
   ]
  },
  {
   "cell_type": "markdown",
   "id": "fd3107d1",
   "metadata": {},
   "source": [
    "##### Findings\n",
    "   P-value= 0.31, There is not enough evidence to reject the null hypothesis. This significance test cannot reject the null hypothesis.\n"
   ]
  },
  {
   "cell_type": "markdown",
   "id": "225ce627",
   "metadata": {},
   "source": [
    "##### 2.5.11. willingness to take higher edu-G3\n",
    "higher - wants to take higher education (binary: yes or no)"
   ]
  },
  {
   "cell_type": "code",
   "execution_count": 72,
   "id": "82f87135",
   "metadata": {
    "scrolled": true
   },
   "outputs": [
    {
     "data": {
      "image/png": "[encoded data removed]",
      "text/plain": [
       "<Figure size 432x288 with 1 Axes>"
      ]
     },
     "metadata": {
      "needs_background": "light"
     },
     "output_type": "display_data"
    }
   ],
   "source": [
    "sns.barplot(x='higher',y='G3', data=student)\n",
    "plt.show()"
   ]
  },
  {
   "cell_type": "code",
   "execution_count": 47,
   "id": "81bcd364",
   "metadata": {},
   "outputs": [
    {
     "name": "stdout",
     "output_type": "stream",
     "text": [
      "Ttest_indResult(statistic=3.4473779245028155, pvalue=0.002440033985581924)\n"
     ]
    }
   ],
   "source": [
    "y_g3=student[student['higher']=='yes']['G3']\n",
    "n_g3=student[student['higher']=='no']['G3']\n",
    "tTestResultDiffVar=stats.ttest_ind(y_g3, n_g3, equal_var=False) \n",
    "print(tTestResultDiffVar) "
   ]
  },
  {
   "cell_type": "markdown",
   "id": "bab74d0b",
   "metadata": {},
   "source": [
    "##### Findings\n",
    "P-value= 0.002, There is strong evidence against the null hypothesis. Therefore, this significant test can reject the null hypothesis.\n"
   ]
  },
  {
   "cell_type": "markdown",
   "id": "6751aa42",
   "metadata": {},
   "source": [
    "##### 2.5.12. Internet-G3\n",
    " internet - Internet access at home (binary: yes or no)"
   ]
  },
  {
   "cell_type": "code",
   "execution_count": 74,
   "id": "272a0204",
   "metadata": {
    "scrolled": true
   },
   "outputs": [
    {
     "data": {
      "image/png": "[encoded data removed]",
      "text/plain": [
       "<Figure size 432x288 with 1 Axes>"
      ]
     },
     "metadata": {
      "needs_background": "light"
     },
     "output_type": "display_data"
    }
   ],
   "source": [
    "sns.barplot(x='internet',y='G3', data=student)\n",
    "plt.show()"
   ]
  },
  {
   "cell_type": "code",
   "execution_count": 48,
   "id": "93833c09",
   "metadata": {},
   "outputs": [
    {
     "name": "stdout",
     "output_type": "stream",
     "text": [
      "Ttest_indResult(statistic=1.9894409453501107, pvalue=0.04955202216078457)\n"
     ]
    }
   ],
   "source": [
    "y_g3=student[student['internet']=='yes']['G3']\n",
    "n_g3=student[student['internet']=='no']['G3']\n",
    "tTestResultDiffVar=stats.ttest_ind(y_g3, n_g3, equal_var=False) \n",
    "print(tTestResultDiffVar) "
   ]
  },
  {
   "cell_type": "markdown",
   "id": "5ad74c2c",
   "metadata": {},
   "source": [
    "##### Findings\n",
    "P-value= 0.05, There is some evidence against the null hypothesis. Therefore, this significant test can reject the null hypothesis. However, some people may not reject the null hypothesis with this result.\n"
   ]
  },
  {
   "cell_type": "markdown",
   "id": "8915ba24",
   "metadata": {},
   "source": [
    "##### 2.5.13. romantic relationship-G3\n",
    "romantic - with a romantic relationship (binary: yes or no)"
   ]
  },
  {
   "cell_type": "code",
   "execution_count": 76,
   "id": "8e5017d0",
   "metadata": {
    "scrolled": true
   },
   "outputs": [
    {
     "data": {
      "image/png": "[encoded data removed]",
      "text/plain": [
       "<Figure size 432x288 with 1 Axes>"
      ]
     },
     "metadata": {
      "needs_background": "light"
     },
     "output_type": "display_data"
    }
   ],
   "source": [
    "sns.barplot(x='romantic',y='G3', data=student)\n",
    "plt.show()"
   ]
  },
  {
   "cell_type": "code",
   "execution_count": 49,
   "id": "eed399e5",
   "metadata": {},
   "outputs": [
    {
     "name": "stdout",
     "output_type": "stream",
     "text": [
      "Ttest_indResult(statistic=-2.5122003751250026, pvalue=0.01265517134333271)\n"
     ]
    }
   ],
   "source": [
    "y_g3=student[student['romantic']=='yes']['G3']\n",
    "n_g3=student[student['romantic']=='no']['G3']\n",
    "tTestResultDiffVar=stats.ttest_ind(y_g3, n_g3, equal_var=False) \n",
    "print(tTestResultDiffVar) "
   ]
  },
  {
   "cell_type": "markdown",
   "id": "1058ab42",
   "metadata": {},
   "source": [
    "##### Findings\n",
    "P-value= 0.01, There is strong evidence against the null hypothesis. Therefore, this significant test can reject the null hypothesis.\n"
   ]
  },
  {
   "cell_type": "markdown",
   "id": "85c28984",
   "metadata": {},
   "source": [
    "#### Results of the t-test (5% significance test)\n",
    "- The difference in average grades between the two groups is statistically significant at significance level 5%:\n",
    "\n",
    "   [Sex, Address (Urban/Rural), Extra educational support, Extra paid activites, Willingness to take higher education, Internet,          Romantic relationship]\n",
    "   \n",
    "\n",
    "- The difference in average grades between the two groups is not statistically significant at significance level 5%:\n",
    "\n",
    "   [School, Family size, Pstatus, Family educational support, Extra curricular class, Nursery school]"
   ]
  },
  {
   "cell_type": "markdown",
   "id": "0f1711c6",
   "metadata": {},
   "source": [
    "#### 2.6 ANOVA\n",
    "Perform Levene's test and ANOVA to determine if differences in mean scores for groups within a feature are statistically significant.\n",
    "\n",
    "-Null Hypothesis: The average grades between the groups are the same\n",
    "\n",
    "-Alternative Hypothesis: The average grades between the groups are not the same\n",
    "\n",
    "-Significance level: 5% test of significance will be used"
   ]
  },
  {
   "cell_type": "markdown",
   "id": "84fa8762",
   "metadata": {},
   "source": [
    "##### 2.6.1. Age-G3"
   ]
  },
  {
   "cell_type": "code",
   "execution_count": 33,
   "id": "acc03883",
   "metadata": {},
   "outputs": [
    {
     "data": {
      "image/png": "[encoded data removed]",
      "text/plain": [
       "<Figure size 432x288 with 1 Axes>"
      ]
     },
     "metadata": {
      "needs_background": "light"
     },
     "output_type": "display_data"
    }
   ],
   "source": [
    "sns.barplot(x='age', y='G3', data=student)\n",
    "plt.show()"
   ]
  },
  {
   "cell_type": "code",
   "execution_count": 51,
   "id": "03517b31",
   "metadata": {},
   "outputs": [],
   "source": [
    "five_g3=student[student['age']==15]['G3']\n",
    "six_g3=student[student['age']==16]['G3']\n",
    "seven_g3=student[student['age']==17]['G3']\n",
    "eight_g3=student[student['age']==18]['G3']\n",
    "nine_g3=student[student['age']==19]['G3']\n",
    "zero_g3=student[student['age']==20]['G3']\n",
    "one_g3=student[student['age']==21]['G3']\n",
    "two_g3=student[student['age']==22]['G3']"
   ]
  },
  {
   "cell_type": "code",
   "execution_count": 52,
   "id": "67198b39",
   "metadata": {},
   "outputs": [
    {
     "name": "stdout",
     "output_type": "stream",
     "text": [
      "0.7407570882158565\n"
     ]
    }
   ],
   "source": [
    "stat, p = stats.levene(five_g3,six_g3,seven_g3,eight_g3,nine_g3,zero_g3,one_g3,two_g3)\n",
    "print(p)"
   ]
  },
  {
   "cell_type": "code",
   "execution_count": 53,
   "id": "0f189b29",
   "metadata": {},
   "outputs": [
    {
     "data": {
      "text/plain": [
       "F_onewayResult(statistic=2.323545773704226, pvalue=0.024801338949217662)"
      ]
     },
     "execution_count": 53,
     "metadata": {},
     "output_type": "execute_result"
    }
   ],
   "source": [
    "stats.f_oneway(five_g3,six_g3,seven_g3,eight_g3,nine_g3,zero_g3,one_g3,two_g3)"
   ]
  },
  {
   "cell_type": "markdown",
   "id": "df87a6b5",
   "metadata": {},
   "source": [
    "##### Findings\n",
    "   P-value: 0.02/ The differences in mean grades are statistically significant between at least two groups.\n",
    "   \n",
    "##### Question\n",
    "  Why is the grade of 20-year-olds exceptionally high? "
   ]
  },
  {
   "cell_type": "code",
   "execution_count": 36,
   "id": "0b35d8b3",
   "metadata": {},
   "outputs": [
    {
     "data": {
      "text/html": [
       "<div>\n",
       "<style scoped>\n",
       "    .dataframe tbody tr th:only-of-type {\n",
       "        vertical-align: middle;\n",
       "    }\n",
       "\n",
       "    .dataframe tbody tr th {\n",
       "        vertical-align: top;\n",
       "    }\n",
       "\n",
       "    .dataframe thead th {\n",
       "        text-align: right;\n",
       "    }\n",
       "</style>\n",
       "<table border=\"1\" class=\"dataframe\">\n",
       "  <thead>\n",
       "    <tr style=\"text-align: right;\">\n",
       "      <th></th>\n",
       "      <th>school</th>\n",
       "      <th>sex</th>\n",
       "      <th>age</th>\n",
       "      <th>address</th>\n",
       "      <th>famsize</th>\n",
       "      <th>Pstatus</th>\n",
       "      <th>Medu</th>\n",
       "      <th>Fedu</th>\n",
       "      <th>Mjob</th>\n",
       "      <th>Fjob</th>\n",
       "      <th>...</th>\n",
       "      <th>famrel</th>\n",
       "      <th>freetime</th>\n",
       "      <th>goout</th>\n",
       "      <th>Dalc</th>\n",
       "      <th>Walc</th>\n",
       "      <th>health</th>\n",
       "      <th>absences</th>\n",
       "      <th>G1</th>\n",
       "      <th>G2</th>\n",
       "      <th>G3</th>\n",
       "    </tr>\n",
       "  </thead>\n",
       "  <tbody>\n",
       "    <tr>\n",
       "      <th>306</th>\n",
       "      <td>GP</td>\n",
       "      <td>M</td>\n",
       "      <td>20</td>\n",
       "      <td>U</td>\n",
       "      <td>GT3</td>\n",
       "      <td>A</td>\n",
       "      <td>3</td>\n",
       "      <td>2</td>\n",
       "      <td>services</td>\n",
       "      <td>other</td>\n",
       "      <td>...</td>\n",
       "      <td>5</td>\n",
       "      <td>5</td>\n",
       "      <td>3</td>\n",
       "      <td>1</td>\n",
       "      <td>1</td>\n",
       "      <td>5</td>\n",
       "      <td>0</td>\n",
       "      <td>17</td>\n",
       "      <td>18</td>\n",
       "      <td>18</td>\n",
       "    </tr>\n",
       "    <tr>\n",
       "      <th>376</th>\n",
       "      <td>MS</td>\n",
       "      <td>F</td>\n",
       "      <td>20</td>\n",
       "      <td>U</td>\n",
       "      <td>GT3</td>\n",
       "      <td>T</td>\n",
       "      <td>4</td>\n",
       "      <td>2</td>\n",
       "      <td>health</td>\n",
       "      <td>other</td>\n",
       "      <td>...</td>\n",
       "      <td>5</td>\n",
       "      <td>4</td>\n",
       "      <td>3</td>\n",
       "      <td>1</td>\n",
       "      <td>1</td>\n",
       "      <td>3</td>\n",
       "      <td>4</td>\n",
       "      <td>15</td>\n",
       "      <td>14</td>\n",
       "      <td>15</td>\n",
       "    </tr>\n",
       "    <tr>\n",
       "      <th>390</th>\n",
       "      <td>MS</td>\n",
       "      <td>M</td>\n",
       "      <td>20</td>\n",
       "      <td>U</td>\n",
       "      <td>LE3</td>\n",
       "      <td>A</td>\n",
       "      <td>2</td>\n",
       "      <td>2</td>\n",
       "      <td>services</td>\n",
       "      <td>services</td>\n",
       "      <td>...</td>\n",
       "      <td>5</td>\n",
       "      <td>5</td>\n",
       "      <td>4</td>\n",
       "      <td>4</td>\n",
       "      <td>5</td>\n",
       "      <td>4</td>\n",
       "      <td>11</td>\n",
       "      <td>9</td>\n",
       "      <td>9</td>\n",
       "      <td>9</td>\n",
       "    </tr>\n",
       "  </tbody>\n",
       "</table>\n",
       "<p>3 rows × 33 columns</p>\n",
       "</div>"
      ],
      "text/plain": [
       "    school sex  age address famsize Pstatus  Medu  Fedu      Mjob      Fjob  \\\n",
       "306     GP   M   20       U     GT3       A     3     2  services     other   \n",
       "376     MS   F   20       U     GT3       T     4     2    health     other   \n",
       "390     MS   M   20       U     LE3       A     2     2  services  services   \n",
       "\n",
       "     ... famrel freetime  goout  Dalc  Walc health absences  G1  G2  G3  \n",
       "306  ...      5        5      3     1     1      5        0  17  18  18  \n",
       "376  ...      5        4      3     1     1      3        4  15  14  15  \n",
       "390  ...      5        5      4     4     5      4       11   9   9   9  \n",
       "\n",
       "[3 rows x 33 columns]"
      ]
     },
     "execution_count": 36,
     "metadata": {},
     "output_type": "execute_result"
    }
   ],
   "source": [
    "student[student['age']==20]"
   ]
  },
  {
   "cell_type": "markdown",
   "id": "9f973bf8",
   "metadata": {},
   "source": [
    "##### 2.6.2. Mother's education-G3\n",
    "\n",
    "Medu - mother's education (numeric: 0 - none, 1 - primary education (4th grade), 2 -“ 5th to 9th grade, 3 -“ secondary education or 4 -“ higher education)"
   ]
  },
  {
   "cell_type": "code",
   "execution_count": 44,
   "id": "a1fa0e4f",
   "metadata": {},
   "outputs": [
    {
     "data": {
      "image/png": "[encoded data removed]",
      "text/plain": [
       "<Figure size 432x288 with 1 Axes>"
      ]
     },
     "metadata": {
      "needs_background": "light"
     },
     "output_type": "display_data"
    }
   ],
   "source": [
    "sns.barplot(x='Medu', y='G3', data=student)\n",
    "plt.show()"
   ]
  },
  {
   "cell_type": "code",
   "execution_count": 60,
   "id": "d63f9441",
   "metadata": {},
   "outputs": [
    {
     "name": "stdout",
     "output_type": "stream",
     "text": [
      "0.9115764646138421\n"
     ]
    }
   ],
   "source": [
    "stat, p = stats.levene(edu1_g3,edu2_g3,edu3_g3,edu4_g3)\n",
    "print(p)"
   ]
  },
  {
   "cell_type": "code",
   "execution_count": 61,
   "id": "cd9448b1",
   "metadata": {},
   "outputs": [
    {
     "data": {
      "text/plain": [
       "F_onewayResult(statistic=7.764637445390311, pvalue=4.7757129583192325e-05)"
      ]
     },
     "execution_count": 61,
     "metadata": {},
     "output_type": "execute_result"
    }
   ],
   "source": [
    "edu1_g3=student[student['Medu']==1]['G3']\n",
    "edu2_g3=student[student['Medu']==2]['G3']\n",
    "edu3_g3=student[student['Medu']==3]['G3']\n",
    "edu4_g3=student[student['Medu']==4]['G3']\n",
    "\n",
    "stats.f_oneway(edu1_g3,edu2_g3,edu3_g3,edu4_g3)"
   ]
  },
  {
   "cell_type": "markdown",
   "id": "2caf7ce1",
   "metadata": {},
   "source": [
    "##### Findings\n",
    "   P-value < 0.0005/ The differences in mean grades are statistically significant between at least two groups"
   ]
  },
  {
   "cell_type": "markdown",
   "id": "813d5bc6",
   "metadata": {},
   "source": [
    "##### 2.6.3. Father's education-G3\n",
    "\n",
    "Fedu - father's education (numeric: 0 - none, 1 - primary education (4th grade), 2 â€“ 5th to 9th grade, 3 â€“ secondary education or 4 â€“ higher education)"
   ]
  },
  {
   "cell_type": "code",
   "execution_count": 46,
   "id": "2c4a51a4",
   "metadata": {},
   "outputs": [
    {
     "data": {
      "image/png": "[encoded data removed]",
      "text/plain": [
       "<Figure size 432x288 with 1 Axes>"
      ]
     },
     "metadata": {
      "needs_background": "light"
     },
     "output_type": "display_data"
    }
   ],
   "source": [
    "sns.barplot(x='Fedu', y='G3', data=student)\n",
    "plt.show()"
   ]
  },
  {
   "cell_type": "code",
   "execution_count": 66,
   "id": "5184e0d5",
   "metadata": {},
   "outputs": [
    {
     "name": "stdout",
     "output_type": "stream",
     "text": [
      "0.7655693916534604\n"
     ]
    }
   ],
   "source": [
    "stat, p = stats.levene(edu1_g3,edu2_g3,edu3_g3,edu4_g3)\n",
    "print(p)"
   ]
  },
  {
   "cell_type": "code",
   "execution_count": 65,
   "id": "f5004497",
   "metadata": {},
   "outputs": [
    {
     "data": {
      "text/plain": [
       "F_onewayResult(statistic=3.635515298951298, pvalue=0.013035488714246379)"
      ]
     },
     "execution_count": 65,
     "metadata": {},
     "output_type": "execute_result"
    }
   ],
   "source": [
    "edu1_g3=student[student['Fedu']==1]['G3']\n",
    "edu2_g3=student[student['Fedu']==2]['G3']\n",
    "edu3_g3=student[student['Fedu']==3]['G3']\n",
    "edu4_g3=student[student['Fedu']==4]['G3']\n",
    "\n",
    "stats.f_oneway(edu1_g3,edu2_g3,edu3_g3,edu4_g3)"
   ]
  },
  {
   "cell_type": "markdown",
   "id": "3513b458",
   "metadata": {},
   "source": [
    "##### Findings\n",
    "   P-value=0.01/ The difference in mean grades is statistically significant between at least two groups"
   ]
  },
  {
   "cell_type": "markdown",
   "id": "4f9aa89b",
   "metadata": {},
   "source": [
    "##### 2.6.4. Mother's Job-G3\n",
    "\n",
    "Mjob - mother's job (nominal: 'teacher', 'health' care related, civil 'services' (e.g. administrative or police), 'at_home' or 'other')"
   ]
  },
  {
   "cell_type": "code",
   "execution_count": 48,
   "id": "d52acb81",
   "metadata": {},
   "outputs": [
    {
     "data": {
      "image/png": "[encoded data removed]",
      "text/plain": [
       "<Figure size 432x288 with 1 Axes>"
      ]
     },
     "metadata": {
      "needs_background": "light"
     },
     "output_type": "display_data"
    }
   ],
   "source": [
    "sns.barplot(x='Mjob', y='G3', data=student)\n",
    "plt.show()"
   ]
  },
  {
   "cell_type": "code",
   "execution_count": 69,
   "id": "d7be2238",
   "metadata": {},
   "outputs": [
    {
     "name": "stdout",
     "output_type": "stream",
     "text": [
      "0.9437753301264346\n"
     ]
    }
   ],
   "source": [
    "stat, p = stats.levene(home_g3,health_g3,other_g3,services_g3,teacher_g3)\n",
    "print(p)"
   ]
  },
  {
   "cell_type": "code",
   "execution_count": 70,
   "id": "4c836422",
   "metadata": {},
   "outputs": [
    {
     "data": {
      "text/plain": [
       "F_onewayResult(statistic=3.7544596189013513, pvalue=0.005194749939407733)"
      ]
     },
     "execution_count": 70,
     "metadata": {},
     "output_type": "execute_result"
    }
   ],
   "source": [
    "home_g3=student[student['Mjob']=='at_home']['G3']\n",
    "health_g3=student[student['Mjob']=='health']['G3']\n",
    "other_g3=student[student['Mjob']=='other']['G3']\n",
    "services_g3=student[student['Mjob']=='services']['G3']\n",
    "teacher_g3=student[student['Mjob']=='teacher']['G3']\n",
    "\n",
    "stats.f_oneway(home_g3,health_g3,other_g3,services_g3,teacher_g3)"
   ]
  },
  {
   "cell_type": "markdown",
   "id": "c05d4281",
   "metadata": {},
   "source": [
    "##### Findings\n",
    "P-value: 0.005/  The differences in mean grades are statistically significant between at least two groups."
   ]
  },
  {
   "cell_type": "markdown",
   "id": "355ed426",
   "metadata": {},
   "source": [
    "##### 2.6.5. Father's Job-G3\n",
    "\n",
    "Fjob - father's job (nominal: 'teacher', 'health' care related, civil 'services' (e.g. administrative or police), 'at_home' or 'other')-->Why they classify jobs to these five?"
   ]
  },
  {
   "cell_type": "code",
   "execution_count": 50,
   "id": "2ae07ea2",
   "metadata": {},
   "outputs": [
    {
     "data": {
      "image/png": "[encoded data removed]",
      "text/plain": [
       "<Figure size 432x288 with 1 Axes>"
      ]
     },
     "metadata": {
      "needs_background": "light"
     },
     "output_type": "display_data"
    }
   ],
   "source": [
    "sns.barplot(x='Fjob', y='G3', data=student)\n",
    "plt.show()"
   ]
  },
  {
   "cell_type": "code",
   "execution_count": 74,
   "id": "a22ca83d",
   "metadata": {},
   "outputs": [
    {
     "name": "stdout",
     "output_type": "stream",
     "text": [
      "0.44132948635335056\n"
     ]
    }
   ],
   "source": [
    "stat, p = stats.levene(home_g3,health_g3,other_g3,services_g3,teacher_g3)\n",
    "print(p)"
   ]
  },
  {
   "cell_type": "code",
   "execution_count": 73,
   "id": "1a2bcd60",
   "metadata": {},
   "outputs": [
    {
     "data": {
      "text/plain": [
       "F_onewayResult(statistic=1.3029154881291378, pvalue=0.2683141692179647)"
      ]
     },
     "execution_count": 73,
     "metadata": {},
     "output_type": "execute_result"
    }
   ],
   "source": [
    "home_g3=student[student['Fjob']=='at_home']['G3']\n",
    "health_g3=student[student['Fjob']=='health']['G3']\n",
    "other_g3=student[student['Fjob']=='other']['G3']\n",
    "services_g3=student[student['Fjob']=='services']['G3']\n",
    "teacher_g3=student[student['Fjob']=='teacher']['G3']\n",
    "\n",
    "stats.f_oneway(home_g3,health_g3,other_g3,services_g3,teacher_g3)"
   ]
  },
  {
   "cell_type": "markdown",
   "id": "b69ac129",
   "metadata": {},
   "source": [
    "##### Findings\n",
    "P-value: 0.27/ There are weak evidences to reject the null hypothesis. Therefore, the differences in mean grades are not statistically significant."
   ]
  },
  {
   "cell_type": "markdown",
   "id": "ff71f3dc",
   "metadata": {},
   "source": [
    "##### 2.6.6. reason to choose this school-G3\n",
    "\n",
    "reason - reason to choose this school (nominal: close to 'home', school 'reputation', 'course' preference or 'other')"
   ]
  },
  {
   "cell_type": "code",
   "execution_count": 52,
   "id": "bceec6b7",
   "metadata": {},
   "outputs": [
    {
     "data": {
      "image/png": "[encoded data removed]",
      "text/plain": [
       "<Figure size 432x288 with 1 Axes>"
      ]
     },
     "metadata": {
      "needs_background": "light"
     },
     "output_type": "display_data"
    }
   ],
   "source": [
    "sns.barplot(x='reason', y='G3', data=student)\n",
    "plt.show()"
   ]
  },
  {
   "cell_type": "code",
   "execution_count": 77,
   "id": "c9853efb",
   "metadata": {},
   "outputs": [
    {
     "name": "stdout",
     "output_type": "stream",
     "text": [
      "0.4709416983605361\n"
     ]
    }
   ],
   "source": [
    "stat, p = stats.levene(course,other,home,repu)\n",
    "print(p)"
   ]
  },
  {
   "cell_type": "code",
   "execution_count": 76,
   "id": "2b0b46aa",
   "metadata": {},
   "outputs": [
    {
     "data": {
      "text/plain": [
       "F_onewayResult(statistic=2.0799920508343344, pvalue=0.10233745609730385)"
      ]
     },
     "execution_count": 76,
     "metadata": {},
     "output_type": "execute_result"
    }
   ],
   "source": [
    "course=student[student['reason']=='course']['G3']\n",
    "other=student[student['reason']=='other']['G3']\n",
    "home=student[student['reason']=='home']['G3']\n",
    "repu=student[student['reason']=='reputation']['G3']\n",
    "\n",
    "\n",
    "stats.f_oneway(course,other,home,repu)"
   ]
  },
  {
   "cell_type": "markdown",
   "id": "dc9ab3f4",
   "metadata": {},
   "source": [
    "##### Findings\n",
    "P-value: 0.10/ There are weak evidences to reject the null hypothesis. Therefore, the differences in mean grades are not statistically significant."
   ]
  },
  {
   "cell_type": "markdown",
   "id": "73d96e19",
   "metadata": {},
   "source": [
    "##### 2.6.7. Guardian-G3\n",
    "guardian - student's guardian (nominal: 'mother', 'father' or 'other')"
   ]
  },
  {
   "cell_type": "code",
   "execution_count": 54,
   "id": "81e7d12d",
   "metadata": {},
   "outputs": [
    {
     "data": {
      "image/png": "[encoded data removed]",
      "text/plain": [
       "<Figure size 432x288 with 1 Axes>"
      ]
     },
     "metadata": {
      "needs_background": "light"
     },
     "output_type": "display_data"
    }
   ],
   "source": [
    "sns.barplot(x='guardian', y='G3', data=student)\n",
    "plt.show()"
   ]
  },
  {
   "cell_type": "code",
   "execution_count": 79,
   "id": "ccf98e13",
   "metadata": {},
   "outputs": [
    {
     "name": "stdout",
     "output_type": "stream",
     "text": [
      "0.9231057825513399\n"
     ]
    }
   ],
   "source": [
    "stat, p = stats.levene(mo,fa,other)\n",
    "print(p)"
   ]
  },
  {
   "cell_type": "code",
   "execution_count": 78,
   "id": "7fb986ae",
   "metadata": {},
   "outputs": [
    {
     "data": {
      "text/plain": [
       "F_onewayResult(statistic=1.5905172045230977, pvalue=0.2051326420058259)"
      ]
     },
     "execution_count": 78,
     "metadata": {},
     "output_type": "execute_result"
    }
   ],
   "source": [
    "mo=student[student['guardian']=='mother']['G3']\n",
    "fa=student[student['guardian']=='father']['G3']\n",
    "other=student[student['guardian']=='other']['G3']\n",
    "\n",
    "stats.f_oneway(mo,fa,other)"
   ]
  },
  {
   "cell_type": "markdown",
   "id": "99ea690a",
   "metadata": {},
   "source": [
    "##### Findings\n",
    "P-value: 0.21/ There are weak evidences to reject the null hypothesis. Therefore, the differences in mean grades are not statistically significant.\n"
   ]
  },
  {
   "cell_type": "markdown",
   "id": "eff0b712",
   "metadata": {},
   "source": [
    "##### 2.6.8. traveltime-G3\n",
    "traveltime - home to school travel time (numeric: 1 - <15 min., 2 - 15 to 30 min., 3 - 30 min. to 1 hour, or 4 - >1 hour)"
   ]
  },
  {
   "cell_type": "code",
   "execution_count": 56,
   "id": "e19b8b8d",
   "metadata": {},
   "outputs": [
    {
     "data": {
      "image/png": "[encoded data removed]",
      "text/plain": [
       "<Figure size 432x288 with 1 Axes>"
      ]
     },
     "metadata": {
      "needs_background": "light"
     },
     "output_type": "display_data"
    }
   ],
   "source": [
    "sns.barplot(x='traveltime', y='G3', data=student)\n",
    "plt.show()"
   ]
  },
  {
   "cell_type": "code",
   "execution_count": 81,
   "id": "e2764cf6",
   "metadata": {},
   "outputs": [
    {
     "name": "stdout",
     "output_type": "stream",
     "text": [
      "0.758073625212522\n"
     ]
    }
   ],
   "source": [
    "stat, p = stats.levene(one,two,three,four)\n",
    "print(p)"
   ]
  },
  {
   "cell_type": "code",
   "execution_count": 82,
   "id": "536f6d7e",
   "metadata": {},
   "outputs": [
    {
     "data": {
      "text/plain": [
       "F_onewayResult(statistic=1.8397512190059848, pvalue=0.13937884626846256)"
      ]
     },
     "execution_count": 82,
     "metadata": {},
     "output_type": "execute_result"
    }
   ],
   "source": [
    "one=student[student['traveltime']==1]['G3']\n",
    "two=student[student['traveltime']==2]['G3']\n",
    "three=student[student['traveltime']==3]['G3']\n",
    "four=student[student['traveltime']==4]['G3']\n",
    "\n",
    "stats.f_oneway(one,two,three,four)"
   ]
  },
  {
   "cell_type": "markdown",
   "id": "e64f6722",
   "metadata": {},
   "source": [
    "##### Findings\n",
    "P-value: 0.14/ There are weak evidences to reject the null hypothesis. Therefore, the differences in mean grades are not statistically significant.\n"
   ]
  },
  {
   "cell_type": "markdown",
   "id": "f20ac465",
   "metadata": {},
   "source": [
    "##### 2.6.9. studytime-G3\n",
    "studytime - weekly study time (numeric: 1 - <2 hours, 2 - 2 to 5 hours, 3 - 5 to 10 hours, or 4 - >10 hours)"
   ]
  },
  {
   "cell_type": "code",
   "execution_count": 58,
   "id": "b03d45c7",
   "metadata": {},
   "outputs": [
    {
     "data": {
      "image/png": "[encoded data removed]",
      "text/plain": [
       "<Figure size 432x288 with 1 Axes>"
      ]
     },
     "metadata": {
      "needs_background": "light"
     },
     "output_type": "display_data"
    }
   ],
   "source": [
    "sns.barplot(x='studytime', y='G3', data=student)\n",
    "plt.show()"
   ]
  },
  {
   "cell_type": "code",
   "execution_count": 84,
   "id": "f53fe37a",
   "metadata": {},
   "outputs": [
    {
     "name": "stdout",
     "output_type": "stream",
     "text": [
      "0.27701862882516815\n"
     ]
    }
   ],
   "source": [
    "stat, p = stats.levene(one,two,three,four)\n",
    "print(p)"
   ]
  },
  {
   "cell_type": "code",
   "execution_count": 83,
   "id": "01db7821",
   "metadata": {},
   "outputs": [
    {
     "data": {
      "text/plain": [
       "F_onewayResult(statistic=1.7278351054436039, pvalue=0.1607228096836598)"
      ]
     },
     "execution_count": 83,
     "metadata": {},
     "output_type": "execute_result"
    }
   ],
   "source": [
    "one=student[student['studytime']==1]['G3']\n",
    "two=student[student['studytime']==2]['G3']\n",
    "three=student[student['studytime']==3]['G3']\n",
    "four=student[student['studytime']==4]['G3']\n",
    "\n",
    "stats.f_oneway(one,two,three,four)"
   ]
  },
  {
   "cell_type": "markdown",
   "id": "ec0152f9",
   "metadata": {},
   "source": [
    "##### Findings\n",
    "P-value: 0.27/ There are weak evidences to reject the null hypothesis. Therefore, the differences in mean grades are not statistically significant.\n",
    "\n",
    "--> I thought this was interesting. There were no differences in average grades according to study times "
   ]
  },
  {
   "cell_type": "markdown",
   "id": "474de8df",
   "metadata": {},
   "source": [
    "##### 2.6.10 Failures-G3\n",
    "failures - number of past class failures (numeric: n if 1<=n<3, else 4)"
   ]
  },
  {
   "cell_type": "code",
   "execution_count": 85,
   "id": "b40cd28b",
   "metadata": {},
   "outputs": [
    {
     "data": {
      "image/png": "[encoded data removed]",
      "text/plain": [
       "<Figure size 432x288 with 1 Axes>"
      ]
     },
     "metadata": {
      "needs_background": "light"
     },
     "output_type": "display_data"
    }
   ],
   "source": [
    "sns.barplot(x='failures', y='G3', data=student)\n",
    "plt.show()"
   ]
  },
  {
   "cell_type": "code",
   "execution_count": 87,
   "id": "857c8893",
   "metadata": {},
   "outputs": [
    {
     "name": "stdout",
     "output_type": "stream",
     "text": [
      "0.502292962573011\n"
     ]
    }
   ],
   "source": [
    "stat, p = stats.levene(zero, one,two,three)\n",
    "print(p)"
   ]
  },
  {
   "cell_type": "code",
   "execution_count": 88,
   "id": "395c4c2b",
   "metadata": {},
   "outputs": [
    {
     "data": {
      "text/plain": [
       "F_onewayResult(statistic=20.778270848358368, pvalue=1.6421656015988342e-12)"
      ]
     },
     "execution_count": 88,
     "metadata": {},
     "output_type": "execute_result"
    }
   ],
   "source": [
    "zero=student[student['failures']==0]['G3']\n",
    "one=student[student['failures']==1]['G3']\n",
    "two=student[student['failures']==2]['G3']\n",
    "three=student[student['failures']==3]['G3']\n",
    "\n",
    "\n",
    "stats.f_oneway(zero, one,two,three)"
   ]
  },
  {
   "cell_type": "markdown",
   "id": "d3ad8d5b",
   "metadata": {},
   "source": [
    "##### Findings\n",
    "P-value< 0.005/  The differences in mean grades are statistically significant between at least two groups.\n"
   ]
  },
  {
   "cell_type": "markdown",
   "id": "a2edcba4",
   "metadata": {},
   "source": [
    "##### 2.6.11. Quality of family relationship-G3\n",
    "famrel - quality of family relationships (numeric: from 1 - very bad to 5 - excellent)"
   ]
  },
  {
   "cell_type": "code",
   "execution_count": 78,
   "id": "155b19df",
   "metadata": {},
   "outputs": [
    {
     "data": {
      "image/png": "[encoded data removed]",
      "text/plain": [
       "<Figure size 432x288 with 1 Axes>"
      ]
     },
     "metadata": {
      "needs_background": "light"
     },
     "output_type": "display_data"
    }
   ],
   "source": [
    "sns.barplot(x='famrel', y='G3', data=student)\n",
    "plt.show()"
   ]
  },
  {
   "cell_type": "code",
   "execution_count": 90,
   "id": "6b763f3b",
   "metadata": {},
   "outputs": [
    {
     "name": "stdout",
     "output_type": "stream",
     "text": [
      "0.6752633481121397\n"
     ]
    }
   ],
   "source": [
    "stat, p = stats.levene(one,two,three, four, five)\n",
    "print(p)"
   ]
  },
  {
   "cell_type": "code",
   "execution_count": 91,
   "id": "2473aace",
   "metadata": {},
   "outputs": [
    {
     "data": {
      "text/plain": [
       "F_onewayResult(statistic=0.3974329754209523, pvalue=0.8104874341858186)"
      ]
     },
     "execution_count": 91,
     "metadata": {},
     "output_type": "execute_result"
    }
   ],
   "source": [
    "one=student[student['famrel']==1]['G3']\n",
    "two=student[student['famrel']==2]['G3']\n",
    "three=student[student['famrel']==3]['G3']\n",
    "four=student[student['famrel']==4]['G3']\n",
    "five=student[student['famrel']==5]['G3']\n",
    "\n",
    "\n",
    "stats.f_oneway(one,two,three, four, five)"
   ]
  },
  {
   "cell_type": "markdown",
   "id": "1ca6e9ce",
   "metadata": {},
   "source": [
    "##### Findings\n",
    "P-value: 0.81/ There are weak evidences to reject the null hypothesis. Therefore, the differences in mean grades are not statistically significant.\n"
   ]
  },
  {
   "cell_type": "markdown",
   "id": "cb6e784e",
   "metadata": {},
   "source": [
    "##### 2.6.12. freetime-G3\n",
    "freetime - free time after school (numeric: from 1 - very low to 5 - very high)"
   ]
  },
  {
   "cell_type": "code",
   "execution_count": 80,
   "id": "21d9a1db",
   "metadata": {},
   "outputs": [
    {
     "data": {
      "image/png": "[encoded data removed]",
      "text/plain": [
       "<Figure size 432x288 with 1 Axes>"
      ]
     },
     "metadata": {
      "needs_background": "light"
     },
     "output_type": "display_data"
    }
   ],
   "source": [
    "sns.barplot(x='freetime', y='G3', data=student)\n",
    "plt.show()"
   ]
  },
  {
   "cell_type": "code",
   "execution_count": 94,
   "id": "76d1e3c2",
   "metadata": {},
   "outputs": [
    {
     "name": "stdout",
     "output_type": "stream",
     "text": [
      "0.814501988573653\n"
     ]
    }
   ],
   "source": [
    "stat, p = stats.levene(one,two,three, four, five)\n",
    "print(p)"
   ]
  },
  {
   "cell_type": "code",
   "execution_count": 93,
   "id": "c672eab5",
   "metadata": {},
   "outputs": [
    {
     "data": {
      "text/plain": [
       "F_onewayResult(statistic=2.2245187381855573, pvalue=0.06574414402506515)"
      ]
     },
     "execution_count": 93,
     "metadata": {},
     "output_type": "execute_result"
    }
   ],
   "source": [
    "one=student[student['freetime']==1]['G3']\n",
    "two=student[student['freetime']==2]['G3']\n",
    "three=student[student['freetime']==3]['G3']\n",
    "four=student[student['freetime']==4]['G3']\n",
    "five=student[student['freetime']==5]['G3']\n",
    "\n",
    "\n",
    "stats.f_oneway(one,two,three, four, five)"
   ]
  },
  {
   "cell_type": "markdown",
   "id": "2474748c",
   "metadata": {},
   "source": [
    "##### Findings\n",
    "P-value: 0.07/ There are weak evidences to reject the null hypothesis. Therefore, the differences in mean grades are not statistically significant."
   ]
  },
  {
   "cell_type": "markdown",
   "id": "a22cf69a",
   "metadata": {},
   "source": [
    "##### 2.6.13. going out with friends-G3\n",
    "goout - going out with friends (numeric: from 1 - very low to 5 - very high)"
   ]
  },
  {
   "cell_type": "code",
   "execution_count": 82,
   "id": "b10992be",
   "metadata": {},
   "outputs": [
    {
     "data": {
      "image/png": "[encoded data removed]",
      "text/plain": [
       "<Figure size 432x288 with 1 Axes>"
      ]
     },
     "metadata": {
      "needs_background": "light"
     },
     "output_type": "display_data"
    }
   ],
   "source": [
    "sns.barplot(x='goout', y='G3', data=student)\n",
    "plt.show()"
   ]
  },
  {
   "cell_type": "code",
   "execution_count": 96,
   "id": "c8a280d3",
   "metadata": {},
   "outputs": [
    {
     "name": "stdout",
     "output_type": "stream",
     "text": [
      "0.6381076951690933\n"
     ]
    }
   ],
   "source": [
    "stat, p = stats.levene(one,two,three, four, five)\n",
    "print(p)"
   ]
  },
  {
   "cell_type": "code",
   "execution_count": 97,
   "id": "e655047d",
   "metadata": {},
   "outputs": [
    {
     "data": {
      "text/plain": [
       "F_onewayResult(statistic=3.1512156349464284, pvalue=0.014380078895198916)"
      ]
     },
     "execution_count": 97,
     "metadata": {},
     "output_type": "execute_result"
    }
   ],
   "source": [
    "one=student[student['goout']==1]['G3']\n",
    "two=student[student['goout']==2]['G3']\n",
    "three=student[student['goout']==3]['G3']\n",
    "four=student[student['goout']==4]['G3']\n",
    "five=student[student['goout']==5]['G3']\n",
    "\n",
    "\n",
    "stats.f_oneway(one,two,three, four, five)"
   ]
  },
  {
   "cell_type": "markdown",
   "id": "beb7b581",
   "metadata": {},
   "source": [
    "##### Findings\n",
    "P-value: 0.01/  The differences in mean grades are statistically significant between at least two groups."
   ]
  },
  {
   "cell_type": "markdown",
   "id": "6a9f4891",
   "metadata": {},
   "source": [
    "##### 2.6.14. workday alcohol-G3\n",
    "Dalc - workday alcohol consumption (numeric: from 1 - very low to 5 - very high)"
   ]
  },
  {
   "cell_type": "code",
   "execution_count": 84,
   "id": "534e4d80",
   "metadata": {},
   "outputs": [
    {
     "data": {
      "image/png": "[encoded data removed]",
      "text/plain": [
       "<Figure size 432x288 with 1 Axes>"
      ]
     },
     "metadata": {
      "needs_background": "light"
     },
     "output_type": "display_data"
    }
   ],
   "source": [
    "sns.barplot(x='Dalc', y='G3', data=student)\n",
    "plt.show()"
   ]
  },
  {
   "cell_type": "code",
   "execution_count": 99,
   "id": "2ad386aa",
   "metadata": {},
   "outputs": [
    {
     "name": "stdout",
     "output_type": "stream",
     "text": [
      "0.12511604774019766\n"
     ]
    }
   ],
   "source": [
    "stat, p = stats.levene(one,two,three, four, five)\n",
    "print(p)"
   ]
  },
  {
   "cell_type": "code",
   "execution_count": 98,
   "id": "74718c0c",
   "metadata": {},
   "outputs": [
    {
     "data": {
      "text/plain": [
       "F_onewayResult(statistic=1.5836045063367645, pvalue=0.17786362227119418)"
      ]
     },
     "execution_count": 98,
     "metadata": {},
     "output_type": "execute_result"
    }
   ],
   "source": [
    "one=student[student['Dalc']==1]['G3']\n",
    "two=student[student['Dalc']==2]['G3']\n",
    "three=student[student['Dalc']==3]['G3']\n",
    "four=student[student['Dalc']==4]['G3']\n",
    "five=student[student['Dalc']==5]['G3']\n",
    "\n",
    "\n",
    "stats.f_oneway(one,two,three, four, five)"
   ]
  },
  {
   "cell_type": "markdown",
   "id": "ca17792b",
   "metadata": {},
   "source": [
    "##### Findings\n",
    "P-value: 0.17/ There are weak evidences to reject the null hypothesis. Therefore, the differences in mean grades are not statistically significant.\n"
   ]
  },
  {
   "cell_type": "markdown",
   "id": "93784f60",
   "metadata": {},
   "source": [
    "###### Implications!\n",
    "집단 간 유의한 차이가 없음"
   ]
  },
  {
   "cell_type": "markdown",
   "id": "5cef1b10",
   "metadata": {},
   "source": [
    "##### 2.6.15. health-G3\n",
    " health - current health status (numeric: from 1 - very bad to 5 - very good)"
   ]
  },
  {
   "cell_type": "code",
   "execution_count": 88,
   "id": "82f2c759",
   "metadata": {},
   "outputs": [
    {
     "data": {
      "image/png": "[encoded data removed]",
      "text/plain": [
       "<Figure size 432x288 with 1 Axes>"
      ]
     },
     "metadata": {
      "needs_background": "light"
     },
     "output_type": "display_data"
    }
   ],
   "source": [
    "sns.barplot(x='health', y='G3', data=student)\n",
    "plt.show()"
   ]
  },
  {
   "cell_type": "code",
   "execution_count": 115,
   "id": "3b8bec14",
   "metadata": {},
   "outputs": [
    {
     "name": "stdout",
     "output_type": "stream",
     "text": [
      "0.2817642124885496\n"
     ]
    }
   ],
   "source": [
    "stat, p = stats.levene(one,two,three, four, five)\n",
    "print(p)"
   ]
  },
  {
   "cell_type": "code",
   "execution_count": 114,
   "id": "abc432c4",
   "metadata": {},
   "outputs": [
    {
     "data": {
      "text/plain": [
       "F_onewayResult(statistic=1.4682836637827363, pvalue=0.21108482009233293)"
      ]
     },
     "execution_count": 114,
     "metadata": {},
     "output_type": "execute_result"
    }
   ],
   "source": [
    "one=student[student['health']==1]['G3']\n",
    "two=student[student['health']==2]['G3']\n",
    "three=student[student['health']==3]['G3']\n",
    "four=student[student['health']==4]['G3']\n",
    "five=student[student['health']==5]['G3']\n",
    "\n",
    "\n",
    "stats.f_oneway(one,two,three, four, five)"
   ]
  },
  {
   "cell_type": "markdown",
   "id": "dd550a1e",
   "metadata": {},
   "source": [
    "##### Findings\n",
    "P-value: 0.21/ There are weak evidences to reject the null hypothesis. Therefore, the differences in mean grades are not statistically significant.\n"
   ]
  },
  {
   "cell_type": "markdown",
   "id": "064b33fd",
   "metadata": {},
   "source": [
    "##### 2.6.17. absences-G3\n",
    "absences - number of school absences (numeric: from 0 to 93)"
   ]
  },
  {
   "cell_type": "code",
   "execution_count": 90,
   "id": "abc4027f",
   "metadata": {},
   "outputs": [
    {
     "data": {
      "image/png": "[encoded data removed]",
      "text/plain": [
       "<Figure size 432x288 with 1 Axes>"
      ]
     },
     "metadata": {
      "needs_background": "light"
     },
     "output_type": "display_data"
    }
   ],
   "source": [
    "sns.barplot(x='absences', y='G3', data=student)\n",
    "plt.show()"
   ]
  },
  {
   "cell_type": "markdown",
   "id": "4b13e974",
   "metadata": {},
   "source": [
    "#### Results of ANOVA\n",
    "-Differences in average grades between at least two groups are statistically significant:\n",
    "\n",
    "[Age, Mother's education, Father's education, Mother's job, The number of failures, Going out with friends]\n",
    "\n",
    "-Differences in average grades between at least two groups are not statistically significant:\n",
    "\n",
    "[Father's job, Reasons to choose school, Guardian, Traveltime, Studytime, Quality of family relationship, Freetime]"
   ]
  },
  {
   "cell_type": "markdown",
   "id": "7289cc40",
   "metadata": {},
   "source": [
    "### 3. Data Preprocessing"
   ]
  },
  {
   "cell_type": "markdown",
   "id": "085763be",
   "metadata": {},
   "source": [
    "#### 3.1. Replacing the 0 values of 'Medu' and 'Fedu' with their respective mean\n",
    "\n",
    "Compulsory education in Portugal lasts until the ninth grade.\n",
    "\n",
    "Given that [Medu and Fedu]==1 is 4th grade and 2 is 5-9th grade, 0 is likely null data, not no education at all.\n",
    "\n",
    "--> Therefore, I'll replace the zero value with the average value."
   ]
  },
  {
   "cell_type": "code",
   "execution_count": 3,
   "id": "ca06dbf5",
   "metadata": {},
   "outputs": [],
   "source": [
    "medu_index=student[student['Medu']==0].index\n",
    "fedu_index=student[student['Fedu']==0].index"
   ]
  },
  {
   "cell_type": "code",
   "execution_count": 4,
   "id": "c52f4b56",
   "metadata": {},
   "outputs": [],
   "source": [
    "medu_mean=int(student['Medu'].mean())\n",
    "fedu_mean=int(student['Fedu'].mean())"
   ]
  },
  {
   "cell_type": "code",
   "execution_count": 5,
   "id": "fcdc4f7b",
   "metadata": {},
   "outputs": [],
   "source": [
    "student.loc[medu_index, 'Medu']= medu_mean\n",
    "student.loc[fedu_index,'Fedu']=fedu_mean"
   ]
  },
  {
   "cell_type": "markdown",
   "id": "bda86738",
   "metadata": {},
   "source": [
    "#### 3.2.  Highly correlated features\n",
    "1. Mean Walc, Dalc -> Weekc \n",
    "\n",
    "2. Mean Medu, Fedu -> pedu\n",
    "\n",
    "3. G1,G2 -> Ridge/ Lasso"
   ]
  },
  {
   "cell_type": "markdown",
   "id": "c2aa26e7",
   "metadata": {},
   "source": [
    "##### 3.2.1. Walc, Dalc -> weekc\n",
    "I'll create 'weekly alcohol' as the average of two features."
   ]
  },
  {
   "cell_type": "code",
   "execution_count": 6,
   "id": "35d00f3e",
   "metadata": {},
   "outputs": [
    {
     "data": {
      "text/plain": [
       "1    151\n",
       "2     85\n",
       "3     80\n",
       "4     51\n",
       "5     28\n",
       "Name: Walc, dtype: int64"
      ]
     },
     "execution_count": 6,
     "metadata": {},
     "output_type": "execute_result"
    }
   ],
   "source": [
    "student['Walc'].value_counts()"
   ]
  },
  {
   "cell_type": "code",
   "execution_count": 7,
   "id": "586e6ab0",
   "metadata": {},
   "outputs": [
    {
     "data": {
      "text/plain": [
       "1    276\n",
       "2     75\n",
       "3     26\n",
       "5      9\n",
       "4      9\n",
       "Name: Dalc, dtype: int64"
      ]
     },
     "execution_count": 7,
     "metadata": {},
     "output_type": "execute_result"
    }
   ],
   "source": [
    "student['Dalc'].value_counts()"
   ]
  },
  {
   "cell_type": "code",
   "execution_count": 8,
   "id": "6de18ea4",
   "metadata": {},
   "outputs": [],
   "source": [
    "student['weekc']=(student['Walc']+student['Dalc'])/2"
   ]
  },
  {
   "cell_type": "code",
   "execution_count": 9,
   "id": "511acd48",
   "metadata": {},
   "outputs": [
    {
     "data": {
      "text/plain": [
       "1.0    150\n",
       "1.5     66\n",
       "2.0     60\n",
       "2.5     45\n",
       "3.0     35\n",
       "3.5     17\n",
       "5.0      9\n",
       "4.0      9\n",
       "4.5      4\n",
       "Name: weekc, dtype: int64"
      ]
     },
     "execution_count": 9,
     "metadata": {},
     "output_type": "execute_result"
    }
   ],
   "source": [
    "student['weekc'].value_counts()"
   ]
  },
  {
   "cell_type": "markdown",
   "id": "1cd31bb1",
   "metadata": {},
   "source": [
    "##### 3.2.2. Medu, Fedu->pedu (parents education)\n",
    "I'll create 'pedu' as the average of two features."
   ]
  },
  {
   "cell_type": "code",
   "execution_count": 10,
   "id": "11df6977",
   "metadata": {},
   "outputs": [
    {
     "data": {
      "text/plain": [
       "4    131\n",
       "2    106\n",
       "3     99\n",
       "1     59\n",
       "Name: Medu, dtype: int64"
      ]
     },
     "execution_count": 10,
     "metadata": {},
     "output_type": "execute_result"
    }
   ],
   "source": [
    "student['Medu'].value_counts()"
   ]
  },
  {
   "cell_type": "code",
   "execution_count": 11,
   "id": "318e4896",
   "metadata": {},
   "outputs": [
    {
     "data": {
      "text/plain": [
       "2    117\n",
       "3    100\n",
       "4     96\n",
       "1     82\n",
       "Name: Fedu, dtype: int64"
      ]
     },
     "execution_count": 11,
     "metadata": {},
     "output_type": "execute_result"
    }
   ],
   "source": [
    "student['Fedu'].value_counts()"
   ]
  },
  {
   "cell_type": "code",
   "execution_count": 12,
   "id": "5b0d8fe1",
   "metadata": {},
   "outputs": [],
   "source": [
    "student['pedu']=(student['Medu']+student['Fedu'])/2"
   ]
  },
  {
   "cell_type": "code",
   "execution_count": 13,
   "id": "1be48117",
   "metadata": {},
   "outputs": [
    {
     "data": {
      "text/plain": [
       "2.0    73\n",
       "4.0    70\n",
       "3.0    65\n",
       "3.5    58\n",
       "2.5    47\n",
       "1.5    45\n",
       "1.0    37\n",
       "Name: pedu, dtype: int64"
      ]
     },
     "execution_count": 13,
     "metadata": {},
     "output_type": "execute_result"
    }
   ],
   "source": [
    "student['pedu'].value_counts()"
   ]
  },
  {
   "cell_type": "markdown",
   "id": "1d63d029",
   "metadata": {},
   "source": [
    "#### 3.3 Outlier detection\n",
    "1. 'absences'==75: Remove this\n",
    "\n",
    "2. 'G3' =0 : The number of absences for students with a G3 score of 0 is also 0. Therefore, it seems that factors other than absence make G3 0. Only students who got at least 10 in the previous exams but scored 0 in G3 are considered invalid data, which will be removed."
   ]
  },
  {
   "cell_type": "code",
   "execution_count": 18,
   "id": "7e2d4815",
   "metadata": {},
   "outputs": [
    {
     "data": {
      "text/plain": [
       "[130, 135, 136, 259, 264, 296, 334, 341]"
      ]
     },
     "execution_count": 18,
     "metadata": {},
     "output_type": "execute_result"
    }
   ],
   "source": [
    "g3_outlier"
   ]
  },
  {
   "cell_type": "code",
   "execution_count": 19,
   "id": "999fff5a",
   "metadata": {},
   "outputs": [
    {
     "name": "stdout",
     "output_type": "stream",
     "text": [
      "Int64Index([276], dtype='int64')\n"
     ]
    }
   ],
   "source": [
    "absences_outlier=student[student['absences']==75].index\n",
    "print(absences_outlier)"
   ]
  },
  {
   "cell_type": "code",
   "execution_count": 20,
   "id": "b3c974a4",
   "metadata": {},
   "outputs": [],
   "source": [
    "df=student.copy()"
   ]
  },
  {
   "cell_type": "code",
   "execution_count": 21,
   "id": "62678020",
   "metadata": {},
   "outputs": [],
   "source": [
    "drop_index=[130, 135, 136, 259, 264, 276, 296, 334, 341]\n",
    "df.drop(drop_index, axis=0, inplace=True)"
   ]
  },
  {
   "cell_type": "code",
   "execution_count": 22,
   "id": "72e0e031",
   "metadata": {},
   "outputs": [
    {
     "data": {
      "text/plain": [
       "(386, 35)"
      ]
     },
     "execution_count": 22,
     "metadata": {},
     "output_type": "execute_result"
    }
   ],
   "source": [
    "df.shape"
   ]
  },
  {
   "cell_type": "markdown",
   "id": "53ef5aac",
   "metadata": {},
   "source": [
    "#### 3.4 Remove features\n",
    "1. Medu,Fedu\n",
    "2. Walc,Dalc"
   ]
  },
  {
   "cell_type": "code",
   "execution_count": 23,
   "id": "2f2ff773",
   "metadata": {},
   "outputs": [],
   "source": [
    "df.drop(['Medu', 'Fedu', 'Walc', 'Dalc'], axis=1, inplace=True)"
   ]
  },
  {
   "cell_type": "markdown",
   "id": "1b28a251",
   "metadata": {},
   "source": [
    "#### 3.5. One-hot Encoding\n"
   ]
  },
  {
   "cell_type": "code",
   "execution_count": 24,
   "id": "914905fe",
   "metadata": {},
   "outputs": [],
   "source": [
    "df_test=df.copy()\n",
    "df=pd.get_dummies(df)"
   ]
  },
  {
   "cell_type": "code",
   "execution_count": 25,
   "id": "d930b7ba",
   "metadata": {},
   "outputs": [
    {
     "data": {
      "text/plain": [
       "(386, 57)"
      ]
     },
     "execution_count": 25,
     "metadata": {},
     "output_type": "execute_result"
    }
   ],
   "source": [
    "df.shape"
   ]
  },
  {
   "cell_type": "code",
   "execution_count": 26,
   "id": "01765367",
   "metadata": {},
   "outputs": [
    {
     "data": {
      "text/html": [
       "<div>\n",
       "<style scoped>\n",
       "    .dataframe tbody tr th:only-of-type {\n",
       "        vertical-align: middle;\n",
       "    }\n",
       "\n",
       "    .dataframe tbody tr th {\n",
       "        vertical-align: top;\n",
       "    }\n",
       "\n",
       "    .dataframe thead th {\n",
       "        text-align: right;\n",
       "    }\n",
       "</style>\n",
       "<table border=\"1\" class=\"dataframe\">\n",
       "  <thead>\n",
       "    <tr style=\"text-align: right;\">\n",
       "      <th></th>\n",
       "      <th>age</th>\n",
       "      <th>traveltime</th>\n",
       "      <th>studytime</th>\n",
       "      <th>failures</th>\n",
       "      <th>famrel</th>\n",
       "      <th>freetime</th>\n",
       "      <th>goout</th>\n",
       "      <th>health</th>\n",
       "      <th>absences</th>\n",
       "      <th>G1</th>\n",
       "      <th>...</th>\n",
       "      <th>activities_no</th>\n",
       "      <th>activities_yes</th>\n",
       "      <th>nursery_no</th>\n",
       "      <th>nursery_yes</th>\n",
       "      <th>higher_no</th>\n",
       "      <th>higher_yes</th>\n",
       "      <th>internet_no</th>\n",
       "      <th>internet_yes</th>\n",
       "      <th>romantic_no</th>\n",
       "      <th>romantic_yes</th>\n",
       "    </tr>\n",
       "  </thead>\n",
       "  <tbody>\n",
       "    <tr>\n",
       "      <th>0</th>\n",
       "      <td>18</td>\n",
       "      <td>2</td>\n",
       "      <td>2</td>\n",
       "      <td>0</td>\n",
       "      <td>4</td>\n",
       "      <td>3</td>\n",
       "      <td>4</td>\n",
       "      <td>3</td>\n",
       "      <td>6</td>\n",
       "      <td>5</td>\n",
       "      <td>...</td>\n",
       "      <td>1</td>\n",
       "      <td>0</td>\n",
       "      <td>0</td>\n",
       "      <td>1</td>\n",
       "      <td>0</td>\n",
       "      <td>1</td>\n",
       "      <td>1</td>\n",
       "      <td>0</td>\n",
       "      <td>1</td>\n",
       "      <td>0</td>\n",
       "    </tr>\n",
       "    <tr>\n",
       "      <th>1</th>\n",
       "      <td>17</td>\n",
       "      <td>1</td>\n",
       "      <td>2</td>\n",
       "      <td>0</td>\n",
       "      <td>5</td>\n",
       "      <td>3</td>\n",
       "      <td>3</td>\n",
       "      <td>3</td>\n",
       "      <td>4</td>\n",
       "      <td>5</td>\n",
       "      <td>...</td>\n",
       "      <td>1</td>\n",
       "      <td>0</td>\n",
       "      <td>1</td>\n",
       "      <td>0</td>\n",
       "      <td>0</td>\n",
       "      <td>1</td>\n",
       "      <td>0</td>\n",
       "      <td>1</td>\n",
       "      <td>1</td>\n",
       "      <td>0</td>\n",
       "    </tr>\n",
       "    <tr>\n",
       "      <th>2</th>\n",
       "      <td>15</td>\n",
       "      <td>1</td>\n",
       "      <td>2</td>\n",
       "      <td>3</td>\n",
       "      <td>4</td>\n",
       "      <td>3</td>\n",
       "      <td>2</td>\n",
       "      <td>3</td>\n",
       "      <td>10</td>\n",
       "      <td>7</td>\n",
       "      <td>...</td>\n",
       "      <td>1</td>\n",
       "      <td>0</td>\n",
       "      <td>0</td>\n",
       "      <td>1</td>\n",
       "      <td>0</td>\n",
       "      <td>1</td>\n",
       "      <td>0</td>\n",
       "      <td>1</td>\n",
       "      <td>1</td>\n",
       "      <td>0</td>\n",
       "    </tr>\n",
       "  </tbody>\n",
       "</table>\n",
       "<p>3 rows × 57 columns</p>\n",
       "</div>"
      ],
      "text/plain": [
       "   age  traveltime  studytime  failures  famrel  freetime  goout  health  \\\n",
       "0   18           2          2         0       4         3      4       3   \n",
       "1   17           1          2         0       5         3      3       3   \n",
       "2   15           1          2         3       4         3      2       3   \n",
       "\n",
       "   absences  G1  ...  activities_no  activities_yes  nursery_no  nursery_yes  \\\n",
       "0         6   5  ...              1               0           0            1   \n",
       "1         4   5  ...              1               0           1            0   \n",
       "2        10   7  ...              1               0           0            1   \n",
       "\n",
       "   higher_no  higher_yes  internet_no  internet_yes  romantic_no  romantic_yes  \n",
       "0          0           1            1             0            1             0  \n",
       "1          0           1            0             1            1             0  \n",
       "2          0           1            0             1            1             0  \n",
       "\n",
       "[3 rows x 57 columns]"
      ]
     },
     "execution_count": 26,
     "metadata": {},
     "output_type": "execute_result"
    }
   ],
   "source": [
    "df.head(3)"
   ]
  },
  {
   "cell_type": "markdown",
   "id": "b39b1c0d",
   "metadata": {},
   "source": [
    "### 4. Model\n",
    "#### 4.1. Linear Regression\n",
    "##### 4.1.1. Model &Evaluation"
   ]
  },
  {
   "cell_type": "code",
   "execution_count": 27,
   "id": "7f237346",
   "metadata": {},
   "outputs": [],
   "source": [
    "X=df.drop(['G3'],axis=1, inplace=False)\n",
    "y=df['G3']\n",
    "\n",
    "X_train, X_test, y_train, y_test=train_test_split(X,y, test_size=0.25, random_state=0)"
   ]
  },
  {
   "cell_type": "code",
   "execution_count": 28,
   "id": "3165165f",
   "metadata": {},
   "outputs": [
    {
     "name": "stdout",
     "output_type": "stream",
     "text": [
      "MSE: 3.701, RMSE: 1.924\n",
      "R2 score: 0.814\n"
     ]
    }
   ],
   "source": [
    "lr=LinearRegression()\n",
    "lr.fit(X_train, y_train)\n",
    "lr_preds=lr.predict(X_test)\n",
    "lr_mse=mean_squared_error(y_test,lr_preds)\n",
    "lr_rmse=np.sqrt(lr_mse)\n",
    "lr_r2_score=r2_score(y_test, lr_preds)\n",
    "\n",
    "print(\"MSE: {0:.3f}, RMSE: {1:.3f}\".format(lr_mse,lr_rmse))\n",
    "print(\"R2 score: {0:.3f}\".format(lr_r2_score))"
   ]
  },
  {
   "cell_type": "code",
   "execution_count": 29,
   "id": "b30246c1",
   "metadata": {},
   "outputs": [],
   "source": [
    "def get_coef(model, n=5):\n",
    "    coef=pd.Series(model.coef_, index=X.columns)\n",
    "    coef_high=coef.sort_values(ascending=False).head(n)\n",
    "    coef_low=coef.sort_values(ascending=False).tail(n)\n",
    "    return coef_high, coef_low\n",
    "\n",
    "def visualize_coef(model):\n",
    "    coef_high, coef_low=get_coef(model)\n",
    "    coef_concat=pd.concat([coef_high, coef_low])\n",
    "    sns.barplot(x=coef_concat.values, y=coef_concat.index)"
   ]
  },
  {
   "cell_type": "markdown",
   "id": "4e932dc0",
   "metadata": {},
   "source": [
    "##### 4.1.2. Visualize coef"
   ]
  },
  {
   "cell_type": "code",
   "execution_count": 30,
   "id": "3fc85c7e",
   "metadata": {},
   "outputs": [
    {
     "data": {
      "text/plain": [
       "Text(0.5, 1.0, 'Linear Regression Feature Importances')"
      ]
     },
     "execution_count": 30,
     "metadata": {},
     "output_type": "execute_result"
    },
    {
     "name": "stderr",
     "output_type": "stream",
     "text": [
      "findfont: Font family ['Hancom Gothic Regular'] not found. Falling back to DejaVu Sans.\n",
      "findfont: Font family ['Hancom Gothic Regular'] not found. Falling back to DejaVu Sans.\n"
     ]
    },
    {
     "data": {
      "image/png": "[encoded data removed]",
      "text/plain": [
       "<Figure size 432x288 with 1 Axes>"
      ]
     },
     "metadata": {
      "needs_background": "light"
     },
     "output_type": "display_data"
    }
   ],
   "source": [
    "visualize_coef(lr)\n",
    "plt.title('Linear Regression Feature Importances')"
   ]
  },
  {
   "cell_type": "markdown",
   "id": "30776670",
   "metadata": {},
   "source": [
    "##### 4.1.3. Comparison of actual and predicted values\n",
    "\n",
    "Out of 97 results, I'll randomly select 30 instances to visualize comparisons."
   ]
  },
  {
   "cell_type": "code",
   "execution_count": 31,
   "id": "3f17afc6",
   "metadata": {},
   "outputs": [],
   "source": [
    "def get_df(y_test, preds):\n",
    "    df=pd.DataFrame()\n",
    "    df['Actual_score']=y_test\n",
    "    df['Predict_score']=preds\n",
    "    df['student_id']=df.index.tolist()\n",
    "    df=df[df['Actual_score']>0]\n",
    "    df_20=df.sample(25,random_state=4)\n",
    "    df_20=df_20.sort_values(by='Actual_score',ascending=False)\n",
    "    return df_20\n",
    "\n",
    "def final_visual(y_test, preds):\n",
    "    df_20=get_df(y_test,preds)\n",
    "    df_20.plot(x='student_id', y= ['Actual_score','Predict_score'], kind=\"bar\")\n",
    "    plt.title('Comparision between Actual score and Predicted score')\n",
    "    plt.show()    "
   ]
  },
  {
   "cell_type": "code",
   "execution_count": 32,
   "id": "36dbe0c2",
   "metadata": {},
   "outputs": [
    {
     "data": {
      "image/png": "[encoded data removed]",
      "text/plain": [
       "<Figure size 432x288 with 1 Axes>"
      ]
     },
     "metadata": {
      "needs_background": "light"
     },
     "output_type": "display_data"
    }
   ],
   "source": [
    "final_visual(y_test, lr_preds)"
   ]
  },
  {
   "cell_type": "markdown",
   "id": "3c1b31fd",
   "metadata": {},
   "source": [
    "#### 4.2. Ridge\n",
    "Since G1 and G2 have a very high correlation with G3, I'll perform Ridge regression to reduce their influence."
   ]
  },
  {
   "cell_type": "markdown",
   "id": "e408b440",
   "metadata": {},
   "source": [
    "##### 4.2.1. GridSearchCV (alpha)"
   ]
  },
  {
   "cell_type": "code",
   "execution_count": 33,
   "id": "9041e29d",
   "metadata": {},
   "outputs": [],
   "source": [
    "\n",
    "def get_best_params(model, params):\n",
    "    grid_model=GridSearchCV(model, param_grid=params, scoring='neg_mean_squared_error',cv=5)\n",
    "    grid_model.fit(X,y)\n",
    "    rmse=np.sqrt(-1*grid_model.best_score_)\n",
    "    estimator=grid_model.best_estimator_\n",
    "    print(f\"{model.__class__.__name__}  rmse:{rmse}  Best parameter:{grid_model.best_params_}\")\n",
    "    "
   ]
  },
  {
   "cell_type": "code",
   "execution_count": 34,
   "id": "f14cecd5",
   "metadata": {},
   "outputs": [
    {
     "name": "stdout",
     "output_type": "stream",
     "text": [
      "Ridge  rmse:1.7182739025206086  Best parameter:{'alpha': 202}\n"
     ]
    }
   ],
   "source": [
    "ridge=Ridge()\n",
    "ridge_params={'alpha':[i for i in range(0,250)]}\n",
    "get_best_params(ridge,ridge_params )"
   ]
  },
  {
   "cell_type": "markdown",
   "id": "a017ffa0",
   "metadata": {},
   "source": [
    "##### 4.2.2. Visualization -Changes in RMSE according to changes in alpha"
   ]
  },
  {
   "cell_type": "code",
   "execution_count": 35,
   "id": "5e6e4cfc",
   "metadata": {},
   "outputs": [],
   "source": [
    "\n",
    "def get_plot_xy(model, X, y, params):\n",
    "    x_values=[]\n",
    "    y_values=[]\n",
    "    for param in params:\n",
    "        if model=='Lasso':\n",
    "            model=Lasso(param)\n",
    "        elif model=='Ridge':\n",
    "            model=Ridge(param)\n",
    "    for param in params:\n",
    "        model=Ridge(param)\n",
    "        neg_mse_scores=cross_val_score(model, X,y, scoring='neg_mean_squared_error', cv=5)\n",
    "        avg_rmse=np.mean(np.sqrt(-1*neg_mse_scores))\n",
    "        x_values.append(param)\n",
    "        y_values.append(avg_rmse)\n",
    "    \n",
    "    return x_values, y_values \n",
    "        \n",
    "def get_alpha_plot(model, X,y, params):\n",
    "    values=get_plot_xy(model, X,y,params)\n",
    "    plt.plot(values[0], values[1])\n",
    "    plt.xlabel('alpha')\n",
    "    plt.ylabel('rmse')\n",
    "    plt.xticks(ticks=params)\n",
    "    plt.show()   "
   ]
  },
  {
   "cell_type": "code",
   "execution_count": 36,
   "id": "15888ecf",
   "metadata": {},
   "outputs": [
    {
     "data": {
      "image/png": "[encoded data removed]",
      "text/plain": [
       "<Figure size 432x288 with 1 Axes>"
      ]
     },
     "metadata": {
      "needs_background": "light"
     },
     "output_type": "display_data"
    }
   ],
   "source": [
    "get_alpha_plot('Ridge', X,y, [ 100, 125, 150, 175, 200, 225, 250])"
   ]
  },
  {
   "cell_type": "markdown",
   "id": "2d89d9e8",
   "metadata": {},
   "source": [
    "##### Finding: \n",
    "The RMSE is the lowest near the alpha  of 200 (alpha:202)"
   ]
  },
  {
   "cell_type": "markdown",
   "id": "e79d8568",
   "metadata": {},
   "source": [
    "##### 4.2.3. Visualize coeff"
   ]
  },
  {
   "cell_type": "code",
   "execution_count": 37,
   "id": "5624756d",
   "metadata": {},
   "outputs": [
    {
     "data": {
      "text/plain": [
       "Ridge(alpha=202)"
      ]
     },
     "execution_count": 37,
     "metadata": {},
     "output_type": "execute_result"
    }
   ],
   "source": [
    "ridge=Ridge(alpha=202)\n",
    "ridge.fit(X,y)"
   ]
  },
  {
   "cell_type": "code",
   "execution_count": 38,
   "id": "82cebbd4",
   "metadata": {},
   "outputs": [
    {
     "data": {
      "text/plain": [
       "Text(0.5, 1.0, 'Ridge Feature Importances')"
      ]
     },
     "execution_count": 38,
     "metadata": {},
     "output_type": "execute_result"
    },
    {
     "data": {
      "image/png": "[encoded data removed]",
      "text/plain": [
       "<Figure size 432x288 with 1 Axes>"
      ]
     },
     "metadata": {
      "needs_background": "light"
     },
     "output_type": "display_data"
    }
   ],
   "source": [
    "visualize_coef(ridge)\n",
    "plt.title('Ridge Feature Importances')"
   ]
  },
  {
   "cell_type": "markdown",
   "id": "9d079b6f",
   "metadata": {},
   "source": [
    "##### 4.2.4. Comparison of actual and predicted values"
   ]
  },
  {
   "cell_type": "code",
   "execution_count": 39,
   "id": "6848230c",
   "metadata": {},
   "outputs": [],
   "source": [
    "ridge_preds=ridge.predict(X_test)"
   ]
  },
  {
   "cell_type": "code",
   "execution_count": 40,
   "id": "16d7f454",
   "metadata": {},
   "outputs": [
    {
     "data": {
      "text/plain": [
       "0.8649332978578681"
      ]
     },
     "execution_count": 40,
     "metadata": {},
     "output_type": "execute_result"
    }
   ],
   "source": [
    "ridge.fit(X,y)\n",
    "ridge.score(X, y, sample_weight=None)"
   ]
  },
  {
   "cell_type": "code",
   "execution_count": 41,
   "id": "93998445",
   "metadata": {},
   "outputs": [
    {
     "data": {
      "image/png": "[encoded data removed]",
      "text/plain": [
       "<Figure size 432x288 with 1 Axes>"
      ]
     },
     "metadata": {
      "needs_background": "light"
     },
     "output_type": "display_data"
    }
   ],
   "source": [
    "final_visual(y_test, ridge_preds)"
   ]
  },
  {
   "cell_type": "markdown",
   "id": "dd158277",
   "metadata": {},
   "source": [
    "##### 4.2.5. Results of Ridge Regression\n",
    "\n",
    "1. Best parameter: alpha:202\n",
    "2. Best RMSE Score: 1.718273902520609\n",
    "3. R2 Score: 0.87"
   ]
  },
  {
   "cell_type": "markdown",
   "id": "ad45e3f5",
   "metadata": {},
   "source": [
    "#### 4.3. Lasso\n"
   ]
  },
  {
   "cell_type": "markdown",
   "id": "2472302e",
   "metadata": {},
   "source": [
    "##### 4.3.1. GridSearchCV (alpha)"
   ]
  },
  {
   "cell_type": "code",
   "execution_count": 42,
   "id": "5cca89da",
   "metadata": {},
   "outputs": [
    {
     "name": "stdout",
     "output_type": "stream",
     "text": [
      "Lasso  rmse:1.6883413000099774  Best parameter:{'alpha': 0.09}\n"
     ]
    }
   ],
   "source": [
    "lasso=Lasso()\n",
    "lasso_params={'alpha':[0.05,0.07,0.09,1.0]}\n",
    "get_best_params(lasso, lasso_params)"
   ]
  },
  {
   "cell_type": "markdown",
   "id": "d06c717a",
   "metadata": {},
   "source": [
    "##### 4.3.2. Visualization - Changes in RMSE according to changes in alpha"
   ]
  },
  {
   "cell_type": "code",
   "execution_count": 43,
   "id": "4f58e21a",
   "metadata": {},
   "outputs": [],
   "source": [
    "\n",
    "def get_plot_xy(model, X, y, params):\n",
    "    x_values=[]\n",
    "    y_values=[]\n",
    "    for param in params:\n",
    "        if model=='Lasso':\n",
    "            model=Lasso(param)\n",
    "        elif model=='Ridge':\n",
    "            model=Ridge(param)\n",
    "    for param in params:\n",
    "        model=Lasso(param)\n",
    "        neg_mse_scores=cross_val_score(model, X,y, scoring='neg_mean_squared_error', cv=5)\n",
    "        avg_rmse=np.mean(np.sqrt(-1*neg_mse_scores))\n",
    "        x_values.append(param)\n",
    "        y_values.append(avg_rmse)\n",
    "    \n",
    "    return x_values, y_values \n",
    "        \n",
    "def get_alpha_plot(model, X,y, params):\n",
    "    values=get_plot_xy(model, X,y,params)\n",
    "    plt.plot(values[0], values[1])\n",
    "    plt.xlabel('alpha')\n",
    "    plt.ylabel('rmse')\n",
    "    plt.xticks(ticks=params)\n",
    "    plt.show()   "
   ]
  },
  {
   "cell_type": "code",
   "execution_count": 44,
   "id": "b6f9e45a",
   "metadata": {},
   "outputs": [
    {
     "data": {
      "image/png": "[encoded data removed]",
      "text/plain": [
       "<Figure size 432x288 with 1 Axes>"
      ]
     },
     "metadata": {
      "needs_background": "light"
     },
     "output_type": "display_data"
    }
   ],
   "source": [
    "get_alpha_plot('Lasso', X,y, [0.03,0.05,0.07,0.09])"
   ]
  },
  {
   "cell_type": "markdown",
   "id": "a3c2501a",
   "metadata": {},
   "source": [
    "##### 4.3.3. Visualize coeff"
   ]
  },
  {
   "cell_type": "code",
   "execution_count": 45,
   "id": "e49d3b03",
   "metadata": {},
   "outputs": [
    {
     "data": {
      "text/plain": [
       "Text(0.5, 1.0, 'Lasso Feature Importances')"
      ]
     },
     "execution_count": 45,
     "metadata": {},
     "output_type": "execute_result"
    },
    {
     "data": {
      "image/png": "[encoded data removed]",
      "text/plain": [
       "<Figure size 432x288 with 1 Axes>"
      ]
     },
     "metadata": {
      "needs_background": "light"
     },
     "output_type": "display_data"
    }
   ],
   "source": [
    "lasso=Lasso(alpha=0.09)\n",
    "lasso.fit(X,y)\n",
    "visualize_coef(lasso)\n",
    "plt.title('Lasso Feature Importances')"
   ]
  },
  {
   "cell_type": "markdown",
   "id": "345a4089",
   "metadata": {},
   "source": [
    "##### 4.3.4. Comparison between actual and predicted values"
   ]
  },
  {
   "cell_type": "code",
   "execution_count": 46,
   "id": "e7797e8f",
   "metadata": {},
   "outputs": [
    {
     "data": {
      "image/png": "[encoded data removed]",
      "text/plain": [
       "<Figure size 432x288 with 1 Axes>"
      ]
     },
     "metadata": {
      "needs_background": "light"
     },
     "output_type": "display_data"
    }
   ],
   "source": [
    "lasso_preds=lasso.predict(X_test)\n",
    "final_visual(y_test, lasso_preds)"
   ]
  },
  {
   "cell_type": "code",
   "execution_count": 47,
   "id": "74fc45bd",
   "metadata": {},
   "outputs": [
    {
     "data": {
      "text/plain": [
       "0.8630040693811338"
      ]
     },
     "execution_count": 47,
     "metadata": {},
     "output_type": "execute_result"
    }
   ],
   "source": [
    "lasso.fit(X,y)\n",
    "lasso.score(X,y)"
   ]
  },
  {
   "cell_type": "markdown",
   "id": "39957fed",
   "metadata": {},
   "source": [
    "##### 4.3.5. Results of Lasso\n",
    "\n",
    "1. Best parameter: alpha: 0.09\n",
    "2. Best RMSE Score: 1.6883413000099774\n",
    "3. R2 Score: 0.86"
   ]
  },
  {
   "cell_type": "markdown",
   "id": "04e877d7",
   "metadata": {},
   "source": [
    "#### 4.4. XGBoost\n",
    "\n",
    "##### 4.4.1. GridSearchCV"
   ]
  },
  {
   "cell_type": "code",
   "execution_count": 48,
   "id": "1dc697b1",
   "metadata": {},
   "outputs": [],
   "source": [
    "xgb_reg=XGBRegressor()\n",
    "xgb_params={ 'max_depth': [3, 5, 7],\n",
    "           'n_estimators': [100, 500, 1000],\n",
    "           'min_child_weight': [3, 5, 7],\n",
    "           'gamma': [0.3, 0.5, 0.7],\n",
    "           'learning_rate':[0.01,0.05,0.1,0.2]}"
   ]
  },
  {
   "cell_type": "markdown",
   "id": "bf78b73a",
   "metadata": {},
   "source": [
    "-XGBRegressor  rmse:1.6380086885696814\n",
    "\n",
    "-Best parameter:{'gamma': 0.7, 'learning_rate': 0.01, 'max_depth': 3, 'min_child_weight': 7, 'n_estimators': 500}"
   ]
  },
  {
   "cell_type": "code",
   "execution_count": 49,
   "id": "25b3be7d",
   "metadata": {},
   "outputs": [],
   "source": [
    "xgb_reg=XGBRegressor(gamma= 0.7, learning_rate= 0.01, max_depth= 3, min_child_weight= 7, n_estimators= 500)\n",
    "xgb_reg.fit(X_train, y_train)\n",
    "xgb_preds=xgb_reg.predict(X_test)"
   ]
  },
  {
   "cell_type": "code",
   "execution_count": 50,
   "id": "74073b37",
   "metadata": {},
   "outputs": [
    {
     "data": {
      "text/plain": [
       "array([0.00443482, 0.00853207, 0.01044269, 0.02200542, 0.0121453 ,\n",
       "       0.03981328, 0.00798234, 0.01169309, 0.15170537, 0.04034913,\n",
       "       0.42033702, 0.00578649, 0.0066601 , 0.00367389, 0.        ,\n",
       "       0.01112498, 0.        , 0.00507975, 0.        , 0.0219933 ,\n",
       "       0.        , 0.        , 0.        , 0.00845881, 0.00327161,\n",
       "       0.00750974, 0.00965655, 0.        , 0.0096316 , 0.        ,\n",
       "       0.01116068, 0.0152304 , 0.00247739, 0.0082447 , 0.01834915,\n",
       "       0.        , 0.00725158, 0.01738289, 0.00838493, 0.00660792,\n",
       "       0.00639164, 0.        , 0.        , 0.        , 0.01119023,\n",
       "       0.        , 0.00488102, 0.        , 0.04688591, 0.        ,\n",
       "       0.        , 0.        , 0.00679544, 0.        , 0.00647878,\n",
       "       0.        ], dtype=float32)"
      ]
     },
     "execution_count": 50,
     "metadata": {},
     "output_type": "execute_result"
    }
   ],
   "source": [
    "xgb_reg.feature_importances_"
   ]
  },
  {
   "cell_type": "markdown",
   "id": "87b4a3ab",
   "metadata": {},
   "source": [
    "##### 4.4.2. Visualize coeff"
   ]
  },
  {
   "cell_type": "code",
   "execution_count": 51,
   "id": "7d812676",
   "metadata": {},
   "outputs": [
    {
     "data": {
      "text/plain": [
       "Text(0.5, 1.0, 'XGBRegressor Feature Importances')"
      ]
     },
     "execution_count": 51,
     "metadata": {},
     "output_type": "execute_result"
    },
    {
     "data": {
      "image/png": "[encoded data removed]",
      "text/plain": [
       "<Figure size 432x288 with 1 Axes>"
      ]
     },
     "metadata": {
      "needs_background": "light"
     },
     "output_type": "display_data"
    }
   ],
   "source": [
    "coef=pd.Series(data=xgb_reg.feature_importances_, index=X.columns)\n",
    "coef_high=coef.sort_values(ascending=False).head(10)\n",
    "coef_low=coef.sort_values(ascending=False).tail(5)  #회귀계수가 거의 0에 가까운,,\n",
    "\n",
    "coef_concat=pd.concat([coef_high,coef_low])\n",
    "sns.barplot(x=coef_concat.values, y=coef_concat.index)\n",
    "plt.title('XGBRegressor Feature Importances')"
   ]
  },
  {
   "cell_type": "markdown",
   "id": "38178a4f",
   "metadata": {},
   "source": [
    "##### 4.4.3. Comparison between the predicted and actual values"
   ]
  },
  {
   "cell_type": "code",
   "execution_count": 52,
   "id": "bebd1213",
   "metadata": {},
   "outputs": [
    {
     "data": {
      "image/png": "[encoded data removed]",
      "text/plain": [
       "<Figure size 432x288 with 1 Axes>"
      ]
     },
     "metadata": {
      "needs_background": "light"
     },
     "output_type": "display_data"
    }
   ],
   "source": [
    "final_visual(y_test, xgb_preds)"
   ]
  },
  {
   "cell_type": "markdown",
   "id": "8fd68c3a",
   "metadata": {},
   "source": [
    "##### 4.4.5. adding more hyperparameters"
   ]
  },
  {
   "cell_type": "code",
   "execution_count": 53,
   "id": "dcf3ae0f",
   "metadata": {},
   "outputs": [
    {
     "name": "stdout",
     "output_type": "stream",
     "text": [
      "XGBRegressor  rmse:1.6119767290571871  Best parameter:{'alpha': 2}\n"
     ]
    }
   ],
   "source": [
    "xgb_reg2=XGBRegressor(gamma= 0.7, learning_rate= 0.01, max_depth= 3, min_child_weight= 7, n_estimators= 500)\n",
    "xgb_params2={ 'alpha':[0.05,1,2]}\n",
    "get_best_params(xgb_reg2, xgb_params2)"
   ]
  },
  {
   "cell_type": "code",
   "execution_count": 54,
   "id": "a76892a8",
   "metadata": {},
   "outputs": [],
   "source": [
    "xgb_reg3=XGBRegressor(alpha=2,gamma= 0.7, learning_rate= 0.01, max_depth= 3, min_child_weight= 7, n_estimators= 500)\n",
    "xgb_reg3.fit(X_train, y_train)\n",
    "xgb_preds3=xgb_reg3.predict(X_test)"
   ]
  },
  {
   "cell_type": "code",
   "execution_count": 55,
   "id": "cde9fb4e",
   "metadata": {},
   "outputs": [
    {
     "data": {
      "text/plain": [
       "array([0.00665982, 0.00790826, 0.00898402, 0.01854146, 0.0113187 ,\n",
       "       0.04280498, 0.00391893, 0.01198999, 0.12293106, 0.06598648,\n",
       "       0.4855401 , 0.00699383, 0.00593124, 0.        , 0.        ,\n",
       "       0.        , 0.        , 0.00277674, 0.        , 0.01605129,\n",
       "       0.        , 0.        , 0.        , 0.        , 0.        ,\n",
       "       0.00267055, 0.01398433, 0.00951572, 0.00928186, 0.        ,\n",
       "       0.01155094, 0.01369901, 0.        , 0.00245554, 0.01803827,\n",
       "       0.        , 0.00643339, 0.00917559, 0.01710223, 0.01603108,\n",
       "       0.00623952, 0.        , 0.        , 0.        , 0.        ,\n",
       "       0.        , 0.00700386, 0.        , 0.033263  , 0.        ,\n",
       "       0.        , 0.        , 0.00521827, 0.        , 0.        ,\n",
       "       0.        ], dtype=float32)"
      ]
     },
     "execution_count": 55,
     "metadata": {},
     "output_type": "execute_result"
    }
   ],
   "source": [
    "xgb_reg3.feature_importances_"
   ]
  },
  {
   "cell_type": "code",
   "execution_count": 56,
   "id": "a8a613cd",
   "metadata": {},
   "outputs": [
    {
     "data": {
      "text/plain": [
       "Text(0.5, 1.0, 'XGBRegressor Feature Importances')"
      ]
     },
     "execution_count": 56,
     "metadata": {},
     "output_type": "execute_result"
    },
    {
     "data": {
      "image/png": "[encoded data removed]",
      "text/plain": [
       "<Figure size 432x288 with 1 Axes>"
      ]
     },
     "metadata": {
      "needs_background": "light"
     },
     "output_type": "display_data"
    }
   ],
   "source": [
    "coef=pd.Series(data=xgb_reg3.feature_importances_, index=X.columns)\n",
    "coef_high=coef.sort_values(ascending=False).head(10)\n",
    "coef_low=coef.sort_values(ascending=False).tail(5)  \n",
    "\n",
    "coef_concat=pd.concat([coef_high,coef_low])\n",
    "sns.barplot(x=coef_concat.values, y=coef_concat.index)\n",
    "plt.title('XGBRegressor Feature Importances')"
   ]
  },
  {
   "cell_type": "markdown",
   "id": "a76dbb53",
   "metadata": {},
   "source": [
    "The Lasso result was good before, so I added the alpha value to GB again.\n",
    "The results appear to be better."
   ]
  },
  {
   "cell_type": "code",
   "execution_count": 57,
   "id": "74582618",
   "metadata": {},
   "outputs": [
    {
     "data": {
      "image/png": "[encoded data removed]",
      "text/plain": [
       "<Figure size 432x288 with 1 Axes>"
      ]
     },
     "metadata": {
      "needs_background": "light"
     },
     "output_type": "display_data"
    }
   ],
   "source": [
    "final_visual(y_test, xgb_preds3)"
   ]
  },
  {
   "cell_type": "code",
   "execution_count": 58,
   "id": "6fd69ae1",
   "metadata": {},
   "outputs": [
    {
     "data": {
      "text/plain": [
       "0.8741856251124441"
      ]
     },
     "execution_count": 58,
     "metadata": {},
     "output_type": "execute_result"
    }
   ],
   "source": [
    "xgb_reg3.fit(X_train, y_train)\n",
    "xgb_reg3.score(X_test, y_test)"
   ]
  },
  {
   "cell_type": "markdown",
   "id": "24094c38",
   "metadata": {},
   "source": [
    "##### 4.4.5. Results of XGBoost\n",
    "1. Best parameter: {'alpha'=2,'gamma': 0.7, 'learning_rate': 0.01, 'max_depth': 3, 'min_child_weight': 7, 'n_estimators': 500}\n",
    "2. Best RMSE Score: 1.6119767290571871\n",
    "3. R2 Score: 0.87"
   ]
  },
  {
   "cell_type": "markdown",
   "id": "e2e5bc88",
   "metadata": {},
   "source": [
    "### 5. Results\n",
    "#### 5.1. RMSE Comparison"
   ]
  },
  {
   "cell_type": "code",
   "execution_count": 70,
   "id": "3aff7b0a",
   "metadata": {},
   "outputs": [],
   "source": [
    "def get_final_score(models, X,y):\n",
    "    final_score=pd.DataFrame()\n",
    "    cnt=0\n",
    "    for ml in models:\n",
    "        if ml=='lr_f':\n",
    "            model=LinearRegression()\n",
    "        elif ml=='ridge_f':\n",
    "            model=Ridge(alpha=202)\n",
    "        elif ml=='lasso_f':\n",
    "            model=Lasso(alpha= 0.09)\n",
    "        elif ml=='xgb_f':\n",
    "            model=XGBRegressor(alpha=2,gamma= 0.7, learning_rate= 0.01, max_depth= 3, min_child_weight= 7, n_estimators= 500)\n",
    "\n",
    "        model.fit(X_train,y_train)\n",
    "        preds=model.predict(X_test)\n",
    "        mse=mean_squared_error(y_test,preds)\n",
    "        rmse=np.sqrt(mse)\n",
    "        final_rmse=np.round(rmse,3)\n",
    "        \n",
    "        final_score[model.__class__.__name__]=[final_rmse]\n",
    "        \n",
    "        cnt+=1\n",
    "\n",
    "        if cnt==4:\n",
    "            final_score.index=['RMSE']\n",
    "            return final_score     \n",
    "    "
   ]
  },
  {
   "cell_type": "code",
   "execution_count": 71,
   "id": "ae255240",
   "metadata": {},
   "outputs": [
    {
     "data": {
      "text/html": [
       "<div>\n",
       "<style scoped>\n",
       "    .dataframe tbody tr th:only-of-type {\n",
       "        vertical-align: middle;\n",
       "    }\n",
       "\n",
       "    .dataframe tbody tr th {\n",
       "        vertical-align: top;\n",
       "    }\n",
       "\n",
       "    .dataframe thead th {\n",
       "        text-align: right;\n",
       "    }\n",
       "</style>\n",
       "<table border=\"1\" class=\"dataframe\">\n",
       "  <thead>\n",
       "    <tr style=\"text-align: right;\">\n",
       "      <th></th>\n",
       "      <th>LinearRegression</th>\n",
       "      <th>Ridge</th>\n",
       "      <th>Lasso</th>\n",
       "      <th>XGBRegressor</th>\n",
       "    </tr>\n",
       "  </thead>\n",
       "  <tbody>\n",
       "    <tr>\n",
       "      <th>RMSE</th>\n",
       "      <td>1.924</td>\n",
       "      <td>1.801</td>\n",
       "      <td>1.805</td>\n",
       "      <td>1.582</td>\n",
       "    </tr>\n",
       "  </tbody>\n",
       "</table>\n",
       "</div>"
      ],
      "text/plain": [
       "      LinearRegression  Ridge  Lasso  XGBRegressor\n",
       "RMSE             1.924  1.801  1.805         1.582"
      ]
     },
     "execution_count": 71,
     "metadata": {},
     "output_type": "execute_result"
    }
   ],
   "source": [
    "get_final_score(['lr_f','ridge_f', 'lasso_f', 'xgb_f'],X,y)\n"
   ]
  },
  {
   "cell_type": "code",
   "execution_count": null,
   "id": "ffb39687",
   "metadata": {},
   "outputs": [],
   "source": []
  }
 ],
 "metadata": {
  "kernelspec": {
   "display_name": "Python 3",
   "language": "python",
   "name": "python3"
  },
  "language_info": {
   "codemirror_mode": {
    "name": "ipython",
    "version": 3
   },
   "file_extension": ".py",
   "mimetype": "text/x-python",
   "name": "python",
   "nbconvert_exporter": "python",
   "pygments_lexer": "ipython3",
   "version": "3.8.8"
  }
 },
 "nbformat": 4,
 "nbformat_minor": 5
}
