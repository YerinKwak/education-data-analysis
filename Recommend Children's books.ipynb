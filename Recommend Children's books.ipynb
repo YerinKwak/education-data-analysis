{
 "cells": [
  {
   "cell_type": "markdown",
   "id": "c626bbcc",
   "metadata": {},
   "source": [
    "#### Dataset:\n",
    "https://www.kaggle.com/datasets/modhiibrahimalmannaa/1000-children-books-on-amazom\n",
    "\n",
    "#### Goal: Recommend books with similar themes to one's favorite books. \n",
    "#### Plan\n",
    "  1. Feature Engineering\n",
    "    - Age: Discretization\n",
    "    - Rating/ No_of_Rating: Weighted rating\n",
    "    - Description: text cleaning\n",
    "  2. Text mining\n",
    "    - K-Means clustering: Clustering documents with similar text composition\n",
    "    - Cosine similarity: The similarity between vectors of documents\n",
    "  3. Model\n",
    "    - If we enter a book title, the model will return a list of the top 30 books with the highest cosine similarity and the same age group."
   ]
  },
  {
   "cell_type": "markdown",
   "id": "42a0f41e",
   "metadata": {},
   "source": [
    "### 1. Importing necessary libraries"
   ]
  },
  {
   "cell_type": "code",
   "execution_count": 2,
   "id": "8d84e3f1",
   "metadata": {},
   "outputs": [],
   "source": [
    "import pandas as pd\n",
    "import re\n",
    "import seaborn as sns\n",
    "import numpy as np\n",
    "import matplotlib.pyplot as plt\n",
    "import matplotlib.cm as cm\n",
    "import warnings\n",
    "warnings.filterwarnings('ignore')\n",
    "%matplotlib inline\n",
    "\n",
    "from nltk.stem import WordNetLemmatizer\n",
    "import nltk\n",
    "import string\n",
    "\n",
    "from sklearn.feature_extraction.text import TfidfVectorizer\n",
    "from sklearn.cluster import KMeans\n",
    "from sklearn.metrics import silhouette_samples, silhouette_score\n",
    "\n",
    "from sklearn.cluster import DBSCAN\n",
    "\n",
    "from sklearn.metrics.pairwise import linear_kernel\n",
    "import pickle\n",
    "from IPython.display import HTML"
   ]
  },
  {
   "cell_type": "markdown",
   "id": "218a846f",
   "metadata": {},
   "source": [
    "### 2. EDA\n",
    "#### 2.1. Dataframe"
   ]
  },
  {
   "cell_type": "code",
   "execution_count": 3,
   "id": "6a5f56dc",
   "metadata": {},
   "outputs": [],
   "source": [
    "df=pd.read_csv('books_data.csv')"
   ]
  },
  {
   "cell_type": "code",
   "execution_count": 4,
   "id": "4474b532",
   "metadata": {},
   "outputs": [
    {
     "data": {
      "text/html": [
       "<div>\n",
       "<style scoped>\n",
       "    .dataframe tbody tr th:only-of-type {\n",
       "        vertical-align: middle;\n",
       "    }\n",
       "\n",
       "    .dataframe tbody tr th {\n",
       "        vertical-align: top;\n",
       "    }\n",
       "\n",
       "    .dataframe thead th {\n",
       "        text-align: right;\n",
       "    }\n",
       "</style>\n",
       "<table border=\"1\" class=\"dataframe\">\n",
       "  <thead>\n",
       "    <tr style=\"text-align: right;\">\n",
       "      <th></th>\n",
       "      <th>Name</th>\n",
       "      <th>Series</th>\n",
       "      <th>Description</th>\n",
       "      <th>Author</th>\n",
       "      <th>Age</th>\n",
       "      <th>Rating_out_of_5</th>\n",
       "      <th>No_of_Ratings</th>\n",
       "      <th>Price</th>\n",
       "      <th>Price_Befor</th>\n",
       "      <th>Cover_Type</th>\n",
       "      <th>Publication_Date</th>\n",
       "      <th>Product_Details</th>\n",
       "      <th>Best_Seller</th>\n",
       "      <th>Link</th>\n",
       "    </tr>\n",
       "  </thead>\n",
       "  <tbody>\n",
       "    <tr>\n",
       "      <th>0</th>\n",
       "      <td>We Were Liars</td>\n",
       "      <td>NaN</td>\n",
       "      <td>\\n#1 NEW YORK TIMES BESTSELLER • A modern, sop...</td>\n",
       "      <td>E. Lockhart</td>\n",
       "      <td>Ages: 12 years and up</td>\n",
       "      <td>4.5</td>\n",
       "      <td>12.959</td>\n",
       "      <td>$5.99</td>\n",
       "      <td>$10.99</td>\n",
       "      <td>Paperback</td>\n",
       "      <td>2018-05-29</td>\n",
       "      <td>\\n\\n\\n\\nProduct details\\n\\n\\n\\n\\n\\nPublisher\\n...</td>\n",
       "      <td>NaN</td>\n",
       "      <td>https://www.amazon.com/We-Were-Liars-Lockhart/...</td>\n",
       "    </tr>\n",
       "    <tr>\n",
       "      <th>1</th>\n",
       "      <td>Harry Potter Paperback Box Set (Books 1-7)</td>\n",
       "      <td>NaN</td>\n",
       "      <td>\\nNow for the first time ever, J.K. Rowling’s ...</td>\n",
       "      <td>J. K. Rowling</td>\n",
       "      <td>Ages: 8 years and up</td>\n",
       "      <td>4.9</td>\n",
       "      <td>34.849</td>\n",
       "      <td>$50.00</td>\n",
       "      <td>$86.93</td>\n",
       "      <td>Paperback</td>\n",
       "      <td>2009-07-01</td>\n",
       "      <td>\\n\\n\\n\\nProduct details\\n\\n\\n\\n\\n\\nPublisher\\n...</td>\n",
       "      <td>NaN</td>\n",
       "      <td>https://www.amazon.com/Harry-Potter-Paperback-...</td>\n",
       "    </tr>\n",
       "    <tr>\n",
       "      <th>2</th>\n",
       "      <td>If Animals Kissed Good Night</td>\n",
       "      <td>NaN</td>\n",
       "      <td>\\nDon't miss the other books in this adorable ...</td>\n",
       "      <td>Ann Whitford Paul</td>\n",
       "      <td>Ages: 3 - 6 years</td>\n",
       "      <td>4.8</td>\n",
       "      <td>34.548</td>\n",
       "      <td>$4.79</td>\n",
       "      <td>$7.99</td>\n",
       "      <td>Board book</td>\n",
       "      <td>2014-06-03</td>\n",
       "      <td>\\n\\n\\n\\nProduct details\\n\\n\\n\\n\\n\\nPublisher\\n...</td>\n",
       "      <td>in Poetry for Early Learning</td>\n",
       "      <td>https://www.amazon.com/If-Animals-Kissed-Good-...</td>\n",
       "    </tr>\n",
       "  </tbody>\n",
       "</table>\n",
       "</div>"
      ],
      "text/plain": [
       "                                         Name Series  \\\n",
       "0                               We Were Liars    NaN   \n",
       "1  Harry Potter Paperback Box Set (Books 1-7)    NaN   \n",
       "2                If Animals Kissed Good Night    NaN   \n",
       "\n",
       "                                         Description             Author  \\\n",
       "0  \\n#1 NEW YORK TIMES BESTSELLER • A modern, sop...        E. Lockhart   \n",
       "1  \\nNow for the first time ever, J.K. Rowling’s ...      J. K. Rowling   \n",
       "2  \\nDon't miss the other books in this adorable ...  Ann Whitford Paul   \n",
       "\n",
       "                     Age  Rating_out_of_5  No_of_Ratings   Price Price_Befor  \\\n",
       "0  Ages: 12 years and up              4.5         12.959   $5.99      $10.99   \n",
       "1   Ages: 8 years and up              4.9         34.849  $50.00      $86.93   \n",
       "2      Ages: 3 - 6 years              4.8         34.548   $4.79       $7.99   \n",
       "\n",
       "   Cover_Type Publication_Date  \\\n",
       "0   Paperback       2018-05-29   \n",
       "1   Paperback       2009-07-01   \n",
       "2  Board book       2014-06-03   \n",
       "\n",
       "                                     Product_Details  \\\n",
       "0  \\n\\n\\n\\nProduct details\\n\\n\\n\\n\\n\\nPublisher\\n...   \n",
       "1  \\n\\n\\n\\nProduct details\\n\\n\\n\\n\\n\\nPublisher\\n...   \n",
       "2  \\n\\n\\n\\nProduct details\\n\\n\\n\\n\\n\\nPublisher\\n...   \n",
       "\n",
       "                    Best_Seller  \\\n",
       "0                           NaN   \n",
       "1                           NaN   \n",
       "2  in Poetry for Early Learning   \n",
       "\n",
       "                                                Link  \n",
       "0  https://www.amazon.com/We-Were-Liars-Lockhart/...  \n",
       "1  https://www.amazon.com/Harry-Potter-Paperback-...  \n",
       "2  https://www.amazon.com/If-Animals-Kissed-Good-...  "
      ]
     },
     "execution_count": 4,
     "metadata": {},
     "output_type": "execute_result"
    }
   ],
   "source": [
    "df.head(3)"
   ]
  },
  {
   "cell_type": "code",
   "execution_count": 5,
   "id": "975dc98a",
   "metadata": {},
   "outputs": [
    {
     "data": {
      "text/plain": [
       "(1200, 14)"
      ]
     },
     "execution_count": 5,
     "metadata": {},
     "output_type": "execute_result"
    }
   ],
   "source": [
    "df.shape"
   ]
  },
  {
   "cell_type": "code",
   "execution_count": 6,
   "id": "71a4065c",
   "metadata": {},
   "outputs": [
    {
     "data": {
      "text/plain": [
       "\"\\nFive Nights at Freddy's fans won't want to miss this pulse-pounding collection of three novella-length tales that will keep even the bravest FNAF player up at night...When left in darkness, rage festers. Years of frustration with his family culminate in a loathsome vacation for Bob, who plots a sinister prank to frighten his wife and kids. Matt redirects the residual anger over his many failed relationships into a video game, and ends up birthing the horrible consequences. In room 1280 of Heracles Hospital, something evil is keeping a man alive, a man with gruesome burns all over his body and an iron will to live. In this fifth volume, Five Nights at Freddy's creator Scott Cawthon spins three sinister novella-length stories from different corners of his series' canon, featuring cover art from fan-favorite artist LadyFiszi.Readers beware: This collection of terrifying tales is enough to unsettle even the most hardened Five Nights at Freddy's fans.\\n\\n\""
      ]
     },
     "execution_count": 6,
     "metadata": {},
     "output_type": "execute_result"
    }
   ],
   "source": [
    "df['Description'][900]"
   ]
  },
  {
   "cell_type": "code",
   "execution_count": 7,
   "id": "f674343c",
   "metadata": {},
   "outputs": [
    {
     "data": {
      "text/plain": [
       "662"
      ]
     },
     "execution_count": 7,
     "metadata": {},
     "output_type": "execute_result"
    }
   ],
   "source": [
    "#The number of authors\n",
    "df['Author'].nunique()"
   ]
  },
  {
   "cell_type": "code",
   "execution_count": 8,
   "id": "fb0a7ed2",
   "metadata": {},
   "outputs": [
    {
     "data": {
      "text/plain": [
       "1196"
      ]
     },
     "execution_count": 8,
     "metadata": {},
     "output_type": "execute_result"
    }
   ],
   "source": [
    "df['Name'].nunique()"
   ]
  },
  {
   "cell_type": "markdown",
   "id": "e680eb3c",
   "metadata": {},
   "source": [
    "--> The total number of instances is 1200, but there are 1196 books of different types. So I will delete duplicated ones."
   ]
  },
  {
   "cell_type": "code",
   "execution_count": 9,
   "id": "1eb3c3b7",
   "metadata": {},
   "outputs": [
    {
     "data": {
      "text/html": [
       "<div>\n",
       "<style scoped>\n",
       "    .dataframe tbody tr th:only-of-type {\n",
       "        vertical-align: middle;\n",
       "    }\n",
       "\n",
       "    .dataframe tbody tr th {\n",
       "        vertical-align: top;\n",
       "    }\n",
       "\n",
       "    .dataframe thead th {\n",
       "        text-align: right;\n",
       "    }\n",
       "</style>\n",
       "<table border=\"1\" class=\"dataframe\">\n",
       "  <thead>\n",
       "    <tr style=\"text-align: right;\">\n",
       "      <th></th>\n",
       "      <th>Name</th>\n",
       "      <th>Series</th>\n",
       "      <th>Description</th>\n",
       "      <th>Author</th>\n",
       "      <th>Age</th>\n",
       "      <th>Rating_out_of_5</th>\n",
       "      <th>No_of_Ratings</th>\n",
       "      <th>Price</th>\n",
       "      <th>Price_Befor</th>\n",
       "      <th>Cover_Type</th>\n",
       "      <th>Publication_Date</th>\n",
       "      <th>Product_Details</th>\n",
       "      <th>Best_Seller</th>\n",
       "      <th>Link</th>\n",
       "    </tr>\n",
       "  </thead>\n",
       "  <tbody>\n",
       "    <tr>\n",
       "      <th>0</th>\n",
       "      <td>We Were Liars</td>\n",
       "      <td>NaN</td>\n",
       "      <td>\\n#1 NEW YORK TIMES BESTSELLER • A modern, sop...</td>\n",
       "      <td>E. Lockhart</td>\n",
       "      <td>Ages: 12 years and up</td>\n",
       "      <td>4.5</td>\n",
       "      <td>12.959</td>\n",
       "      <td>$5.99</td>\n",
       "      <td>$10.99</td>\n",
       "      <td>Paperback</td>\n",
       "      <td>2018-05-29</td>\n",
       "      <td>\\n\\n\\n\\nProduct details\\n\\n\\n\\n\\n\\nPublisher\\n...</td>\n",
       "      <td>NaN</td>\n",
       "      <td>https://www.amazon.com/We-Were-Liars-Lockhart/...</td>\n",
       "    </tr>\n",
       "    <tr>\n",
       "      <th>1</th>\n",
       "      <td>Harry Potter Paperback Box Set (Books 1-7)</td>\n",
       "      <td>NaN</td>\n",
       "      <td>\\nNow for the first time ever, J.K. Rowling’s ...</td>\n",
       "      <td>J. K. Rowling</td>\n",
       "      <td>Ages: 8 years and up</td>\n",
       "      <td>4.9</td>\n",
       "      <td>34.849</td>\n",
       "      <td>$50.00</td>\n",
       "      <td>$86.93</td>\n",
       "      <td>Paperback</td>\n",
       "      <td>2009-07-01</td>\n",
       "      <td>\\n\\n\\n\\nProduct details\\n\\n\\n\\n\\n\\nPublisher\\n...</td>\n",
       "      <td>NaN</td>\n",
       "      <td>https://www.amazon.com/Harry-Potter-Paperback-...</td>\n",
       "    </tr>\n",
       "    <tr>\n",
       "      <th>2</th>\n",
       "      <td>If Animals Kissed Good Night</td>\n",
       "      <td>NaN</td>\n",
       "      <td>\\nDon't miss the other books in this adorable ...</td>\n",
       "      <td>Ann Whitford Paul</td>\n",
       "      <td>Ages: 3 - 6 years</td>\n",
       "      <td>4.8</td>\n",
       "      <td>34.548</td>\n",
       "      <td>$4.79</td>\n",
       "      <td>$7.99</td>\n",
       "      <td>Board book</td>\n",
       "      <td>2014-06-03</td>\n",
       "      <td>\\n\\n\\n\\nProduct details\\n\\n\\n\\n\\n\\nPublisher\\n...</td>\n",
       "      <td>in Poetry for Early Learning</td>\n",
       "      <td>https://www.amazon.com/If-Animals-Kissed-Good-...</td>\n",
       "    </tr>\n",
       "    <tr>\n",
       "      <th>3</th>\n",
       "      <td>My First Learn to Write Workbook: Practice for...</td>\n",
       "      <td>NaN</td>\n",
       "      <td>\\nA lifetime of communication skills starts he...</td>\n",
       "      <td>Crystal Radke</td>\n",
       "      <td>Ages: 3 - 5 years</td>\n",
       "      <td>4.8</td>\n",
       "      <td>41.827</td>\n",
       "      <td>$5.39</td>\n",
       "      <td>$8.99</td>\n",
       "      <td>Paperback</td>\n",
       "      <td>2019-08-27</td>\n",
       "      <td>\\n\\n\\n\\nProduct details\\n\\n\\n\\n\\n\\nPublisher\\n...</td>\n",
       "      <td>in Language Arts Teaching Materials</td>\n",
       "      <td>https://www.amazon.com/My-First-Learn-Write-Wo...</td>\n",
       "    </tr>\n",
       "    <tr>\n",
       "      <th>4</th>\n",
       "      <td>I Love You to the Moon and Back</td>\n",
       "      <td>NaN</td>\n",
       "      <td>\\nShow your child just how strong your love is...</td>\n",
       "      <td>Amelia Hepworth</td>\n",
       "      <td>Ages: 2 - 5 years</td>\n",
       "      <td>4.9</td>\n",
       "      <td>20.949</td>\n",
       "      <td>$1.38</td>\n",
       "      <td>NaN</td>\n",
       "      <td>Board book</td>\n",
       "      <td>2015-03-03</td>\n",
       "      <td>\\n\\n\\n\\nProduct details\\n\\n\\n\\n\\n\\nPublisher\\n...</td>\n",
       "      <td>in Children's Bear Books</td>\n",
       "      <td>https://www.amazon.com/I-Love-You-Moon-Back/dp...</td>\n",
       "    </tr>\n",
       "    <tr>\n",
       "      <th>...</th>\n",
       "      <td>...</td>\n",
       "      <td>...</td>\n",
       "      <td>...</td>\n",
       "      <td>...</td>\n",
       "      <td>...</td>\n",
       "      <td>...</td>\n",
       "      <td>...</td>\n",
       "      <td>...</td>\n",
       "      <td>...</td>\n",
       "      <td>...</td>\n",
       "      <td>...</td>\n",
       "      <td>...</td>\n",
       "      <td>...</td>\n",
       "      <td>...</td>\n",
       "    </tr>\n",
       "    <tr>\n",
       "      <th>1195</th>\n",
       "      <td>Snow (Sunburst Books)</td>\n",
       "      <td>NaN</td>\n",
       "      <td>\\nSnow is a 1998 New York Times Outstanding Bo...</td>\n",
       "      <td>Uri Shulevitz</td>\n",
       "      <td>Ages: 4 - 7 years</td>\n",
       "      <td>4.7</td>\n",
       "      <td>553.000</td>\n",
       "      <td>$0.00</td>\n",
       "      <td>$7.93</td>\n",
       "      <td>Paperback</td>\n",
       "      <td>2004-09-23</td>\n",
       "      <td>\\n\\n\\n\\nProduct details\\n\\n\\n\\n\\n\\nPublisher\\n...</td>\n",
       "      <td>NaN</td>\n",
       "      <td>https://www.amazon.com/Snow-Sunburst-Books-Uri...</td>\n",
       "    </tr>\n",
       "    <tr>\n",
       "      <th>1196</th>\n",
       "      <td>How Full Is Your Bucket? For Kids</td>\n",
       "      <td>NaN</td>\n",
       "      <td>\\nAn illustrated adaptation of the long-runnin...</td>\n",
       "      <td>Tom Rath</td>\n",
       "      <td>Ages: 3 - 8 years</td>\n",
       "      <td>4.8</td>\n",
       "      <td>1.400</td>\n",
       "      <td>$17.95</td>\n",
       "      <td>$10.49</td>\n",
       "      <td>Hardcover</td>\n",
       "      <td>2009-04-01</td>\n",
       "      <td>\\n\\n\\n\\nProduct details\\n\\n\\n\\n\\n\\nPublisher\\n...</td>\n",
       "      <td>NaN</td>\n",
       "      <td>https://www.amazon.com/How-Full-Your-Bucket-Ki...</td>\n",
       "    </tr>\n",
       "    <tr>\n",
       "      <th>1197</th>\n",
       "      <td>Indestructibles: Love You, Baby: Chew Proof · ...</td>\n",
       "      <td>NaN</td>\n",
       "      <td>\\nShow baby loads of love in a book that’s ind...</td>\n",
       "      <td>Stephan Lomp</td>\n",
       "      <td>Ages: 0 - 2 years</td>\n",
       "      <td>4.9</td>\n",
       "      <td>2.240</td>\n",
       "      <td>$5.89</td>\n",
       "      <td>NaN</td>\n",
       "      <td>Paperback</td>\n",
       "      <td>2017-08-08</td>\n",
       "      <td>\\n\\n\\n\\nProduct details\\n\\n\\n\\n\\n\\nPublisher\\n...</td>\n",
       "      <td>NaN</td>\n",
       "      <td>https://www.amazon.com/Indestructibles-Love-Ba...</td>\n",
       "    </tr>\n",
       "    <tr>\n",
       "      <th>1198</th>\n",
       "      <td>Disney - Mickey Mouse, Toy Story and More! Me ...</td>\n",
       "      <td>NaN</td>\n",
       "      <td>\\nHave an adventure with characters from Disne...</td>\n",
       "      <td>Editors of Phoenix International Publications</td>\n",
       "      <td>NaN</td>\n",
       "      <td>4.7</td>\n",
       "      <td>747.000</td>\n",
       "      <td>$21.99</td>\n",
       "      <td>$25.98</td>\n",
       "      <td>Hardcover</td>\n",
       "      <td>2013-06-01</td>\n",
       "      <td>\\n\\n\\n\\nProduct details\\n\\n\\n\\n\\n\\nPublisher\\n...</td>\n",
       "      <td>NaN</td>\n",
       "      <td>https://www.amazon.com/Disney-Electronic-Reade...</td>\n",
       "    </tr>\n",
       "    <tr>\n",
       "      <th>1199</th>\n",
       "      <td>Dinosaur Lady: The Daring Discoveries of Mary ...</td>\n",
       "      <td>NaN</td>\n",
       "      <td>\\nA beautifully illustrated picture book biogr...</td>\n",
       "      <td>Linda Skeers</td>\n",
       "      <td>Ages: 4 - 8 years</td>\n",
       "      <td>4.9</td>\n",
       "      <td>269.000</td>\n",
       "      <td>$15.67</td>\n",
       "      <td>$17.99</td>\n",
       "      <td>Hardcover</td>\n",
       "      <td>2020-07-07</td>\n",
       "      <td>\\n\\n\\n\\nProduct details\\n\\n\\n\\n\\n\\nPublisher\\n...</td>\n",
       "      <td>NaN</td>\n",
       "      <td>https://www.amazon.com/Dinosaur-Lady-Linda-Ske...</td>\n",
       "    </tr>\n",
       "  </tbody>\n",
       "</table>\n",
       "<p>1196 rows × 14 columns</p>\n",
       "</div>"
      ],
      "text/plain": [
       "                                                   Name Series  \\\n",
       "0                                         We Were Liars    NaN   \n",
       "1            Harry Potter Paperback Box Set (Books 1-7)    NaN   \n",
       "2                          If Animals Kissed Good Night    NaN   \n",
       "3     My First Learn to Write Workbook: Practice for...    NaN   \n",
       "4                       I Love You to the Moon and Back    NaN   \n",
       "...                                                 ...    ...   \n",
       "1195                              Snow (Sunburst Books)    NaN   \n",
       "1196                  How Full Is Your Bucket? For Kids    NaN   \n",
       "1197  Indestructibles: Love You, Baby: Chew Proof · ...    NaN   \n",
       "1198  Disney - Mickey Mouse, Toy Story and More! Me ...    NaN   \n",
       "1199  Dinosaur Lady: The Daring Discoveries of Mary ...    NaN   \n",
       "\n",
       "                                            Description  \\\n",
       "0     \\n#1 NEW YORK TIMES BESTSELLER • A modern, sop...   \n",
       "1     \\nNow for the first time ever, J.K. Rowling’s ...   \n",
       "2     \\nDon't miss the other books in this adorable ...   \n",
       "3     \\nA lifetime of communication skills starts he...   \n",
       "4     \\nShow your child just how strong your love is...   \n",
       "...                                                 ...   \n",
       "1195  \\nSnow is a 1998 New York Times Outstanding Bo...   \n",
       "1196  \\nAn illustrated adaptation of the long-runnin...   \n",
       "1197  \\nShow baby loads of love in a book that’s ind...   \n",
       "1198  \\nHave an adventure with characters from Disne...   \n",
       "1199  \\nA beautifully illustrated picture book biogr...   \n",
       "\n",
       "                                             Author                    Age  \\\n",
       "0                                       E. Lockhart  Ages: 12 years and up   \n",
       "1                                     J. K. Rowling   Ages: 8 years and up   \n",
       "2                                 Ann Whitford Paul      Ages: 3 - 6 years   \n",
       "3                                     Crystal Radke      Ages: 3 - 5 years   \n",
       "4                                   Amelia Hepworth      Ages: 2 - 5 years   \n",
       "...                                             ...                    ...   \n",
       "1195                                  Uri Shulevitz      Ages: 4 - 7 years   \n",
       "1196                                       Tom Rath      Ages: 3 - 8 years   \n",
       "1197                                   Stephan Lomp      Ages: 0 - 2 years   \n",
       "1198  Editors of Phoenix International Publications                    NaN   \n",
       "1199                                   Linda Skeers      Ages: 4 - 8 years   \n",
       "\n",
       "      Rating_out_of_5  No_of_Ratings   Price Price_Befor  Cover_Type  \\\n",
       "0                 4.5         12.959   $5.99      $10.99   Paperback   \n",
       "1                 4.9         34.849  $50.00      $86.93   Paperback   \n",
       "2                 4.8         34.548   $4.79       $7.99  Board book   \n",
       "3                 4.8         41.827   $5.39       $8.99   Paperback   \n",
       "4                 4.9         20.949   $1.38         NaN  Board book   \n",
       "...               ...            ...     ...         ...         ...   \n",
       "1195              4.7        553.000   $0.00       $7.93   Paperback   \n",
       "1196              4.8          1.400  $17.95      $10.49   Hardcover   \n",
       "1197              4.9          2.240   $5.89         NaN   Paperback   \n",
       "1198              4.7        747.000  $21.99      $25.98   Hardcover   \n",
       "1199              4.9        269.000  $15.67      $17.99   Hardcover   \n",
       "\n",
       "     Publication_Date                                    Product_Details  \\\n",
       "0          2018-05-29  \\n\\n\\n\\nProduct details\\n\\n\\n\\n\\n\\nPublisher\\n...   \n",
       "1          2009-07-01  \\n\\n\\n\\nProduct details\\n\\n\\n\\n\\n\\nPublisher\\n...   \n",
       "2          2014-06-03  \\n\\n\\n\\nProduct details\\n\\n\\n\\n\\n\\nPublisher\\n...   \n",
       "3          2019-08-27  \\n\\n\\n\\nProduct details\\n\\n\\n\\n\\n\\nPublisher\\n...   \n",
       "4          2015-03-03  \\n\\n\\n\\nProduct details\\n\\n\\n\\n\\n\\nPublisher\\n...   \n",
       "...               ...                                                ...   \n",
       "1195       2004-09-23  \\n\\n\\n\\nProduct details\\n\\n\\n\\n\\n\\nPublisher\\n...   \n",
       "1196       2009-04-01  \\n\\n\\n\\nProduct details\\n\\n\\n\\n\\n\\nPublisher\\n...   \n",
       "1197       2017-08-08  \\n\\n\\n\\nProduct details\\n\\n\\n\\n\\n\\nPublisher\\n...   \n",
       "1198       2013-06-01  \\n\\n\\n\\nProduct details\\n\\n\\n\\n\\n\\nPublisher\\n...   \n",
       "1199       2020-07-07  \\n\\n\\n\\nProduct details\\n\\n\\n\\n\\n\\nPublisher\\n...   \n",
       "\n",
       "                              Best_Seller  \\\n",
       "0                                     NaN   \n",
       "1                                     NaN   \n",
       "2            in Poetry for Early Learning   \n",
       "3     in Language Arts Teaching Materials   \n",
       "4                in Children's Bear Books   \n",
       "...                                   ...   \n",
       "1195                                  NaN   \n",
       "1196                                  NaN   \n",
       "1197                                  NaN   \n",
       "1198                                  NaN   \n",
       "1199                                  NaN   \n",
       "\n",
       "                                                   Link  \n",
       "0     https://www.amazon.com/We-Were-Liars-Lockhart/...  \n",
       "1     https://www.amazon.com/Harry-Potter-Paperback-...  \n",
       "2     https://www.amazon.com/If-Animals-Kissed-Good-...  \n",
       "3     https://www.amazon.com/My-First-Learn-Write-Wo...  \n",
       "4     https://www.amazon.com/I-Love-You-Moon-Back/dp...  \n",
       "...                                                 ...  \n",
       "1195  https://www.amazon.com/Snow-Sunburst-Books-Uri...  \n",
       "1196  https://www.amazon.com/How-Full-Your-Bucket-Ki...  \n",
       "1197  https://www.amazon.com/Indestructibles-Love-Ba...  \n",
       "1198  https://www.amazon.com/Disney-Electronic-Reade...  \n",
       "1199  https://www.amazon.com/Dinosaur-Lady-Linda-Ske...  \n",
       "\n",
       "[1196 rows x 14 columns]"
      ]
     },
     "execution_count": 9,
     "metadata": {},
     "output_type": "execute_result"
    }
   ],
   "source": [
    "df.drop_duplicates(subset=['Name'])"
   ]
  },
  {
   "cell_type": "code",
   "execution_count": 10,
   "id": "e95487bb",
   "metadata": {},
   "outputs": [],
   "source": [
    "# Name, Description, Author, Age, Rating_out_of_5, No_of_Ratings, Link\n",
    "columns=['Name', 'Description', 'Author', 'Age', 'Rating_out_of_5', 'No_of_Ratings', 'Link']\n",
    "df=df[columns]"
   ]
  },
  {
   "cell_type": "code",
   "execution_count": 644,
   "id": "c930ee27",
   "metadata": {},
   "outputs": [
    {
     "data": {
      "text/plain": [
       "(1200, 7)"
      ]
     },
     "execution_count": 644,
     "metadata": {},
     "output_type": "execute_result"
    }
   ],
   "source": [
    "df.shape"
   ]
  },
  {
   "cell_type": "code",
   "execution_count": 645,
   "id": "6e6008c3",
   "metadata": {},
   "outputs": [
    {
     "data": {
      "text/html": [
       "<div>\n",
       "<style scoped>\n",
       "    .dataframe tbody tr th:only-of-type {\n",
       "        vertical-align: middle;\n",
       "    }\n",
       "\n",
       "    .dataframe tbody tr th {\n",
       "        vertical-align: top;\n",
       "    }\n",
       "\n",
       "    .dataframe thead th {\n",
       "        text-align: right;\n",
       "    }\n",
       "</style>\n",
       "<table border=\"1\" class=\"dataframe\">\n",
       "  <thead>\n",
       "    <tr style=\"text-align: right;\">\n",
       "      <th></th>\n",
       "      <th>Name</th>\n",
       "      <th>Description</th>\n",
       "      <th>Author</th>\n",
       "      <th>Age</th>\n",
       "      <th>Rating_out_of_5</th>\n",
       "      <th>No_of_Ratings</th>\n",
       "      <th>Link</th>\n",
       "    </tr>\n",
       "  </thead>\n",
       "  <tbody>\n",
       "    <tr>\n",
       "      <th>0</th>\n",
       "      <td>We Were Liars</td>\n",
       "      <td>\\n#1 NEW YORK TIMES BESTSELLER • A modern, sop...</td>\n",
       "      <td>E. Lockhart</td>\n",
       "      <td>Ages: 12 years and up</td>\n",
       "      <td>4.5</td>\n",
       "      <td>12.959</td>\n",
       "      <td>https://www.amazon.com/We-Were-Liars-Lockhart/...</td>\n",
       "    </tr>\n",
       "    <tr>\n",
       "      <th>1</th>\n",
       "      <td>Harry Potter Paperback Box Set (Books 1-7)</td>\n",
       "      <td>\\nNow for the first time ever, J.K. Rowling’s ...</td>\n",
       "      <td>J. K. Rowling</td>\n",
       "      <td>Ages: 8 years and up</td>\n",
       "      <td>4.9</td>\n",
       "      <td>34.849</td>\n",
       "      <td>https://www.amazon.com/Harry-Potter-Paperback-...</td>\n",
       "    </tr>\n",
       "    <tr>\n",
       "      <th>2</th>\n",
       "      <td>If Animals Kissed Good Night</td>\n",
       "      <td>\\nDon't miss the other books in this adorable ...</td>\n",
       "      <td>Ann Whitford Paul</td>\n",
       "      <td>Ages: 3 - 6 years</td>\n",
       "      <td>4.8</td>\n",
       "      <td>34.548</td>\n",
       "      <td>https://www.amazon.com/If-Animals-Kissed-Good-...</td>\n",
       "    </tr>\n",
       "  </tbody>\n",
       "</table>\n",
       "</div>"
      ],
      "text/plain": [
       "                                         Name  \\\n",
       "0                               We Were Liars   \n",
       "1  Harry Potter Paperback Box Set (Books 1-7)   \n",
       "2                If Animals Kissed Good Night   \n",
       "\n",
       "                                         Description             Author  \\\n",
       "0  \\n#1 NEW YORK TIMES BESTSELLER • A modern, sop...        E. Lockhart   \n",
       "1  \\nNow for the first time ever, J.K. Rowling’s ...      J. K. Rowling   \n",
       "2  \\nDon't miss the other books in this adorable ...  Ann Whitford Paul   \n",
       "\n",
       "                     Age  Rating_out_of_5  No_of_Ratings  \\\n",
       "0  Ages: 12 years and up              4.5         12.959   \n",
       "1   Ages: 8 years and up              4.9         34.849   \n",
       "2      Ages: 3 - 6 years              4.8         34.548   \n",
       "\n",
       "                                                Link  \n",
       "0  https://www.amazon.com/We-Were-Liars-Lockhart/...  \n",
       "1  https://www.amazon.com/Harry-Potter-Paperback-...  \n",
       "2  https://www.amazon.com/If-Animals-Kissed-Good-...  "
      ]
     },
     "execution_count": 645,
     "metadata": {},
     "output_type": "execute_result"
    }
   ],
   "source": [
    "df.head(3)"
   ]
  },
  {
   "cell_type": "code",
   "execution_count": 646,
   "id": "e07bae0f",
   "metadata": {},
   "outputs": [
    {
     "name": "stdout",
     "output_type": "stream",
     "text": [
      "<class 'pandas.core.frame.DataFrame'>\n",
      "RangeIndex: 1200 entries, 0 to 1199\n",
      "Data columns (total 7 columns):\n",
      " #   Column           Non-Null Count  Dtype  \n",
      "---  ------           --------------  -----  \n",
      " 0   Name             1200 non-null   object \n",
      " 1   Description      1199 non-null   object \n",
      " 2   Author           1200 non-null   object \n",
      " 3   Age              1121 non-null   object \n",
      " 4   Rating_out_of_5  1200 non-null   float64\n",
      " 5   No_of_Ratings    1200 non-null   float64\n",
      " 6   Link             1200 non-null   object \n",
      "dtypes: float64(2), object(5)\n",
      "memory usage: 65.8+ KB\n"
     ]
    }
   ],
   "source": [
    "df.info()"
   ]
  },
  {
   "cell_type": "markdown",
   "id": "42c9feeb",
   "metadata": {},
   "source": [
    "--> Null data\n",
    "Description (1), Age (79)"
   ]
  },
  {
   "cell_type": "markdown",
   "id": "82f35971",
   "metadata": {},
   "source": [
    "### 3. Feature Engineering\n",
    "#### 3.1. Age"
   ]
  },
  {
   "cell_type": "code",
   "execution_count": 647,
   "id": "f5d9b575",
   "metadata": {},
   "outputs": [
    {
     "data": {
      "text/plain": [
       "array(['Ages: 12 years and up', 'Ages: 8 years and up',\n",
       "       'Ages: 3 - 6 years', 'Ages: 3 - 5 years', 'Ages: 2 - 5 years',\n",
       "       'Ages: 3 - 7 years', nan, 'Ages: 0 - 3 years',\n",
       "       'Ages: 8 - 12 years', 'Ages: 7 years and up', 'Ages: 8 - 9 years',\n",
       "       'Ages: 5 - 12 years', 'Ages: 4 - 7 years', 'Ages: 4 - 6 years',\n",
       "       'Ages: 4 - 8 years', 'Ages: 4 years and up',\n",
       "       'Ages: 9 years and up', 'Ages: 6 - 9 years',\n",
       "       'Ages: 3 years and up', 'Ages: 5 - 9 years', 'Ages: 2 - 4 years',\n",
       "       'Ages: 4 - 10 years', 'Ages: 0 - 4 years', 'Ages: 8 - 10 years',\n",
       "       'Ages: 1 - 4 years', 'Ages: 6 years and up',\n",
       "       'Great On Kindle: A high quality digital reading experience.Ages: 8 - 11 years',\n",
       "       'Ages: 5 - 8 years', 'Ages: 4 - 9 years', 'Ages: 5 - 10 years',\n",
       "       'Ages: 6 - 12 years', 'Ages: 7 - 10 years',\n",
       "       'Ages: 10 years and up', 'Ages: 9 - 11 years', 'Ages: 1 - 3 years',\n",
       "       'Ages: 1 - 8 years', 'Ages: 0 - 12 years', 'Ages: 6 - 11 years',\n",
       "       'Ages: 8 - 11 years', 'Ages: 10 - 12 years', 'Ages: 2 - 8 years',\n",
       "       'Ages: 0 - 2 years', 'Ages: 4 - 11 years', 'Ages: 9 - 12 years',\n",
       "       'Ages: 2 - 6 years', 'Ages: 6 - 10 years', 'Ages: 5 years and up',\n",
       "       'Ages: 7 - 11 years', 'Ages: 3 - 8 years', 'Ages: 1 - 12 years',\n",
       "       'Ages: 6 - 8 years', 'Ages: 5 - 7 years', 'Ages: 7 - 9 years',\n",
       "       'Ages: 11 years and up', 'Ages: 0 - 5 years', 'Ages: 5 - 6 years',\n",
       "       'Ages: 7 - 12 years', 'Ages: 2 - 7 years', 'Ages: 7 - 8 years',\n",
       "       'Ages: 6 - 7 years', 'Ages: 0 - 6 years', 'Ages: 1 year and up',\n",
       "       'Ages: 0 - 9 years', 'Ages: 9 - 10 years', 'Ages: 2 - 12 years',\n",
       "       'Ages: 0 - 11 years', 'Ages: 1 - 6 years', 'Ages: 10 - 11 years',\n",
       "       'Ages: 3 - 9 years', 'Ages: 3 - 12 years',\n",
       "       'Great On Kindle: A high quality digital reading experience.',\n",
       "       'Ages: 1 - 5 years', 'Ages: 11 - 12 years',\n",
       "       'Great On Kindle: A high quality digital reading experience.Ages: 8 - 12 years',\n",
       "       'Ages: 0 - 7 years', 'Ages: 3 - 11 years', 'Ages: 4 - 5 years'],\n",
       "      dtype=object)"
      ]
     },
     "execution_count": 647,
     "metadata": {},
     "output_type": "execute_result"
    }
   ],
   "source": [
    "df['Age'].unique()  "
   ]
  },
  {
   "cell_type": "code",
   "execution_count": 648,
   "id": "58d7cec4",
   "metadata": {},
   "outputs": [],
   "source": [
    "df['Age'].fillna(1111,inplace=True)  "
   ]
  },
  {
   "cell_type": "code",
   "execution_count": 650,
   "id": "1d7c5b29",
   "metadata": {},
   "outputs": [],
   "source": [
    "df['Age_num']=df['Age'].apply(lambda x: re.sub('[^0-9-]', \"\", str(x)))"
   ]
  },
  {
   "cell_type": "code",
   "execution_count": 651,
   "id": "53a82672",
   "metadata": {},
   "outputs": [
    {
     "data": {
      "text/plain": [
       "array(['12', '8', '3-6', '3-5', '2-5', '3-7', '1111', '0-3', '8-12', '7',\n",
       "       '8-9', '5-12', '4-7', '4-6', '4-8', '4', '9', '6-9', '3', '5-9',\n",
       "       '2-4', '4-10', '0-4', '8-10', '1-4', '6', '8-11', '5-8', '4-9',\n",
       "       '5-10', '6-12', '7-10', '10', '9-11', '1-3', '1-8', '0-12', '6-11',\n",
       "       '10-12', '2-8', '0-2', '4-11', '9-12', '2-6', '6-10', '5', '7-11',\n",
       "       '3-8', '1-12', '6-8', '5-7', '7-9', '11', '0-5', '5-6', '7-12',\n",
       "       '2-7', '7-8', '6-7', '0-6', '1', '0-9', '9-10', '2-12', '0-11',\n",
       "       '1-6', '10-11', '3-9', '3-12', '', '1-5', '11-12', '0-7', '3-11',\n",
       "       '4-5'], dtype=object)"
      ]
     },
     "execution_count": 651,
     "metadata": {},
     "output_type": "execute_result"
    }
   ],
   "source": [
    "df['Age_num'].unique()"
   ]
  },
  {
   "cell_type": "code",
   "execution_count": 652,
   "id": "71e5087d",
   "metadata": {},
   "outputs": [
    {
     "data": {
      "text/html": [
       "<div>\n",
       "<style scoped>\n",
       "    .dataframe tbody tr th:only-of-type {\n",
       "        vertical-align: middle;\n",
       "    }\n",
       "\n",
       "    .dataframe tbody tr th {\n",
       "        vertical-align: top;\n",
       "    }\n",
       "\n",
       "    .dataframe thead th {\n",
       "        text-align: right;\n",
       "    }\n",
       "</style>\n",
       "<table border=\"1\" class=\"dataframe\">\n",
       "  <thead>\n",
       "    <tr style=\"text-align: right;\">\n",
       "      <th></th>\n",
       "      <th>Name</th>\n",
       "      <th>Description</th>\n",
       "      <th>Author</th>\n",
       "      <th>Age</th>\n",
       "      <th>Rating_out_of_5</th>\n",
       "      <th>No_of_Ratings</th>\n",
       "      <th>Link</th>\n",
       "      <th>Age_num</th>\n",
       "    </tr>\n",
       "  </thead>\n",
       "  <tbody>\n",
       "    <tr>\n",
       "      <th>805</th>\n",
       "      <td>The Magic of Manifesting: 15 Advanced Techniqu...</td>\n",
       "      <td>\\nWhy Celebrities Swear by These 15 Powerful T...</td>\n",
       "      <td>Ryuu Shinohara</td>\n",
       "      <td>Great On Kindle: A high quality digital readin...</td>\n",
       "      <td>4.8</td>\n",
       "      <td>543.0</td>\n",
       "      <td>https://www.amazon.com/Magic-Manifesting-Advan...</td>\n",
       "      <td></td>\n",
       "    </tr>\n",
       "  </tbody>\n",
       "</table>\n",
       "</div>"
      ],
      "text/plain": [
       "                                                  Name  \\\n",
       "805  The Magic of Manifesting: 15 Advanced Techniqu...   \n",
       "\n",
       "                                           Description          Author  \\\n",
       "805  \\nWhy Celebrities Swear by These 15 Powerful T...  Ryuu Shinohara   \n",
       "\n",
       "                                                   Age  Rating_out_of_5  \\\n",
       "805  Great On Kindle: A high quality digital readin...              4.8   \n",
       "\n",
       "     No_of_Ratings                                               Link Age_num  \n",
       "805          543.0  https://www.amazon.com/Magic-Manifesting-Advan...          "
      ]
     },
     "execution_count": 652,
     "metadata": {},
     "output_type": "execute_result"
    }
   ],
   "source": [
    "df[df['Age_num']==\"\"]  "
   ]
  },
  {
   "cell_type": "code",
   "execution_count": 653,
   "id": "a4d2696a",
   "metadata": {},
   "outputs": [],
   "source": [
    "df['Age_num'].replace(\"\",'1111', inplace=True)"
   ]
  },
  {
   "cell_type": "code",
   "execution_count": 654,
   "id": "e033cde5",
   "metadata": {},
   "outputs": [
    {
     "data": {
      "text/plain": [
       "array(['12', '8', '3-6', '3-5', '2-5', '3-7', '1111', '0-3', '8-12', '7',\n",
       "       '8-9', '5-12', '4-7', '4-6', '4-8', '4', '9', '6-9', '3', '5-9',\n",
       "       '2-4', '4-10', '0-4', '8-10', '1-4', '6', '8-11', '5-8', '4-9',\n",
       "       '5-10', '6-12', '7-10', '10', '9-11', '1-3', '1-8', '0-12', '6-11',\n",
       "       '10-12', '2-8', '0-2', '4-11', '9-12', '2-6', '6-10', '5', '7-11',\n",
       "       '3-8', '1-12', '6-8', '5-7', '7-9', '11', '0-5', '5-6', '7-12',\n",
       "       '2-7', '7-8', '6-7', '0-6', '1', '0-9', '9-10', '2-12', '0-11',\n",
       "       '1-6', '10-11', '3-9', '3-12', '1-5', '11-12', '0-7', '3-11',\n",
       "       '4-5'], dtype=object)"
      ]
     },
     "execution_count": 654,
     "metadata": {},
     "output_type": "execute_result"
    }
   ],
   "source": [
    "df['Age_num'].unique()"
   ]
  },
  {
   "cell_type": "markdown",
   "id": "4fb4b854",
   "metadata": {},
   "source": [
    "--Age Groups for children's books\n",
    "\n",
    "1. 0-3: Board books\n",
    "2. 4-8: Picture books\n",
    "3. 5-8: Early readers\n",
    "4. 6-10 :Chapter books\n",
    "5. 8-12: Middle grade \n",
    "6. over 12: Young adult\n",
    "\n",
    "--Age groups for the U.S. school system\n",
    "1. 0-4: Nursery\n",
    "2. 5-10: K-5\n",
    "3. 11-13: 6-8 (middle school)\n",
    "4. 14-18: 9-12 (high school)\n",
    "\n",
    "--Considering age groups for children's books and the U.S. school system, I will divide age groups into 4.\n",
    "1. 0-3: Board books, Infant, Toddler\n",
    "2. 4-7: Picture books, Child\n",
    "3. 8-11: Chapter books, Child\n",
    "4. Over 12: Young adult books, Adult books, Teens"
   ]
  },
  {
   "cell_type": "code",
   "execution_count": 655,
   "id": "baca3c4b",
   "metadata": {},
   "outputs": [],
   "source": [
    "#8-11: [ '8', '8-12', '7', '8-9', '9', '8-10','8-11','7-10', 10', '9-11', '10-12', '7-9',\n",
    "# '11', '7-12', '9-10', '10-11', '11-12' ]\n",
    "\n",
    "def age_group(x):\n",
    "    if x ==\"12\":\n",
    "        return 'Over 12'\n",
    "    elif x == \"1111\":\n",
    "        return 'Not defined'\n",
    "    elif x in ['0-3','0-4', '0-2', '1-4', '1-3']:\n",
    "        return '0-3'\n",
    "    elif x in ['3-6', '3-5', '2-5', '3-7', '4-7', '4-6', '4-8', '4', '5-9', '2-4', '2-8', '3-8',\n",
    "              '2-7', '2-6', '5', '0-6', '1', '0-7', '1-6', '4-5', '6', '3', '1-8', '5-7', '0-5', '5-6', '1-5',\n",
    "               '4-10', '4-11', '4-9', '5-12', '6-9', '5-10', '6-12', '0-12', '6-11', '6-10', '1-12', '6-8',\n",
    "               '7-8', '6-7', '0-9', '2-12', '0-11', '3-9', '3-12', '3-11', '5-8' ]:\n",
    "        return '4-7'\n",
    "    else:\n",
    "        return '8-11'"
   ]
  },
  {
   "cell_type": "code",
   "execution_count": 656,
   "id": "016b0b9e",
   "metadata": {},
   "outputs": [],
   "source": [
    "df['Age_group']=df.apply(lambda x: age_group(x['Age_num']), axis=1)"
   ]
  },
  {
   "cell_type": "code",
   "execution_count": 657,
   "id": "dddc6638",
   "metadata": {},
   "outputs": [
    {
     "data": {
      "text/html": [
       "<div>\n",
       "<style scoped>\n",
       "    .dataframe tbody tr th:only-of-type {\n",
       "        vertical-align: middle;\n",
       "    }\n",
       "\n",
       "    .dataframe tbody tr th {\n",
       "        vertical-align: top;\n",
       "    }\n",
       "\n",
       "    .dataframe thead th {\n",
       "        text-align: right;\n",
       "    }\n",
       "</style>\n",
       "<table border=\"1\" class=\"dataframe\">\n",
       "  <thead>\n",
       "    <tr style=\"text-align: right;\">\n",
       "      <th></th>\n",
       "      <th>Name</th>\n",
       "      <th>Description</th>\n",
       "      <th>Author</th>\n",
       "      <th>Age</th>\n",
       "      <th>Rating_out_of_5</th>\n",
       "      <th>No_of_Ratings</th>\n",
       "      <th>Link</th>\n",
       "      <th>Age_num</th>\n",
       "      <th>Age_group</th>\n",
       "    </tr>\n",
       "  </thead>\n",
       "  <tbody>\n",
       "    <tr>\n",
       "      <th>1161</th>\n",
       "      <td>Disney Frozen Elsa, Anna, Olaf, and More! - Le...</td>\n",
       "      <td>\\nThis special book gives every Frozen fan the...</td>\n",
       "      <td>Editors of Phoenix International Publications</td>\n",
       "      <td>1111</td>\n",
       "      <td>4.8</td>\n",
       "      <td>2.614</td>\n",
       "      <td>https://www.amazon.com/Frozen-Little-Music-Not...</td>\n",
       "      <td>1111</td>\n",
       "      <td>Not defined</td>\n",
       "    </tr>\n",
       "    <tr>\n",
       "      <th>1165</th>\n",
       "      <td>The Vampire Diaries Dots Lines Spirals: The BE...</td>\n",
       "      <td>\\nA New Kind of Coloring Book for Adult Relaxa...</td>\n",
       "      <td>Relaxation Coloring Book</td>\n",
       "      <td>1111</td>\n",
       "      <td>4.6</td>\n",
       "      <td>185.000</td>\n",
       "      <td>https://www.amazon.com/Vampire-Diaries-Dots-Li...</td>\n",
       "      <td>1111</td>\n",
       "      <td>Not defined</td>\n",
       "    </tr>\n",
       "    <tr>\n",
       "      <th>1169</th>\n",
       "      <td>Find Your Calm: A Mindful Approach To Relieve ...</td>\n",
       "      <td>\\n“Anxiety can feel big and powerful. It can s...</td>\n",
       "      <td>Gabi Garcia</td>\n",
       "      <td>1111</td>\n",
       "      <td>4.7</td>\n",
       "      <td>499.000</td>\n",
       "      <td>https://www.amazon.com/Find-Your-Calm-Mindful-...</td>\n",
       "      <td>1111</td>\n",
       "      <td>Not defined</td>\n",
       "    </tr>\n",
       "    <tr>\n",
       "      <th>1187</th>\n",
       "      <td>Dr. Seuss's I Love Pop!: A Celebration of Dads</td>\n",
       "      <td>\\nSay thank you to Dad with this perfect-for-F...</td>\n",
       "      <td>Dr. Seuss</td>\n",
       "      <td>1111</td>\n",
       "      <td>4.8</td>\n",
       "      <td>1.831</td>\n",
       "      <td>https://www.amazon.com/Dr-Seusss-Love-Pop-Cele...</td>\n",
       "      <td>1111</td>\n",
       "      <td>Not defined</td>\n",
       "    </tr>\n",
       "    <tr>\n",
       "      <th>1198</th>\n",
       "      <td>Disney - Mickey Mouse, Toy Story and More! Me ...</td>\n",
       "      <td>\\nHave an adventure with characters from Disne...</td>\n",
       "      <td>Editors of Phoenix International Publications</td>\n",
       "      <td>1111</td>\n",
       "      <td>4.7</td>\n",
       "      <td>747.000</td>\n",
       "      <td>https://www.amazon.com/Disney-Electronic-Reade...</td>\n",
       "      <td>1111</td>\n",
       "      <td>Not defined</td>\n",
       "    </tr>\n",
       "  </tbody>\n",
       "</table>\n",
       "</div>"
      ],
      "text/plain": [
       "                                                   Name  \\\n",
       "1161  Disney Frozen Elsa, Anna, Olaf, and More! - Le...   \n",
       "1165  The Vampire Diaries Dots Lines Spirals: The BE...   \n",
       "1169  Find Your Calm: A Mindful Approach To Relieve ...   \n",
       "1187     Dr. Seuss's I Love Pop!: A Celebration of Dads   \n",
       "1198  Disney - Mickey Mouse, Toy Story and More! Me ...   \n",
       "\n",
       "                                            Description  \\\n",
       "1161  \\nThis special book gives every Frozen fan the...   \n",
       "1165  \\nA New Kind of Coloring Book for Adult Relaxa...   \n",
       "1169  \\n“Anxiety can feel big and powerful. It can s...   \n",
       "1187  \\nSay thank you to Dad with this perfect-for-F...   \n",
       "1198  \\nHave an adventure with characters from Disne...   \n",
       "\n",
       "                                             Author   Age  Rating_out_of_5  \\\n",
       "1161  Editors of Phoenix International Publications  1111              4.8   \n",
       "1165                       Relaxation Coloring Book  1111              4.6   \n",
       "1169                                    Gabi Garcia  1111              4.7   \n",
       "1187                                      Dr. Seuss  1111              4.8   \n",
       "1198  Editors of Phoenix International Publications  1111              4.7   \n",
       "\n",
       "      No_of_Ratings                                               Link  \\\n",
       "1161          2.614  https://www.amazon.com/Frozen-Little-Music-Not...   \n",
       "1165        185.000  https://www.amazon.com/Vampire-Diaries-Dots-Li...   \n",
       "1169        499.000  https://www.amazon.com/Find-Your-Calm-Mindful-...   \n",
       "1187          1.831  https://www.amazon.com/Dr-Seusss-Love-Pop-Cele...   \n",
       "1198        747.000  https://www.amazon.com/Disney-Electronic-Reade...   \n",
       "\n",
       "     Age_num    Age_group  \n",
       "1161    1111  Not defined  \n",
       "1165    1111  Not defined  \n",
       "1169    1111  Not defined  \n",
       "1187    1111  Not defined  \n",
       "1198    1111  Not defined  "
      ]
     },
     "execution_count": 657,
     "metadata": {},
     "output_type": "execute_result"
    }
   ],
   "source": [
    "#'Great On Kindle: A high quality digital reading experience.' \n",
    "df[df['Age_group']=='Not defined'].tail(5)"
   ]
  },
  {
   "cell_type": "code",
   "execution_count": 658,
   "id": "344bffa5",
   "metadata": {},
   "outputs": [
    {
     "data": {
      "text/plain": [
       "4-7            579\n",
       "8-11           388\n",
       "0-3             96\n",
       "Not defined     80\n",
       "Over 12         57\n",
       "Name: Age_group, dtype: int64"
      ]
     },
     "execution_count": 658,
     "metadata": {},
     "output_type": "execute_result"
    }
   ],
   "source": [
    "df['Age_group'].value_counts()  "
   ]
  },
  {
   "cell_type": "code",
   "execution_count": 659,
   "id": "00ef9fa3",
   "metadata": {},
   "outputs": [],
   "source": [
    "# Replace nan -> mode\n",
    "df['Age_group'].replace('Not defined', '4-7', inplace=True)"
   ]
  },
  {
   "cell_type": "code",
   "execution_count": 660,
   "id": "7a7a17af",
   "metadata": {},
   "outputs": [
    {
     "data": {
      "text/plain": [
       "<AxesSubplot:xlabel='Age_group', ylabel='count'>"
      ]
     },
     "execution_count": 660,
     "metadata": {},
     "output_type": "execute_result"
    },
    {
     "data": {
      "image/png": "[encoded data removed]",
      "text/plain": [
       "<Figure size 432x288 with 1 Axes>"
      ]
     },
     "metadata": {
      "needs_background": "light"
     },
     "output_type": "display_data"
    }
   ],
   "source": [
    "#Graph\n",
    "sns.countplot(x='Age_group', data=df)"
   ]
  },
  {
   "cell_type": "markdown",
   "id": "66056708",
   "metadata": {},
   "source": [
    "#### 3.2. Rating\n",
    "##### 3.2.1. Describe"
   ]
  },
  {
   "cell_type": "code",
   "execution_count": 661,
   "id": "b6a4f538",
   "metadata": {},
   "outputs": [
    {
     "data": {
      "text/html": [
       "<div>\n",
       "<style scoped>\n",
       "    .dataframe tbody tr th:only-of-type {\n",
       "        vertical-align: middle;\n",
       "    }\n",
       "\n",
       "    .dataframe tbody tr th {\n",
       "        vertical-align: top;\n",
       "    }\n",
       "\n",
       "    .dataframe thead th {\n",
       "        text-align: right;\n",
       "    }\n",
       "</style>\n",
       "<table border=\"1\" class=\"dataframe\">\n",
       "  <thead>\n",
       "    <tr style=\"text-align: right;\">\n",
       "      <th></th>\n",
       "      <th>Rating_out_of_5</th>\n",
       "      <th>No_of_Ratings</th>\n",
       "    </tr>\n",
       "  </thead>\n",
       "  <tbody>\n",
       "    <tr>\n",
       "      <th>count</th>\n",
       "      <td>1200.000000</td>\n",
       "      <td>1200.000000</td>\n",
       "    </tr>\n",
       "    <tr>\n",
       "      <th>mean</th>\n",
       "      <td>4.788667</td>\n",
       "      <td>103.154050</td>\n",
       "    </tr>\n",
       "    <tr>\n",
       "      <th>std</th>\n",
       "      <td>0.101473</td>\n",
       "      <td>236.572631</td>\n",
       "    </tr>\n",
       "    <tr>\n",
       "      <th>min</th>\n",
       "      <td>4.000000</td>\n",
       "      <td>1.003000</td>\n",
       "    </tr>\n",
       "    <tr>\n",
       "      <th>25%</th>\n",
       "      <td>4.700000</td>\n",
       "      <td>2.165750</td>\n",
       "    </tr>\n",
       "    <tr>\n",
       "      <th>50%</th>\n",
       "      <td>4.800000</td>\n",
       "      <td>4.145000</td>\n",
       "    </tr>\n",
       "    <tr>\n",
       "      <th>75%</th>\n",
       "      <td>4.900000</td>\n",
       "      <td>13.525750</td>\n",
       "    </tr>\n",
       "    <tr>\n",
       "      <th>max</th>\n",
       "      <td>5.000000</td>\n",
       "      <td>993.000000</td>\n",
       "    </tr>\n",
       "  </tbody>\n",
       "</table>\n",
       "</div>"
      ],
      "text/plain": [
       "       Rating_out_of_5  No_of_Ratings\n",
       "count      1200.000000    1200.000000\n",
       "mean          4.788667     103.154050\n",
       "std           0.101473     236.572631\n",
       "min           4.000000       1.003000\n",
       "25%           4.700000       2.165750\n",
       "50%           4.800000       4.145000\n",
       "75%           4.900000      13.525750\n",
       "max           5.000000     993.000000"
      ]
     },
     "execution_count": 661,
     "metadata": {},
     "output_type": "execute_result"
    }
   ],
   "source": [
    "df.describe()"
   ]
  },
  {
   "cell_type": "markdown",
   "id": "27d287e2",
   "metadata": {},
   "source": [
    "##### 3.2.2. Histplot"
   ]
  },
  {
   "cell_type": "code",
   "execution_count": 662,
   "id": "f2ee5605",
   "metadata": {
    "scrolled": true
   },
   "outputs": [
    {
     "data": {
      "text/plain": [
       "<AxesSubplot:xlabel='Rating_out_of_5', ylabel='Count'>"
      ]
     },
     "execution_count": 662,
     "metadata": {},
     "output_type": "execute_result"
    },
    {
     "data": {
      "image/png": "[encoded data removed]",
      "text/plain": [
       "<Figure size 432x288 with 1 Axes>"
      ]
     },
     "metadata": {
      "needs_background": "light"
     },
     "output_type": "display_data"
    }
   ],
   "source": [
    "sns.histplot(x='Rating_out_of_5', data=df, kde=True)"
   ]
  },
  {
   "cell_type": "code",
   "execution_count": 663,
   "id": "9876332b",
   "metadata": {},
   "outputs": [
    {
     "data": {
      "text/plain": [
       "<AxesSubplot:xlabel='No_of_Ratings', ylabel='Count'>"
      ]
     },
     "execution_count": 663,
     "metadata": {},
     "output_type": "execute_result"
    },
    {
     "data": {
      "image/png": "[encoded data removed]",
      "text/plain": [
       "<Figure size 432x288 with 1 Axes>"
      ]
     },
     "metadata": {
      "needs_background": "light"
     },
     "output_type": "display_data"
    }
   ],
   "source": [
    "sns.histplot(x='No_of_Ratings', data=df, kde=True)"
   ]
  },
  {
   "cell_type": "markdown",
   "id": "0907bf1d",
   "metadata": {},
   "source": [
    "##### 3.2.3. Weighted Rating\n",
    "\n",
    "IMDB's weighted rating\n",
    "\n",
    "weighted_rating=(v/(v+m))* r + (m/(v+m))* c\n",
    "\n",
    "v: The number of votes an individual book was rated\n",
    "\n",
    "m: Minimum number of votes to give a rating\n",
    "\n",
    "r: The average rating for individual movies\n",
    "\n",
    "c: The average rating for the entire movie"
   ]
  },
  {
   "cell_type": "code",
   "execution_count": 664,
   "id": "7d8dbd28",
   "metadata": {},
   "outputs": [],
   "source": [
    "c=df['Rating_out_of_5'].mean()\n",
    "m=df['No_of_Ratings'].quantile(0.6) #60% of the total votes"
   ]
  },
  {
   "cell_type": "code",
   "execution_count": 665,
   "id": "ec140144",
   "metadata": {},
   "outputs": [],
   "source": [
    "def weighted_rating(x):\n",
    "    v=x['No_of_Ratings']\n",
    "    r=x['Rating_out_of_5']\n",
    "    c=df['Rating_out_of_5'].mean()\n",
    "    m=df['No_of_Ratings'].quantile(0.6)\n",
    "    \n",
    "    return round(((v/(v+m))* r) + ((m/(v+m))* c),2)"
   ]
  },
  {
   "cell_type": "code",
   "execution_count": 666,
   "id": "3f21d5b1",
   "metadata": {},
   "outputs": [],
   "source": [
    "df['weighted_rating']=df.apply(weighted_rating, axis=1)"
   ]
  },
  {
   "cell_type": "code",
   "execution_count": 667,
   "id": "ee242cb7",
   "metadata": {},
   "outputs": [
    {
     "data": {
      "text/plain": [
       "<AxesSubplot:xlabel='weighted_rating', ylabel='Count'>"
      ]
     },
     "execution_count": 667,
     "metadata": {},
     "output_type": "execute_result"
    },
    {
     "data": {
      "image/png": "[encoded data removed]",
      "text/plain": [
       "<Figure size 432x288 with 1 Axes>"
      ]
     },
     "metadata": {
      "needs_background": "light"
     },
     "output_type": "display_data"
    }
   ],
   "source": [
    "sns.histplot(x='weighted_rating', data=df, kde=True)"
   ]
  },
  {
   "cell_type": "markdown",
   "id": "65d55a30",
   "metadata": {},
   "source": [
    "#### 3.3. Description\n",
    "##### 3.3.1. Text cleaning, Feature vectorizer"
   ]
  },
  {
   "cell_type": "code",
   "execution_count": 668,
   "id": "53b0e85d",
   "metadata": {},
   "outputs": [],
   "source": [
    "#Null data\n",
    "df[df['Description'].isna()==True]\n",
    "#Fetching book descriptions from Amazon to fill the null data. \n",
    "null_text=\"This book is perfect for toddlers who are learning how to use scissors! The book contains over 40 exercises and crafts that help kids learn to use scissors safely. Projects include animals, patterns and shapes to cut out! The fun doesn't stop there! Kids can color and use their creations to make jewelry (bracelets), decorate their rooms or give as gifts!\"\n",
    "df['Description'].fillna(null_text, inplace=True)"
   ]
  },
  {
   "cell_type": "code",
   "execution_count": 669,
   "id": "504ca116",
   "metadata": {},
   "outputs": [],
   "source": [
    "def strip_n(x):\n",
    "    return x.strip('\\n')"
   ]
  },
  {
   "cell_type": "code",
   "execution_count": 670,
   "id": "24df86a8",
   "metadata": {},
   "outputs": [],
   "source": [
    "def remove_string(x):\n",
    "    return x.replace(u'\\xa0', u\" \")"
   ]
  },
  {
   "cell_type": "code",
   "execution_count": 671,
   "id": "b956a78a",
   "metadata": {},
   "outputs": [],
   "source": [
    "df['text']=df['Description'].apply(lambda x: remove_string(x))"
   ]
  },
  {
   "cell_type": "code",
   "execution_count": 672,
   "id": "669a9652",
   "metadata": {},
   "outputs": [],
   "source": [
    "df['text']=df['Description'].apply(lambda x: strip_n(x))"
   ]
  },
  {
   "cell_type": "code",
   "execution_count": 673,
   "id": "30e66254",
   "metadata": {},
   "outputs": [],
   "source": [
    "remove_punct_dict = dict((ord(punct), None) for punct in string.punctuation)\n",
    "lemmar = WordNetLemmatizer()\n",
    "\n",
    "# lemmatization\n",
    "def LemTokens(tokens):\n",
    "    return [lemmar.lemmatize(token) for token in tokens]\n",
    "# Stop words-> convert to lowercase-> tokenize words-> lemmatization\n",
    "def LemNormalize(text):\n",
    "    return LemTokens(nltk.word_tokenize(text.lower().translate(remove_punct_dict)))"
   ]
  },
  {
   "cell_type": "code",
   "execution_count": 674,
   "id": "78e78654",
   "metadata": {},
   "outputs": [],
   "source": [
    "tfidf_vect=TfidfVectorizer(tokenizer=LemNormalize, stop_words='english', ngram_range=(1,2),min_df=0.05, max_df=0.85)\n",
    "feature_vect=tfidf_vect.fit_transform(df['text'])"
   ]
  },
  {
   "cell_type": "markdown",
   "id": "2fa267cb",
   "metadata": {},
   "source": [
    "##### 3.3.2. KMeans Clustering"
   ]
  },
  {
   "cell_type": "code",
   "execution_count": 675,
   "id": "5a14458e",
   "metadata": {},
   "outputs": [],
   "source": [
    "def visualize_silhouette(cluster_lists, X_features): \n",
    "    \n",
    "    n_cols = len(cluster_lists)\n",
    "    fig, axs = plt.subplots(figsize=(4*n_cols, 4), nrows=1, ncols=n_cols)\n",
    "       \n",
    "    for ind, n_cluster in enumerate(cluster_lists):\n",
    "        clusterer = KMeans(n_clusters = n_cluster, max_iter=10000, random_state=0)\n",
    "        cluster_labels = clusterer.fit_predict(X_features)\n",
    "        \n",
    "        sil_avg = silhouette_score(X_features, cluster_labels)\n",
    "        sil_values = silhouette_samples(X_features, cluster_labels)\n",
    "        \n",
    "        y_lower = 10\n",
    "        axs[ind].set_title('Number of Cluster : '+ str(n_cluster)+'\\n' \\\n",
    "                          'Silhouette Score :' + str(round(sil_avg,3)) )\n",
    "        axs[ind].set_xlabel(\"The silhouette coefficient values\")\n",
    "        axs[ind].set_ylabel(\"Cluster label\")\n",
    "        axs[ind].set_xlim([-0.1, 1])\n",
    "        \n",
    "        axs[ind].set_yticks([])  \n",
    "        axs[ind].set_xticks([0, 0.2, 0.4, 0.6, 0.8, 1])\n",
    "        \n",
    "        \n",
    "        for i in range(n_cluster):\n",
    "            ith_cluster_sil_values = sil_values[cluster_labels==i]\n",
    "            ith_cluster_sil_values.sort()\n",
    "            \n",
    "            size_cluster_i = ith_cluster_sil_values.shape[0]\n",
    "            y_upper = y_lower + size_cluster_i\n",
    "            \n",
    "            color = cm.nipy_spectral(float(i) / n_cluster)\n",
    "            axs[ind].fill_betweenx(np.arange(y_lower, y_upper), 0, ith_cluster_sil_values, \\\n",
    "                                facecolor=color, edgecolor=color, alpha=0.7)\n",
    "            axs[ind].text(-0.05, y_lower + 0.5 * size_cluster_i, str(i))\n",
    "            y_lower = y_upper + 10\n",
    "            \n",
    "        axs[ind].axvline(x=sil_avg, color=\"red\", linestyle=\"--\")"
   ]
  },
  {
   "cell_type": "code",
   "execution_count": 676,
   "id": "b45529dc",
   "metadata": {},
   "outputs": [
    {
     "data": {
      "image/png": "[encoded data removed]",
      "text/plain": [
       "<Figure size 864x288 with 3 Axes>"
      ]
     },
     "metadata": {
      "needs_background": "light"
     },
     "output_type": "display_data"
    }
   ],
   "source": [
    "cluster_lists=[5,6,8]\n",
    "visualize_silhouette(cluster_lists, feature_vect)  #k=6"
   ]
  },
  {
   "cell_type": "code",
   "execution_count": 677,
   "id": "4c27fec3",
   "metadata": {},
   "outputs": [],
   "source": [
    "km_cluster=KMeans(n_clusters=6, max_iter=10000, random_state=0)\n",
    "km_cluster.fit(feature_vect)\n",
    "cluster_label=km_cluster.labels_\n",
    "cluster_centers=km_cluster.cluster_centers_\n",
    "\n",
    "df['Kmeans_label']=cluster_label"
   ]
  },
  {
   "cell_type": "code",
   "execution_count": 678,
   "id": "23652ea3",
   "metadata": {},
   "outputs": [
    {
     "data": {
      "text/plain": [
       "<AxesSubplot:xlabel='Kmeans_label', ylabel='count'>"
      ]
     },
     "execution_count": 678,
     "metadata": {},
     "output_type": "execute_result"
    },
    {
     "data": {
      "image/png": "[encoded data removed]",
      "text/plain": [
       "<Figure size 432x288 with 1 Axes>"
      ]
     },
     "metadata": {
      "needs_background": "light"
     },
     "output_type": "display_data"
    }
   ],
   "source": [
    "sns.countplot(x='Kmeans_label', data=df)"
   ]
  },
  {
   "cell_type": "code",
   "execution_count": 679,
   "id": "f72e604e",
   "metadata": {},
   "outputs": [
    {
     "data": {
      "text/html": [
       "<div>\n",
       "<style scoped>\n",
       "    .dataframe tbody tr th:only-of-type {\n",
       "        vertical-align: middle;\n",
       "    }\n",
       "\n",
       "    .dataframe tbody tr th {\n",
       "        vertical-align: top;\n",
       "    }\n",
       "\n",
       "    .dataframe thead th {\n",
       "        text-align: right;\n",
       "    }\n",
       "</style>\n",
       "<table border=\"1\" class=\"dataframe\">\n",
       "  <thead>\n",
       "    <tr style=\"text-align: right;\">\n",
       "      <th></th>\n",
       "      <th>Name</th>\n",
       "      <th>text</th>\n",
       "      <th>Age_group</th>\n",
       "    </tr>\n",
       "  </thead>\n",
       "  <tbody>\n",
       "    <tr>\n",
       "      <th>10</th>\n",
       "      <td>Percy Jackson and the Olympians 5 Book Paperba...</td>\n",
       "      <td>All five books in the blockbuster Percy Jackso...</td>\n",
       "      <td>8-11</td>\n",
       "    </tr>\n",
       "    <tr>\n",
       "      <th>14</th>\n",
       "      <td>Magic Tree House Boxed Set, Books 1-4: Dinosau...</td>\n",
       "      <td>Visit the magic tree house and start a time tr...</td>\n",
       "      <td>8-11</td>\n",
       "    </tr>\n",
       "    <tr>\n",
       "      <th>29</th>\n",
       "      <td>Dr. Seuss's Beginner Book Collection (Cat in t...</td>\n",
       "      <td>Celebrate back-to-school—no matter what that l...</td>\n",
       "      <td>4-7</td>\n",
       "    </tr>\n",
       "    <tr>\n",
       "      <th>31</th>\n",
       "      <td>Harry Potter: The Illustrated Collection (Book...</td>\n",
       "      <td>The first three books in the Harry Potter seri...</td>\n",
       "      <td>8-11</td>\n",
       "    </tr>\n",
       "    <tr>\n",
       "      <th>77</th>\n",
       "      <td>The Chronicles of Narnia Adult Box Set</td>\n",
       "      <td>For over 60 years, readers of all ages have be...</td>\n",
       "      <td>4-7</td>\n",
       "    </tr>\n",
       "    <tr>\n",
       "      <th>78</th>\n",
       "      <td>My Big Fat Zombie Goldfish Boxed Set: (My Big ...</td>\n",
       "      <td>This must-have paperback boxed set includes th...</td>\n",
       "      <td>8-11</td>\n",
       "    </tr>\n",
       "    <tr>\n",
       "      <th>80</th>\n",
       "      <td>Harry Potter Books 1-7 Special Edition Boxed Set</td>\n",
       "      <td>A new special edition boxed set of the complet...</td>\n",
       "      <td>8-11</td>\n",
       "    </tr>\n",
       "    <tr>\n",
       "      <th>101</th>\n",
       "      <td>The Heroes of Olympus Paperback Boxed Set (10t...</td>\n",
       "      <td>All five books in the #1 New York Times bestse...</td>\n",
       "      <td>8-11</td>\n",
       "    </tr>\n",
       "  </tbody>\n",
       "</table>\n",
       "</div>"
      ],
      "text/plain": [
       "                                                  Name  \\\n",
       "10   Percy Jackson and the Olympians 5 Book Paperba...   \n",
       "14   Magic Tree House Boxed Set, Books 1-4: Dinosau...   \n",
       "29   Dr. Seuss's Beginner Book Collection (Cat in t...   \n",
       "31   Harry Potter: The Illustrated Collection (Book...   \n",
       "77              The Chronicles of Narnia Adult Box Set   \n",
       "78   My Big Fat Zombie Goldfish Boxed Set: (My Big ...   \n",
       "80    Harry Potter Books 1-7 Special Edition Boxed Set   \n",
       "101  The Heroes of Olympus Paperback Boxed Set (10t...   \n",
       "\n",
       "                                                  text Age_group  \n",
       "10   All five books in the blockbuster Percy Jackso...      8-11  \n",
       "14   Visit the magic tree house and start a time tr...      8-11  \n",
       "29   Celebrate back-to-school—no matter what that l...       4-7  \n",
       "31   The first three books in the Harry Potter seri...      8-11  \n",
       "77   For over 60 years, readers of all ages have be...       4-7  \n",
       "78   This must-have paperback boxed set includes th...      8-11  \n",
       "80   A new special edition boxed set of the complet...      8-11  \n",
       "101  All five books in the #1 New York Times bestse...      8-11  "
      ]
     },
     "execution_count": 679,
     "metadata": {},
     "output_type": "execute_result"
    }
   ],
   "source": [
    "df[df['Kmeans_label']==0][['Name', 'text', 'Age_group']][:8]"
   ]
  },
  {
   "cell_type": "code",
   "execution_count": 680,
   "id": "84eb35b6",
   "metadata": {},
   "outputs": [
    {
     "data": {
      "text/html": [
       "<div>\n",
       "<style scoped>\n",
       "    .dataframe tbody tr th:only-of-type {\n",
       "        vertical-align: middle;\n",
       "    }\n",
       "\n",
       "    .dataframe tbody tr th {\n",
       "        vertical-align: top;\n",
       "    }\n",
       "\n",
       "    .dataframe thead th {\n",
       "        text-align: right;\n",
       "    }\n",
       "</style>\n",
       "<table border=\"1\" class=\"dataframe\">\n",
       "  <thead>\n",
       "    <tr style=\"text-align: right;\">\n",
       "      <th></th>\n",
       "      <th>Name</th>\n",
       "      <th>text</th>\n",
       "      <th>Age_group</th>\n",
       "    </tr>\n",
       "  </thead>\n",
       "  <tbody>\n",
       "    <tr>\n",
       "      <th>3</th>\n",
       "      <td>My First Learn to Write Workbook: Practice for...</td>\n",
       "      <td>A lifetime of communication skills starts here...</td>\n",
       "      <td>4-7</td>\n",
       "    </tr>\n",
       "    <tr>\n",
       "      <th>16</th>\n",
       "      <td>School Zone - Big Preschool Workbook - Ages 3 ...</td>\n",
       "      <td>School Zone products shipped and sold by Amazo...</td>\n",
       "      <td>4-7</td>\n",
       "    </tr>\n",
       "    <tr>\n",
       "      <th>18</th>\n",
       "      <td>First Little Readers Parent Pack: Guided Readi...</td>\n",
       "      <td>Jumpstart reading success with this big collec...</td>\n",
       "      <td>4-7</td>\n",
       "    </tr>\n",
       "    <tr>\n",
       "      <th>33</th>\n",
       "      <td>200 Must Know Sight Words Activity Workbook: L...</td>\n",
       "      <td>Top 200 most common sight words for kids!Are y...</td>\n",
       "      <td>4-7</td>\n",
       "    </tr>\n",
       "    <tr>\n",
       "      <th>46</th>\n",
       "      <td>School Zone - Multiplication 0-12 Flash Cards ...</td>\n",
       "      <td>Find our complete line of educational resource...</td>\n",
       "      <td>4-7</td>\n",
       "    </tr>\n",
       "    <tr>\n",
       "      <th>50</th>\n",
       "      <td>Trace Letters: Alphabet Handwriting Practice w...</td>\n",
       "      <td>Ultimate Handwriting Practice Workbook for you...</td>\n",
       "      <td>4-7</td>\n",
       "    </tr>\n",
       "    <tr>\n",
       "      <th>61</th>\n",
       "      <td>This Is How We Do It: One Day in the Lives of ...</td>\n",
       "      <td>In Japan, Kei plays Freeze Tag, while in Ugand...</td>\n",
       "      <td>4-7</td>\n",
       "    </tr>\n",
       "    <tr>\n",
       "      <th>64</th>\n",
       "      <td>Awesome Science Experiments for Kids: 100+ Fun...</td>\n",
       "      <td>Hands-on projects to get kids ages 5 to 10 exc...</td>\n",
       "      <td>4-7</td>\n",
       "    </tr>\n",
       "  </tbody>\n",
       "</table>\n",
       "</div>"
      ],
      "text/plain": [
       "                                                 Name  \\\n",
       "3   My First Learn to Write Workbook: Practice for...   \n",
       "16  School Zone - Big Preschool Workbook - Ages 3 ...   \n",
       "18  First Little Readers Parent Pack: Guided Readi...   \n",
       "33  200 Must Know Sight Words Activity Workbook: L...   \n",
       "46  School Zone - Multiplication 0-12 Flash Cards ...   \n",
       "50  Trace Letters: Alphabet Handwriting Practice w...   \n",
       "61  This Is How We Do It: One Day in the Lives of ...   \n",
       "64  Awesome Science Experiments for Kids: 100+ Fun...   \n",
       "\n",
       "                                                 text Age_group  \n",
       "3   A lifetime of communication skills starts here...       4-7  \n",
       "16  School Zone products shipped and sold by Amazo...       4-7  \n",
       "18  Jumpstart reading success with this big collec...       4-7  \n",
       "33  Top 200 most common sight words for kids!Are y...       4-7  \n",
       "46  Find our complete line of educational resource...       4-7  \n",
       "50  Ultimate Handwriting Practice Workbook for you...       4-7  \n",
       "61  In Japan, Kei plays Freeze Tag, while in Ugand...       4-7  \n",
       "64  Hands-on projects to get kids ages 5 to 10 exc...       4-7  "
      ]
     },
     "execution_count": 680,
     "metadata": {},
     "output_type": "execute_result"
    }
   ],
   "source": [
    "df[df['Kmeans_label']==1][['Name', 'text', 'Age_group']][:8]"
   ]
  },
  {
   "cell_type": "code",
   "execution_count": 681,
   "id": "5bb30380",
   "metadata": {},
   "outputs": [
    {
     "data": {
      "text/html": [
       "<div>\n",
       "<style scoped>\n",
       "    .dataframe tbody tr th:only-of-type {\n",
       "        vertical-align: middle;\n",
       "    }\n",
       "\n",
       "    .dataframe tbody tr th {\n",
       "        vertical-align: top;\n",
       "    }\n",
       "\n",
       "    .dataframe thead th {\n",
       "        text-align: right;\n",
       "    }\n",
       "</style>\n",
       "<table border=\"1\" class=\"dataframe\">\n",
       "  <thead>\n",
       "    <tr style=\"text-align: right;\">\n",
       "      <th></th>\n",
       "      <th>Name</th>\n",
       "      <th>text</th>\n",
       "      <th>Age_group</th>\n",
       "    </tr>\n",
       "  </thead>\n",
       "  <tbody>\n",
       "    <tr>\n",
       "      <th>0</th>\n",
       "      <td>We Were Liars</td>\n",
       "      <td>#1 NEW YORK TIMES BESTSELLER • A modern, sophi...</td>\n",
       "      <td>Over 12</td>\n",
       "    </tr>\n",
       "    <tr>\n",
       "      <th>8</th>\n",
       "      <td>Grumpy Monkey</td>\n",
       "      <td>The hilarious #1 New York Times bestselling pi...</td>\n",
       "      <td>4-7</td>\n",
       "    </tr>\n",
       "    <tr>\n",
       "      <th>15</th>\n",
       "      <td>The Dark Secret (Wings of Fire Graphic Novel #...</td>\n",
       "      <td>The #1 New York Times bestselling Wings of Fir...</td>\n",
       "      <td>8-11</td>\n",
       "    </tr>\n",
       "    <tr>\n",
       "      <th>26</th>\n",
       "      <td>The Complete Cookbook for Young Chefs: 100+ Re...</td>\n",
       "      <td>The #1 New York Times Best Seller!An Amazon Be...</td>\n",
       "      <td>8-11</td>\n",
       "    </tr>\n",
       "    <tr>\n",
       "      <th>27</th>\n",
       "      <td>The Office: A Day at Dunder Mifflin Elementary</td>\n",
       "      <td>The instant #1 New York Times bestseller!Disco...</td>\n",
       "      <td>4-7</td>\n",
       "    </tr>\n",
       "    <tr>\n",
       "      <th>40</th>\n",
       "      <td>How to Catch a Unicorn</td>\n",
       "      <td>The #1 New York Times bestseller!  Try to catc...</td>\n",
       "      <td>4-7</td>\n",
       "    </tr>\n",
       "    <tr>\n",
       "      <th>44</th>\n",
       "      <td>Little Leaders: Bold Women in Black History (V...</td>\n",
       "      <td>A NEW YORK TIMES INSTANT BESTSELLER!A USA TOD...</td>\n",
       "      <td>8-11</td>\n",
       "    </tr>\n",
       "    <tr>\n",
       "      <th>47</th>\n",
       "      <td>The Wonderful Things You Will Be</td>\n",
       "      <td>The New York Times bestseller that celebrates ...</td>\n",
       "      <td>4-7</td>\n",
       "    </tr>\n",
       "  </tbody>\n",
       "</table>\n",
       "</div>"
      ],
      "text/plain": [
       "                                                 Name  \\\n",
       "0                                       We Were Liars   \n",
       "8                                       Grumpy Monkey   \n",
       "15  The Dark Secret (Wings of Fire Graphic Novel #...   \n",
       "26  The Complete Cookbook for Young Chefs: 100+ Re...   \n",
       "27     The Office: A Day at Dunder Mifflin Elementary   \n",
       "40                             How to Catch a Unicorn   \n",
       "44  Little Leaders: Bold Women in Black History (V...   \n",
       "47                   The Wonderful Things You Will Be   \n",
       "\n",
       "                                                 text Age_group  \n",
       "0   #1 NEW YORK TIMES BESTSELLER • A modern, sophi...   Over 12  \n",
       "8   The hilarious #1 New York Times bestselling pi...       4-7  \n",
       "15  The #1 New York Times bestselling Wings of Fir...      8-11  \n",
       "26  The #1 New York Times Best Seller!An Amazon Be...      8-11  \n",
       "27  The instant #1 New York Times bestseller!Disco...       4-7  \n",
       "40  The #1 New York Times bestseller!  Try to catc...       4-7  \n",
       "44   A NEW YORK TIMES INSTANT BESTSELLER!A USA TOD...      8-11  \n",
       "47  The New York Times bestseller that celebrates ...       4-7  "
      ]
     },
     "execution_count": 681,
     "metadata": {},
     "output_type": "execute_result"
    }
   ],
   "source": [
    "df[df['Kmeans_label']==2][['Name', 'text', 'Age_group']][:8]"
   ]
  },
  {
   "cell_type": "code",
   "execution_count": 682,
   "id": "4e05ed7d",
   "metadata": {},
   "outputs": [
    {
     "data": {
      "text/html": [
       "<div>\n",
       "<style scoped>\n",
       "    .dataframe tbody tr th:only-of-type {\n",
       "        vertical-align: middle;\n",
       "    }\n",
       "\n",
       "    .dataframe tbody tr th {\n",
       "        vertical-align: top;\n",
       "    }\n",
       "\n",
       "    .dataframe thead th {\n",
       "        text-align: right;\n",
       "    }\n",
       "</style>\n",
       "<table border=\"1\" class=\"dataframe\">\n",
       "  <thead>\n",
       "    <tr style=\"text-align: right;\">\n",
       "      <th></th>\n",
       "      <th>Name</th>\n",
       "      <th>text</th>\n",
       "      <th>Age_group</th>\n",
       "    </tr>\n",
       "  </thead>\n",
       "  <tbody>\n",
       "    <tr>\n",
       "      <th>1</th>\n",
       "      <td>Harry Potter Paperback Box Set (Books 1-7)</td>\n",
       "      <td>Now for the first time ever, J.K. Rowling’s se...</td>\n",
       "      <td>8-11</td>\n",
       "    </tr>\n",
       "    <tr>\n",
       "      <th>6</th>\n",
       "      <td>Bronco and Friends: A Party to Remember</td>\n",
       "      <td>NEW YORK TIMES BESTSELLER • Heisman Trophy win...</td>\n",
       "      <td>4-7</td>\n",
       "    </tr>\n",
       "    <tr>\n",
       "      <th>11</th>\n",
       "      <td>The Deep End (Diary of a Wimpy Kid Book 15)</td>\n",
       "      <td>An instant #1 USA Today, Wall Street Journal, ...</td>\n",
       "      <td>8-11</td>\n",
       "    </tr>\n",
       "    <tr>\n",
       "      <th>21</th>\n",
       "      <td>Of Thee I Sing: A Letter to My Daughters</td>\n",
       "      <td>Barack Obama delivers a tender, beautiful lett...</td>\n",
       "      <td>4-7</td>\n",
       "    </tr>\n",
       "    <tr>\n",
       "      <th>23</th>\n",
       "      <td>Kamala and Maya’s Big Idea</td>\n",
       "      <td>INSPIRED BY A TRUE STORY FROM THE CHILDHOOD OF...</td>\n",
       "      <td>4-7</td>\n",
       "    </tr>\n",
       "    <tr>\n",
       "      <th>38</th>\n",
       "      <td>The Ballad of Songbirds and Snakes (A Hunger G...</td>\n",
       "      <td>Ambition will fuel him. Competition will drive...</td>\n",
       "      <td>Over 12</td>\n",
       "    </tr>\n",
       "    <tr>\n",
       "      <th>43</th>\n",
       "      <td>Joey: The Story of Joe Biden</td>\n",
       "      <td>“(Jill) Biden’s anecdotal portrait of her spou...</td>\n",
       "      <td>4-7</td>\n",
       "    </tr>\n",
       "    <tr>\n",
       "      <th>45</th>\n",
       "      <td>Chicka Chicka Boom Boom (Board Book)</td>\n",
       "      <td>The complete edition of the bestselling childr...</td>\n",
       "      <td>0-3</td>\n",
       "    </tr>\n",
       "  </tbody>\n",
       "</table>\n",
       "</div>"
      ],
      "text/plain": [
       "                                                 Name  \\\n",
       "1          Harry Potter Paperback Box Set (Books 1-7)   \n",
       "6             Bronco and Friends: A Party to Remember   \n",
       "11        The Deep End (Diary of a Wimpy Kid Book 15)   \n",
       "21           Of Thee I Sing: A Letter to My Daughters   \n",
       "23                         Kamala and Maya’s Big Idea   \n",
       "38  The Ballad of Songbirds and Snakes (A Hunger G...   \n",
       "43                       Joey: The Story of Joe Biden   \n",
       "45               Chicka Chicka Boom Boom (Board Book)   \n",
       "\n",
       "                                                 text Age_group  \n",
       "1   Now for the first time ever, J.K. Rowling’s se...      8-11  \n",
       "6   NEW YORK TIMES BESTSELLER • Heisman Trophy win...       4-7  \n",
       "11  An instant #1 USA Today, Wall Street Journal, ...      8-11  \n",
       "21  Barack Obama delivers a tender, beautiful lett...       4-7  \n",
       "23  INSPIRED BY A TRUE STORY FROM THE CHILDHOOD OF...       4-7  \n",
       "38  Ambition will fuel him. Competition will drive...   Over 12  \n",
       "43  “(Jill) Biden’s anecdotal portrait of her spou...       4-7  \n",
       "45  The complete edition of the bestselling childr...       0-3  "
      ]
     },
     "execution_count": 682,
     "metadata": {},
     "output_type": "execute_result"
    }
   ],
   "source": [
    "df[df['Kmeans_label']==3][['Name', 'text', 'Age_group']][:8]"
   ]
  },
  {
   "cell_type": "code",
   "execution_count": 683,
   "id": "5935436a",
   "metadata": {},
   "outputs": [
    {
     "data": {
      "text/html": [
       "<div>\n",
       "<style scoped>\n",
       "    .dataframe tbody tr th:only-of-type {\n",
       "        vertical-align: middle;\n",
       "    }\n",
       "\n",
       "    .dataframe tbody tr th {\n",
       "        vertical-align: top;\n",
       "    }\n",
       "\n",
       "    .dataframe thead th {\n",
       "        text-align: right;\n",
       "    }\n",
       "</style>\n",
       "<table border=\"1\" class=\"dataframe\">\n",
       "  <thead>\n",
       "    <tr style=\"text-align: right;\">\n",
       "      <th></th>\n",
       "      <th>Name</th>\n",
       "      <th>text</th>\n",
       "      <th>Age_group</th>\n",
       "    </tr>\n",
       "  </thead>\n",
       "  <tbody>\n",
       "    <tr>\n",
       "      <th>4</th>\n",
       "      <td>I Love You to the Moon and Back</td>\n",
       "      <td>Show your child just how strong your love is e...</td>\n",
       "      <td>4-7</td>\n",
       "    </tr>\n",
       "    <tr>\n",
       "      <th>7</th>\n",
       "      <td>My First Library : Boxset of 10 Board Books fo...</td>\n",
       "      <td>The amazing boxset contains a set of 10 well-r...</td>\n",
       "      <td>4-7</td>\n",
       "    </tr>\n",
       "    <tr>\n",
       "      <th>9</th>\n",
       "      <td>The Very Hungry Caterpillar</td>\n",
       "      <td>THE all-time classic picture book, from genera...</td>\n",
       "      <td>0-3</td>\n",
       "    </tr>\n",
       "    <tr>\n",
       "      <th>36</th>\n",
       "      <td>Llama Llama I Love You</td>\n",
       "      <td>Beloved storyteller Anna Dewdney shows young c...</td>\n",
       "      <td>0-3</td>\n",
       "    </tr>\n",
       "    <tr>\n",
       "      <th>41</th>\n",
       "      <td>Potty Time! (Daniel Tiger's Neighborhood) (Dan...</td>\n",
       "      <td>Learning to use the potty is something to cele...</td>\n",
       "      <td>0-3</td>\n",
       "    </tr>\n",
       "    <tr>\n",
       "      <th>51</th>\n",
       "      <td>Goodnight Moon</td>\n",
       "      <td>In this classic of children's literature, belo...</td>\n",
       "      <td>0-3</td>\n",
       "    </tr>\n",
       "    <tr>\n",
       "      <th>74</th>\n",
       "      <td>P is for Potty! (Sesame Street) (Lift-the-Flap)</td>\n",
       "      <td>Sesame Street's Elmo tells little girls and bo...</td>\n",
       "      <td>0-3</td>\n",
       "    </tr>\n",
       "    <tr>\n",
       "      <th>84</th>\n",
       "      <td>A Little SPOT of Emotion Box Set (8 Books: Ang...</td>\n",
       "      <td>This box set includes 8 Emotion Books: A Littl...</td>\n",
       "      <td>4-7</td>\n",
       "    </tr>\n",
       "  </tbody>\n",
       "</table>\n",
       "</div>"
      ],
      "text/plain": [
       "                                                 Name  \\\n",
       "4                     I Love You to the Moon and Back   \n",
       "7   My First Library : Boxset of 10 Board Books fo...   \n",
       "9                         The Very Hungry Caterpillar   \n",
       "36                             Llama Llama I Love You   \n",
       "41  Potty Time! (Daniel Tiger's Neighborhood) (Dan...   \n",
       "51                                     Goodnight Moon   \n",
       "74    P is for Potty! (Sesame Street) (Lift-the-Flap)   \n",
       "84  A Little SPOT of Emotion Box Set (8 Books: Ang...   \n",
       "\n",
       "                                                 text Age_group  \n",
       "4   Show your child just how strong your love is e...       4-7  \n",
       "7   The amazing boxset contains a set of 10 well-r...       4-7  \n",
       "9   THE all-time classic picture book, from genera...       0-3  \n",
       "36  Beloved storyteller Anna Dewdney shows young c...       0-3  \n",
       "41  Learning to use the potty is something to cele...       0-3  \n",
       "51  In this classic of children's literature, belo...       0-3  \n",
       "74  Sesame Street's Elmo tells little girls and bo...       0-3  \n",
       "84  This box set includes 8 Emotion Books: A Littl...       4-7  "
      ]
     },
     "execution_count": 683,
     "metadata": {},
     "output_type": "execute_result"
    }
   ],
   "source": [
    "df[df['Kmeans_label']==4][['Name', 'text', 'Age_group']][:8]"
   ]
  },
  {
   "cell_type": "code",
   "execution_count": 684,
   "id": "ebbff98b",
   "metadata": {},
   "outputs": [
    {
     "data": {
      "text/html": [
       "<div>\n",
       "<style scoped>\n",
       "    .dataframe tbody tr th:only-of-type {\n",
       "        vertical-align: middle;\n",
       "    }\n",
       "\n",
       "    .dataframe tbody tr th {\n",
       "        vertical-align: top;\n",
       "    }\n",
       "\n",
       "    .dataframe thead th {\n",
       "        text-align: right;\n",
       "    }\n",
       "</style>\n",
       "<table border=\"1\" class=\"dataframe\">\n",
       "  <thead>\n",
       "    <tr style=\"text-align: right;\">\n",
       "      <th></th>\n",
       "      <th>Name</th>\n",
       "      <th>text</th>\n",
       "      <th>Age_group</th>\n",
       "    </tr>\n",
       "  </thead>\n",
       "  <tbody>\n",
       "    <tr>\n",
       "      <th>2</th>\n",
       "      <td>If Animals Kissed Good Night</td>\n",
       "      <td>Don't miss the other books in this adorable se...</td>\n",
       "      <td>4-7</td>\n",
       "    </tr>\n",
       "    <tr>\n",
       "      <th>5</th>\n",
       "      <td>Superheroes Are Everywhere</td>\n",
       "      <td>From Vice President Kamala Harris comes a pict...</td>\n",
       "      <td>4-7</td>\n",
       "    </tr>\n",
       "    <tr>\n",
       "      <th>12</th>\n",
       "      <td>Cat Kid Comic Club: From the Creator of Dog Man</td>\n",
       "      <td>A pioneering new graphic novel series by Dav P...</td>\n",
       "      <td>8-11</td>\n",
       "    </tr>\n",
       "    <tr>\n",
       "      <th>13</th>\n",
       "      <td>The Ickabog</td>\n",
       "      <td>From J.K. Rowling, a warm, fast-paced, funny f...</td>\n",
       "      <td>8-11</td>\n",
       "    </tr>\n",
       "    <tr>\n",
       "      <th>17</th>\n",
       "      <td>Paint by Sticker Kids: Zoo Animals: Create 10 ...</td>\n",
       "      <td>Paint a zoo full of animals with stickers!Step...</td>\n",
       "      <td>4-7</td>\n",
       "    </tr>\n",
       "    <tr>\n",
       "      <th>19</th>\n",
       "      <td>Bob Books, Set 1: Beginning Readers</td>\n",
       "      <td>Teach a child letter sounds with Bob Books Set...</td>\n",
       "      <td>4-7</td>\n",
       "    </tr>\n",
       "    <tr>\n",
       "      <th>20</th>\n",
       "      <td>Brown Bear, Brown Bear, What Do You See?</td>\n",
       "      <td>A big happy frog, a plump purple cat, a handso...</td>\n",
       "      <td>4-7</td>\n",
       "    </tr>\n",
       "    <tr>\n",
       "      <th>22</th>\n",
       "      <td>Dog Man: Grime and Punishment: From the Creato...</td>\n",
       "      <td>The mayor has had enough of Dog Man's shenanig...</td>\n",
       "      <td>8-11</td>\n",
       "    </tr>\n",
       "    <tr>\n",
       "      <th>24</th>\n",
       "      <td>Harry Potter and the Sorcerer's Stone: MinaLim...</td>\n",
       "      <td>A dazzling new edition of J.K. Rowling's Harry...</td>\n",
       "      <td>8-11</td>\n",
       "    </tr>\n",
       "    <tr>\n",
       "      <th>25</th>\n",
       "      <td>Love You Forever</td>\n",
       "      <td>A young woman holds her newborn sonAnd looks ...</td>\n",
       "      <td>4-7</td>\n",
       "    </tr>\n",
       "  </tbody>\n",
       "</table>\n",
       "</div>"
      ],
      "text/plain": [
       "                                                 Name  \\\n",
       "2                        If Animals Kissed Good Night   \n",
       "5                          Superheroes Are Everywhere   \n",
       "12    Cat Kid Comic Club: From the Creator of Dog Man   \n",
       "13                                        The Ickabog   \n",
       "17  Paint by Sticker Kids: Zoo Animals: Create 10 ...   \n",
       "19                Bob Books, Set 1: Beginning Readers   \n",
       "20           Brown Bear, Brown Bear, What Do You See?   \n",
       "22  Dog Man: Grime and Punishment: From the Creato...   \n",
       "24  Harry Potter and the Sorcerer's Stone: MinaLim...   \n",
       "25                                   Love You Forever   \n",
       "\n",
       "                                                 text Age_group  \n",
       "2   Don't miss the other books in this adorable se...       4-7  \n",
       "5   From Vice President Kamala Harris comes a pict...       4-7  \n",
       "12  A pioneering new graphic novel series by Dav P...      8-11  \n",
       "13  From J.K. Rowling, a warm, fast-paced, funny f...      8-11  \n",
       "17  Paint a zoo full of animals with stickers!Step...       4-7  \n",
       "19  Teach a child letter sounds with Bob Books Set...       4-7  \n",
       "20  A big happy frog, a plump purple cat, a handso...       4-7  \n",
       "22  The mayor has had enough of Dog Man's shenanig...      8-11  \n",
       "24  A dazzling new edition of J.K. Rowling's Harry...      8-11  \n",
       "25   A young woman holds her newborn sonAnd looks ...       4-7  "
      ]
     },
     "execution_count": 684,
     "metadata": {},
     "output_type": "execute_result"
    }
   ],
   "source": [
    "df[df['Kmeans_label']==5][['Name', 'text', 'Age_group']][:10]"
   ]
  },
  {
   "cell_type": "code",
   "execution_count": 685,
   "id": "832eaee7",
   "metadata": {},
   "outputs": [
    {
     "data": {
      "text/plain": [
       "(6, 210)"
      ]
     },
     "execution_count": 685,
     "metadata": {},
     "output_type": "execute_result"
    }
   ],
   "source": [
    "cluser_centers=km_cluster.cluster_centers_\n",
    "cluster_centers.shape"
   ]
  },
  {
   "cell_type": "code",
   "execution_count": 686,
   "id": "14779730",
   "metadata": {},
   "outputs": [],
   "source": [
    "def get_cluster_key(model, data, feature_names, clusters_num, top_n_features=10):\n",
    "    cluster_key={}\n",
    "    center_feature_order_idx=model.cluster_centers_.argsort()[:,::-1]\n",
    "    for cluster_num in range(clusters_num):\n",
    "        cluster_key[cluster_num]={}\n",
    "        cluster_key[cluster_num]['cluster']=cluster_num\n",
    "        \n",
    "        top_feature_idx=center_feature_order_idx[cluster_num, :top_n_features]\n",
    "        top_features=[feature_names[idx] for idx in top_feature_idx]\n",
    "        top_feature_values=model.cluster_centers_[cluster_num, top_feature_idx].tolist()\n",
    "        \n",
    "        cluster_key[cluster_num]['top_features']=top_features\n",
    "        cluster_key[cluster_num]['top_features_value']=top_feature_values\n",
    "        \n",
    "    return cluster_key           "
   ]
  },
  {
   "cell_type": "code",
   "execution_count": 687,
   "id": "0428e58a",
   "metadata": {},
   "outputs": [],
   "source": [
    "def print_cluster_key(cluster_key):\n",
    "    for cluster_num, cluster_keys in cluster_key.items():\n",
    "        print(f\"#### Cluster:\",{cluster_num})\n",
    "        print(f\"Top features:\", cluster_key[cluster_num]['top_features'])\n",
    "        print(\"-------------------------------------------\")\n",
    "              "
   ]
  },
  {
   "cell_type": "code",
   "execution_count": 688,
   "id": "7d92e325",
   "metadata": {},
   "outputs": [
    {
     "name": "stdout",
     "output_type": "stream",
     "text": [
      "#### Cluster: {0}\n",
      "Top features: ['set', 'series', 'boxed', 'book', 'boxed set', 'box', 'reader', 'adventure', 'new', 'bestselling']\n",
      "-------------------------------------------\n",
      "#### Cluster: {1}\n",
      "Top features: ['kid', 'child', 'learning', 'help', 'workbook', 'book', 'practice', 'fun', 'activity', 'skill']\n",
      "-------------------------------------------\n",
      "#### Cluster: {2}\n",
      "Top features: ['new', 'york', 'new york', 'york time', 'time', 'time bestselling', 'bestselling', 'book', '1 new', 'author']\n",
      "-------------------------------------------\n",
      "#### Cluster: {3}\n",
      "Top features: ['’', '’ s', 's', '”', '“', 'book', 'new', 'time', 't', '’ t']\n",
      "-------------------------------------------\n",
      "#### Cluster: {4}\n",
      "Top features: ['baby', 'little', 'book', 'board', 'board book', 'love', 'child', 'perfect', 'toddler', 'gift']\n",
      "-------------------------------------------\n",
      "#### Cluster: {5}\n",
      "Top features: ['book', 'story', 'child', 'day', 'ha', 'reader', 'friend', 'love', 'wa', 'world']\n",
      "-------------------------------------------\n"
     ]
    }
   ],
   "source": [
    "feature_names=tfidf_vect.get_feature_names()\n",
    "cluster_key=get_cluster_key(model=km_cluster, data=df, feature_names=feature_names, clusters_num=6, top_n_features=10)\n",
    "print_cluster_key(cluster_key)"
   ]
  },
  {
   "cell_type": "markdown",
   "id": "a57a0327",
   "metadata": {},
   "source": [
    "###### Findings\n",
    "-Cluster 0: Set, Series books\n",
    "\n",
    "-Cluster 1: Workbook for 4-7\n",
    "\n",
    "-Cluster 2: NewYork Times Best seller\n",
    "\n",
    "-Cluster 3: ?\n",
    "\n",
    "-Cluster 4: Kid/Infant/Toddler\n",
    "\n",
    "-Cluster 5: ?\n",
    "\n",
    "--> Since the distinction between each cluster is unclear, I will try cosine similarity analysis."
   ]
  },
  {
   "cell_type": "markdown",
   "id": "566b0363",
   "metadata": {},
   "source": [
    "##### 3.3.3. Cosine Similarity"
   ]
  },
  {
   "cell_type": "code",
   "execution_count": 689,
   "id": "61b113c3",
   "metadata": {},
   "outputs": [
    {
     "data": {
      "text/plain": [
       "(1200, 210)"
      ]
     },
     "execution_count": 689,
     "metadata": {},
     "output_type": "execute_result"
    }
   ],
   "source": [
    "feature_vect.shape"
   ]
  },
  {
   "cell_type": "code",
   "execution_count": 690,
   "id": "801f44c3",
   "metadata": {},
   "outputs": [],
   "source": [
    "cosine_sim=linear_kernel(feature_vect, feature_vect)"
   ]
  },
  {
   "cell_type": "code",
   "execution_count": 691,
   "id": "02550e2c",
   "metadata": {},
   "outputs": [],
   "source": [
    "indices=pd.Series(df.index, df['Name']).drop_duplicates()  "
   ]
  },
  {
   "cell_type": "markdown",
   "id": "b915b4ce",
   "metadata": {},
   "source": [
    "### 4. Model"
   ]
  },
  {
   "cell_type": "code",
   "execution_count": 692,
   "id": "62b63d2b",
   "metadata": {},
   "outputs": [],
   "source": [
    "#If the title is received, it will return a list of the top 30 books with the highest similarity.\n",
    "def get_recommendation(name, cosine_sim=cosine_sim, data=df):\n",
    "    idx=indices[name]\n",
    "    idx_rank=cosine_sim[idx].argsort()[::-1]\n",
    "    idx_top30=idx_rank[1:30]  \n",
    "    age_group=data[data['Name']==name]['Age_group'].values[0]\n",
    "    author=data[data['Name']==name]['Author'].values[0]\n",
    "    recomm_df=data.loc[idx_top20,['Name', 'Author', 'text', 'weighted_rating','Age_group','Link']]\n",
    "    recommendation_df=recomm_df[recomm_df['Age_group']==age_group][:5]\n",
    "    \n",
    "    return recommendation_df"
   ]
  },
  {
   "cell_type": "code",
   "execution_count": 701,
   "id": "d96f7625",
   "metadata": {},
   "outputs": [],
   "source": [
    "recommendation_df=get_recommendation(\"Bronco and Friends: A Party to Remember\")"
   ]
  },
  {
   "cell_type": "code",
   "execution_count": 702,
   "id": "3d071d85",
   "metadata": {},
   "outputs": [
    {
     "data": {
      "text/html": [
       "<div>\n",
       "<style scoped>\n",
       "    .dataframe tbody tr th:only-of-type {\n",
       "        vertical-align: middle;\n",
       "    }\n",
       "\n",
       "    .dataframe tbody tr th {\n",
       "        vertical-align: top;\n",
       "    }\n",
       "\n",
       "    .dataframe thead th {\n",
       "        text-align: right;\n",
       "    }\n",
       "</style>\n",
       "<table border=\"1\" class=\"dataframe\">\n",
       "  <thead>\n",
       "    <tr style=\"text-align: right;\">\n",
       "      <th></th>\n",
       "      <th>Name</th>\n",
       "      <th>Author</th>\n",
       "      <th>text</th>\n",
       "      <th>weighted_rating</th>\n",
       "      <th>Age_group</th>\n",
       "      <th>Link</th>\n",
       "    </tr>\n",
       "  </thead>\n",
       "  <tbody>\n",
       "    <tr>\n",
       "      <th>671</th>\n",
       "      <td>Last Stop on Market Street</td>\n",
       "      <td>Matt de la Peña</td>\n",
       "      <td>#1 New York Times Bestseller A USA Today Bests...</td>\n",
       "      <td>4.82</td>\n",
       "      <td>4-7</td>\n",
       "      <td>https://www.amazon.com/Last-Stop-Market-Street...</td>\n",
       "    </tr>\n",
       "    <tr>\n",
       "      <th>835</th>\n",
       "      <td>Duck and Hippo The Secret Valentine</td>\n",
       "      <td>Jonathan London</td>\n",
       "      <td>Join Duck, Hippo, and their friends as they un...</td>\n",
       "      <td>4.80</td>\n",
       "      <td>4-7</td>\n",
       "      <td>https://www.amazon.com/Hippo-Secret-Valentine-...</td>\n",
       "    </tr>\n",
       "    <tr>\n",
       "      <th>403</th>\n",
       "      <td>Ada Twist, Scientist</td>\n",
       "      <td>Andrea Beaty</td>\n",
       "      <td>A #1 New York Times Bestseller A Wall Street J...</td>\n",
       "      <td>4.83</td>\n",
       "      <td>4-7</td>\n",
       "      <td>https://www.amazon.com/Ada-Twist-Scientist-And...</td>\n",
       "    </tr>\n",
       "    <tr>\n",
       "      <th>808</th>\n",
       "      <td>I Want My Hat Back</td>\n",
       "      <td>Jon Klassen</td>\n",
       "      <td>A New York Times Best Illustrated Children's B...</td>\n",
       "      <td>4.76</td>\n",
       "      <td>4-7</td>\n",
       "      <td>https://www.amazon.com/I-Want-My-Hat-Back/dp/0...</td>\n",
       "    </tr>\n",
       "    <tr>\n",
       "      <th>1105</th>\n",
       "      <td>Speak Up</td>\n",
       "      <td>Miranda Paul</td>\n",
       "      <td>When something really matters, one voice can m...</td>\n",
       "      <td>4.80</td>\n",
       "      <td>4-7</td>\n",
       "      <td>https://www.amazon.com/Speak-Up-Miranda-Paul/d...</td>\n",
       "    </tr>\n",
       "  </tbody>\n",
       "</table>\n",
       "</div>"
      ],
      "text/plain": [
       "                                     Name           Author  \\\n",
       "671            Last Stop on Market Street  Matt de la Peña   \n",
       "835   Duck and Hippo The Secret Valentine  Jonathan London   \n",
       "403                  Ada Twist, Scientist     Andrea Beaty   \n",
       "808                    I Want My Hat Back      Jon Klassen   \n",
       "1105                             Speak Up     Miranda Paul   \n",
       "\n",
       "                                                   text  weighted_rating  \\\n",
       "671   #1 New York Times Bestseller A USA Today Bests...             4.82   \n",
       "835   Join Duck, Hippo, and their friends as they un...             4.80   \n",
       "403   A #1 New York Times Bestseller A Wall Street J...             4.83   \n",
       "808   A New York Times Best Illustrated Children's B...             4.76   \n",
       "1105  When something really matters, one voice can m...             4.80   \n",
       "\n",
       "     Age_group                                               Link  \n",
       "671        4-7  https://www.amazon.com/Last-Stop-Market-Street...  \n",
       "835        4-7  https://www.amazon.com/Hippo-Secret-Valentine-...  \n",
       "403        4-7  https://www.amazon.com/Ada-Twist-Scientist-And...  \n",
       "808        4-7  https://www.amazon.com/I-Want-My-Hat-Back/dp/0...  \n",
       "1105       4-7  https://www.amazon.com/Speak-Up-Miranda-Paul/d...  "
      ]
     },
     "execution_count": 702,
     "metadata": {},
     "output_type": "execute_result"
    }
   ],
   "source": [
    "recommendation_df"
   ]
  }
 ],
 "metadata": {
  "kernelspec": {
   "display_name": "Python 3",
   "language": "python",
   "name": "python3"
  },
  "language_info": {
   "codemirror_mode": {
    "name": "ipython",
    "version": 3
   },
   "file_extension": ".py",
   "mimetype": "text/x-python",
   "name": "python",
   "nbconvert_exporter": "python",
   "pygments_lexer": "ipython3",
   "version": "3.8.8"
  }
 },
 "nbformat": 4,
 "nbformat_minor": 5
}
